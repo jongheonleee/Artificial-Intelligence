{
  "cells": [
    {
      "cell_type": "markdown",
      "metadata": {
        "id": "view-in-github",
        "colab_type": "text"
      },
      "source": [
        "<a href=\"https://colab.research.google.com/github/jongheonleee/Artificial_Intelligence/blob/master/ch16_part2.ipynb\" target=\"_parent\"><img src=\"https://colab.research.google.com/assets/colab-badge.svg\" alt=\"Open In Colab\"/></a>"
      ]
    },
    {
      "cell_type": "code",
      "execution_count": 1,
      "metadata": {
        "colab": {
          "base_uri": "https://localhost:8080/",
          "height": 53
        },
        "id": "2ukTS-o0VcPD",
        "outputId": "7a6d9367-212b-4d2e-f0ad-217754cd4026"
      },
      "outputs": [
        {
          "output_type": "execute_result",
          "data": {
            "text/plain": [
              "'\\n목차\\n텐서플로로 시퀀스 모델링을 위한 RNN 구현하기\\n두 번째 프로젝트: 텐서플로로 글자 단위 언어 모델 구현\\n데이터셋 전처리\\n문자 수준의 RNN 모델 만들기\\n평가 단계 - 새로운 텍스트 생성\\n트랜스포머 모델을 사용한 언어 이해\\n셀프 어텐션 메카니즘 이해하기\\n셀프 어텐션 기본 구조\\n쿼리, 키, 값 가중치를 가진 셀프 어텐션 메카니즘\\n멀티-헤드 어텐션과 트랜스포머 블록\\n요약\\n\\n'"
            ],
            "application/vnd.google.colaboratory.intrinsic+json": {
              "type": "string"
            }
          },
          "metadata": {},
          "execution_count": 1
        }
      ],
      "source": [
        "'''\n",
        "목차\n",
        "텐서플로로 시퀀스 모델링을 위한 RNN 구현하기\n",
        "두 번째 프로젝트: 텐서플로로 글자 단위 언어 모델 구현\n",
        "데이터셋 전처리\n",
        "문자 수준의 RNN 모델 만들기\n",
        "평가 단계 - 새로운 텍스트 생성\n",
        "트랜스포머 모델을 사용한 언어 이해\n",
        "셀프 어텐션 메카니즘 이해하기\n",
        "셀프 어텐션 기본 구조\n",
        "쿼리, 키, 값 가중치를 가진 셀프 어텐션 메카니즘\n",
        "멀티-헤드 어텐션과 트랜스포머 블록\n",
        "요약\n",
        "\n",
        "'''\n"
      ]
    },
    {
      "cell_type": "code",
      "execution_count": 2,
      "metadata": {
        "colab": {
          "base_uri": "https://localhost:8080/",
          "height": 240
        },
        "id": "MkdL3Y6mXoXT",
        "outputId": "1e20af73-1cfe-4fee-ef8f-7190ae4039ac"
      },
      "outputs": [
        {
          "output_type": "execute_result",
          "data": {
            "text/html": [
              "<img src=\"https://git.io/JLdVE\" width=\"700\"/>"
            ],
            "text/plain": [
              "<IPython.core.display.Image object>"
            ]
          },
          "metadata": {},
          "execution_count": 2
        }
      ],
      "source": [
        "from IPython.display import Image\n",
        "\n",
        "### 두 번째 프로젝트: 텐서플로로 글자 단위 언어 모델 구현\n",
        "Image(url='https://git.io/JLdVE', width=700)"
      ]
    },
    {
      "cell_type": "code",
      "execution_count": 3,
      "metadata": {
        "colab": {
          "base_uri": "https://localhost:8080/"
        },
        "id": "S2VqPBJiXyE5",
        "outputId": "f6eed3f5-6e61-40e8-b6be-46887321b6b2"
      },
      "outputs": [
        {
          "output_type": "stream",
          "name": "stdout",
          "text": [
            "--2022-08-29 11:31:06--  https://raw.githubusercontent.com/rickiepark/python-machine-learning-book-3rd-edition/master/ch16/1268-0.txt\n",
            "Resolving raw.githubusercontent.com (raw.githubusercontent.com)... 185.199.110.133, 185.199.109.133, 185.199.111.133, ...\n",
            "Connecting to raw.githubusercontent.com (raw.githubusercontent.com)|185.199.110.133|:443... connected.\n",
            "HTTP request sent, awaiting response... 200 OK\n",
            "Length: 1171600 (1.1M) [text/plain]\n",
            "Saving to: ‘1268-0.txt’\n",
            "\n",
            "1268-0.txt          100%[===================>]   1.12M  --.-KB/s    in 0.05s   \n",
            "\n",
            "2022-08-29 11:31:06 (21.2 MB/s) - ‘1268-0.txt’ saved [1171600/1171600]\n",
            "\n"
          ]
        }
      ],
      "source": [
        "### 데이터셋 전처리\n",
        "\n",
        "# 코랩에서 실행할 경우 다음 코드를 실행해 주세요.\n",
        "!wget https://raw.githubusercontent.com/rickiepark/python-machine-learning-book-3rd-edition/master/ch16/1268-0.txt"
      ]
    },
    {
      "cell_type": "code",
      "execution_count": 4,
      "metadata": {
        "colab": {
          "base_uri": "https://localhost:8080/"
        },
        "id": "RMh1ZTL5X-iu",
        "outputId": "4ac8e9a4-3ab0-4a8d-a3c2-5fec999a106a"
      },
      "outputs": [
        {
          "output_type": "stream",
          "name": "stdout",
          "text": [
            "567 1112917\n",
            "전체 길이: 1112350\n",
            "고유한 문자: 80\n"
          ]
        }
      ],
      "source": [
        "import numpy as np\n",
        "\n",
        "with open('1268-0.txt', 'r', encoding='UTF8') as fp:\n",
        "  text = fp.read()\n",
        "\n",
        "start_indx = text.find('THE MYSTERIOUS ISLAND')\n",
        "end_indx = text.find('End of the Project Gutenberg')\n",
        "print(start_indx, end_indx)\n",
        "\n",
        "text = text[start_indx:end_indx]\n",
        "char_set = set(text)\n",
        "\n",
        "print('전체 길이:', len(text))\n",
        "print('고유한 문자:', len(char_set))"
      ]
    },
    {
      "cell_type": "code",
      "execution_count": 5,
      "metadata": {
        "colab": {
          "base_uri": "https://localhost:8080/",
          "height": 288
        },
        "id": "wBUUjSNwYnND",
        "outputId": "8b390752-24be-4693-fdd9-cd6a5e17b7e7"
      },
      "outputs": [
        {
          "output_type": "execute_result",
          "data": {
            "text/html": [
              "<img src=\"https://git.io/JLdVz\" width=\"700\"/>"
            ],
            "text/plain": [
              "<IPython.core.display.Image object>"
            ]
          },
          "metadata": {},
          "execution_count": 5
        }
      ],
      "source": [
        "Image(url='https://git.io/JLdVz', width=700)"
      ]
    },
    {
      "cell_type": "code",
      "execution_count": 6,
      "metadata": {
        "colab": {
          "base_uri": "https://localhost:8080/"
        },
        "id": "kyv_Ogw7YsTR",
        "outputId": "287b5deb-db4c-4312-dd4f-0429967cfdf1"
      },
      "outputs": [
        {
          "output_type": "stream",
          "name": "stdout",
          "text": [
            "인코딩된 텍스트 크기: (1112350,)\n",
            "THE MYSTERIOUS       ==인코딩==> [44 32 29  1 37 48 43 44 29 42 33 39 45 43  1]\n",
            "[33 43 36 25 38 28]  ==디코딩==> ISLAND\n"
          ]
        }
      ],
      "source": [
        "chars_sorted = sorted(char_set)\n",
        "char2int = {ch: i for i, ch in enumerate(chars_sorted)}\n",
        "char_array = np.array(chars_sorted)\n",
        "\n",
        "text_encoded = np.array(\n",
        "    [char2int[ch] for ch in text],\n",
        "    dtype=np.int32\n",
        ")\n",
        "\n",
        "print('인코딩된 텍스트 크기:', text_encoded.shape)\n",
        "\n",
        "print(text[:15], '     ==인코딩==>', text_encoded[:15])\n",
        "print(text_encoded[15:21], ' ==디코딩==>', ''.join(char_array[text_encoded[15:21]]))"
      ]
    },
    {
      "cell_type": "code",
      "execution_count": 7,
      "metadata": {
        "colab": {
          "base_uri": "https://localhost:8080/",
          "height": 419
        },
        "id": "7TvWko6bZobO",
        "outputId": "8e855d3a-61f7-40f6-c433-d96ca9d85b94"
      },
      "outputs": [
        {
          "output_type": "execute_result",
          "data": {
            "text/html": [
              "<img src=\"https://git.io/JLdVV\" width=\"700\"/>"
            ],
            "text/plain": [
              "<IPython.core.display.Image object>"
            ]
          },
          "metadata": {},
          "execution_count": 7
        }
      ],
      "source": [
        "Image(url='https://git.io/JLdVV', width=700)"
      ]
    },
    {
      "cell_type": "code",
      "execution_count": 8,
      "metadata": {
        "colab": {
          "base_uri": "https://localhost:8080/"
        },
        "id": "M5pp6VqJaKs0",
        "outputId": "bf8fc18b-2dda-495f-d2ef-96180fcbdaa0"
      },
      "outputs": [
        {
          "output_type": "stream",
          "name": "stdout",
          "text": [
            "44 -> T\n",
            "32 -> H\n",
            "29 -> E\n",
            "1 ->  \n",
            "37 -> M\n"
          ]
        }
      ],
      "source": [
        "import tensorflow as tf\n",
        "\n",
        "\n",
        "ds_text_encoded = tf.data.Dataset.from_tensor_slices(text_encoded)\n",
        "\n",
        "for ex in ds_text_encoded.take(5):\n",
        "  print('{} -> {}'.format(ex.numpy(), char_array[ex.numpy()]))"
      ]
    },
    {
      "cell_type": "code",
      "execution_count": 9,
      "metadata": {
        "colab": {
          "base_uri": "https://localhost:8080/"
        },
        "id": "MiCUOmfYajkQ",
        "outputId": "e8881df0-a345-4f5f-db39-82864ab7f0b3"
      },
      "outputs": [
        {
          "output_type": "stream",
          "name": "stdout",
          "text": [
            "<BatchDataset element_spec=TensorSpec(shape=(41,), dtype=tf.int32, name=None)>\n",
            "[44 32 29  1 37 48 43 44 29 42 33 39 45 43  1 33 43 36 25 38 28  1  6  6\n",
            "  6  0  0  0  0  0 40 67 64 53 70 52 54 53  1 51]  -> 74\n",
            "'THE MYSTERIOUS ISLAND ***\\n\\n\\n\\n\\nProduced b'  -> 'y'\n"
          ]
        }
      ],
      "source": [
        "seq_length = 40\n",
        "chunk_size = seq_length + 1\n",
        "\n",
        "ds_chunks = ds_text_encoded.batch(chunk_size, drop_remainder=True)\n",
        "\n",
        "print(ds_chunks)\n",
        "\n",
        "## inspection:\n",
        "for seq in ds_chunks.take(1):\n",
        "  input_seq = seq[:seq_length].numpy()\n",
        "  target = seq[seq_length].numpy()\n",
        "  print(input_seq, ' ->', target)\n",
        "  print(repr(''.join(char_array[input_seq])),\n",
        "        ' ->', repr(''.join(char_array[target])))"
      ]
    },
    {
      "cell_type": "code",
      "execution_count": 10,
      "metadata": {
        "colab": {
          "base_uri": "https://localhost:8080/",
          "height": 514
        },
        "id": "EwTLTy4WbMhv",
        "outputId": "d183e5eb-db9e-426e-f274-76aa0b40f97b"
      },
      "outputs": [
        {
          "output_type": "execute_result",
          "data": {
            "text/html": [
              "<img src=\"https://git.io/JLdVr\" width=\"700\"/>"
            ],
            "text/plain": [
              "<IPython.core.display.Image object>"
            ]
          },
          "metadata": {},
          "execution_count": 10
        }
      ],
      "source": [
        "Image(url='https://git.io/JLdVr', width=700)"
      ]
    },
    {
      "cell_type": "code",
      "execution_count": 11,
      "metadata": {
        "colab": {
          "base_uri": "https://localhost:8080/"
        },
        "id": "Vu3U4zLFbTA8",
        "outputId": "0d531020-3e52-4c96-82fa-cef7938b88d7"
      },
      "outputs": [
        {
          "output_type": "stream",
          "name": "stdout",
          "text": [
            "입력 (x): 'THE MYSTERIOUS ISLAND ***\\n\\n\\n\\n\\nProduced b'\n",
            "타깃 (y): 'HE MYSTERIOUS ISLAND ***\\n\\n\\n\\n\\nProduced by'\n",
            "\n",
            "입력 (x): ' Anthony Matonak, and Trevor Carlson\\n\\n\\n\\n'\n",
            "타깃 (y): 'Anthony Matonak, and Trevor Carlson\\n\\n\\n\\n\\n'\n",
            "\n"
          ]
        }
      ],
      "source": [
        "# x & y를 나누기 위한 함수를 정의함\n",
        "def split_input_target(chunk):\n",
        "  input_seq = chunk[:-1]\n",
        "  target_seq = chunk[1:]\n",
        "\n",
        "  return input_seq, target_seq\n",
        "\n",
        "ds_sequences = ds_chunks.map(split_input_target)\n",
        "\n",
        "for example in ds_sequences.take(2):\n",
        "  # print(example)\n",
        "  print('입력 (x):', repr(''.join(char_array[example[0].numpy()])))\n",
        "  print('타깃 (y):', repr(''.join(char_array[example[1].numpy()])))\n",
        "  print()"
      ]
    },
    {
      "cell_type": "code",
      "execution_count": 12,
      "metadata": {
        "colab": {
          "base_uri": "https://localhost:8080/"
        },
        "id": "-eMRiwAtjDeO",
        "outputId": "5ddb80cb-11c9-4722-a398-9d24b68b972a"
      },
      "outputs": [
        {
          "output_type": "execute_result",
          "data": {
            "text/plain": [
              "<BatchDataset element_spec=(TensorSpec(shape=(None, 40), dtype=tf.int32, name=None), TensorSpec(shape=(None, 40), dtype=tf.int32, name=None))>"
            ]
          },
          "metadata": {},
          "execution_count": 12
        }
      ],
      "source": [
        "# 배치 크기\n",
        "BATCH_SIZE = 64\n",
        "BUFFER_SIZE = 10000\n",
        "\n",
        "tf.random.set_seed(1)\n",
        "ds = ds_sequences.shuffle(BUFFER_SIZE).batch(BATCH_SIZE)\n",
        "\n",
        "ds"
      ]
    },
    {
      "cell_type": "code",
      "execution_count": 13,
      "metadata": {
        "colab": {
          "base_uri": "https://localhost:8080/"
        },
        "id": "GoLFryVWkEu7",
        "outputId": "e8bf2096-7031-446c-cf0f-69e4b6e208a5"
      },
      "outputs": [
        {
          "output_type": "stream",
          "name": "stdout",
          "text": [
            "Model: \"sequential\"\n",
            "_________________________________________________________________\n",
            " Layer (type)                Output Shape              Param #   \n",
            "=================================================================\n",
            " embedding (Embedding)       (None, None, 256)         20480     \n",
            "                                                                 \n",
            " lstm (LSTM)                 (None, None, 512)         1574912   \n",
            "                                                                 \n",
            " dense (Dense)               (None, None, 80)          41040     \n",
            "                                                                 \n",
            "=================================================================\n",
            "Total params: 1,636,432\n",
            "Trainable params: 1,636,432\n",
            "Non-trainable params: 0\n",
            "_________________________________________________________________\n"
          ]
        }
      ],
      "source": [
        "# 문자 수준의 RNN 모델 만들기\n",
        "\n",
        "\n",
        "def build_model(vocab_size, embedding_dim, rnn_units):\n",
        "    model = tf.keras.Sequential([\n",
        "        tf.keras.layers.Embedding(vocab_size, embedding_dim),\n",
        "        tf.keras.layers.LSTM(\n",
        "            rnn_units, return_sequences=True),\n",
        "        tf.keras.layers.Dense(vocab_size)\n",
        "    ])\n",
        "    return model\n",
        "\n",
        "\n",
        "charset_size = len(char_array)\n",
        "embedding_dim = 256\n",
        "rnn_units = 512\n",
        "\n",
        "tf.random.set_seed(1)\n",
        "\n",
        "model = build_model(\n",
        "    vocab_size = charset_size,\n",
        "    embedding_dim=embedding_dim,\n",
        "    rnn_units=rnn_units)\n",
        "\n",
        "model.summary()"
      ]
    },
    {
      "cell_type": "code",
      "execution_count": null,
      "metadata": {
        "colab": {
          "base_uri": "https://localhost:8080/"
        },
        "id": "f-rrY4N3k_QI",
        "outputId": "9d88ad07-302a-4309-e78c-4c8d39871a8d"
      },
      "outputs": [
        {
          "output_type": "stream",
          "name": "stdout",
          "text": [
            "Epoch 1/20\n",
            "424/424 [==============================] - 408s 944ms/step - loss: 2.3212\n",
            "Epoch 2/20\n",
            "424/424 [==============================] - 401s 944ms/step - loss: 1.7581\n",
            "Epoch 3/20\n",
            "424/424 [==============================] - 404s 952ms/step - loss: 1.5524\n",
            "Epoch 4/20\n",
            "424/424 [==============================] - 455s 1s/step - loss: 1.4330\n",
            "Epoch 5/20\n",
            "424/424 [==============================] - 426s 1s/step - loss: 1.3577\n",
            "Epoch 6/20\n",
            "424/424 [==============================] - 431s 1s/step - loss: 1.3056\n",
            "Epoch 7/20\n",
            "424/424 [==============================] - 471s 1s/step - loss: 1.2657\n",
            "Epoch 8/20\n",
            "424/424 [==============================] - 469s 1s/step - loss: 1.2340\n",
            "Epoch 9/20\n",
            "424/424 [==============================] - 472s 1s/step - loss: 1.2086\n",
            "Epoch 10/20\n",
            "424/424 [==============================] - 458s 1s/step - loss: 1.1860\n",
            "Epoch 11/20\n",
            "424/424 [==============================] - 424s 999ms/step - loss: 1.1666\n",
            "Epoch 12/20\n",
            " 74/424 [====>.........................] - ETA: 5:45 - loss: 1.1586"
          ]
        }
      ],
      "source": [
        "model.compile(\n",
        "    optimizer='adam',\n",
        "    loss = tf.keras.losses.SparseCategoricalCrossentropy(\n",
        "        from_logits=True\n",
        "    )\n",
        ")\n",
        "\n",
        "model.fit(ds, epochs=20)"
      ]
    },
    {
      "cell_type": "code",
      "execution_count": 15,
      "metadata": {
        "id": "_7ENJRRZi2d_",
        "colab": {
          "base_uri": "https://localhost:8080/"
        },
        "outputId": "2d7d8e73-426e-4634-a8e3-b51374702975"
      },
      "outputs": [
        {
          "output_type": "stream",
          "name": "stdout",
          "text": [
            "확률: [0.33333334 0.33333334 0.33333334]\n",
            "array([[0, 0, 1, 2, 0, 0, 0, 0, 1, 0]])\n"
          ]
        }
      ],
      "source": [
        "# 평가 단계 - 새로운 텍스트 생성\n",
        "\n",
        "tf.random.set_seed(1)\n",
        "\n",
        "logits = [[1.0, 1.0, 1.0]]\n",
        "print('확률:', tf.math.softmax(logits).numpy()[0])\n",
        "\n",
        "samples = tf.random.categorical(\n",
        "    logits=logits, num_samples=10\n",
        ")\n",
        "\n",
        "tf.print(samples.numpy())"
      ]
    },
    {
      "cell_type": "code",
      "execution_count": 16,
      "metadata": {
        "id": "M2eRAP0ljRTP",
        "colab": {
          "base_uri": "https://localhost:8080/"
        },
        "outputId": "acf280c5-5435-4879-f2b6-b11dc49533fa"
      },
      "outputs": [
        {
          "output_type": "stream",
          "name": "stdout",
          "text": [
            "확률: [0.10650698 0.10650698 0.78698605]\n",
            "array([[2, 0, 2, 2, 2, 0, 1, 2, 2, 0]])\n"
          ]
        }
      ],
      "source": [
        "tf.random.set_seed(1)\n",
        "\n",
        "logits = [[1.0, 1.0, 3.0]]\n",
        "print('확률:', tf.math.softmax(logits).numpy()[0])\n",
        "\n",
        "samples = tf.random.categorical(\n",
        "    logits=logits, num_samples=10\n",
        ")\n",
        "tf.print(samples.numpy())\n"
      ]
    },
    {
      "cell_type": "code",
      "execution_count": 17,
      "metadata": {
        "id": "hu5DHMavjkKf",
        "colab": {
          "base_uri": "https://localhost:8080/"
        },
        "outputId": "c4d74c70-5de6-4e56-afa7-6c963db3352f"
      },
      "outputs": [
        {
          "output_type": "stream",
          "name": "stdout",
          "text": [
            "The island may be began to communicate thirty earth to exist in the corral. To make them served as from the mouth of the island. In this degient had become very used for cementation. They must then we have no\n",
            "matter of stea, merimes, for there was nothing to defend more than the corral.”\n",
            "\n",
            "“That is there!” said Cyrus Harding, “back one prove at the try,” asked Herbert. “How will friend down, thir branches were kelighing. Also that therefore, before grew two days\n",
            "aloped upon him. The upper water appeared to\n"
          ]
        }
      ],
      "source": [
        "def sample(model, starting_str, \n",
        "           len_generated_text=500,\n",
        "           max_input_length=40,\n",
        "           scale_factor=1.0):\n",
        "  encoded_input = [char2int[s] for s in starting_str]\n",
        "  encoded_input = tf.reshape(encoded_input, (1, -1))\n",
        "\n",
        "  generated_str = starting_str\n",
        "\n",
        "  model.reset_states()\n",
        "  for i in range(len_generated_text):\n",
        "    logits = model(encoded_input)\n",
        "    logits = tf.squeeze(logits, 0)\n",
        "\n",
        "    scaled_logits = logits * scale_factor\n",
        "    new_char_indx = tf.random.categorical(\n",
        "        scaled_logits, num_samples=1\n",
        "    )\n",
        "\n",
        "    new_char_indx = tf.squeeze(new_char_indx)[-1].numpy()\n",
        "\n",
        "    generated_str += str(char_array[new_char_indx])\n",
        "\n",
        "    new_char_indx = tf.expand_dims([new_char_indx], 0)\n",
        "    encoded_input = tf.concat(\n",
        "        [encoded_input, new_char_indx],\n",
        "        axis = 1\n",
        "    )\n",
        "    encoded_input = encoded_input[:, -max_input_length:]\n",
        "\n",
        "  return generated_str\n",
        "\n",
        "tf.random.set_seed(1)\n",
        "print(sample(model, starting_str='The island'))\n"
      ]
    },
    {
      "cell_type": "code",
      "execution_count": null,
      "metadata": {
        "id": "MdyEprjLlEc-"
      },
      "outputs": [],
      "source": [
        "# 예측 가능성 대 무작위성\n",
        "\n",
        "logits = np.array([[1.0, 1.0, 3.0]])\n",
        "\n",
        "print('스케일 조정 전의 확률:', tf.math.softmax(logits).numpy()[0])\n",
        "print('0.5배 조정 후 확률:', tf.math.softmax(0.5*logits).numpy()[0])\n",
        "print('0.1배 조정 후 확률:', tf.math.softmax(0.1*logits).numpy()[0])"
      ]
    },
    {
      "cell_type": "code",
      "execution_count": 19,
      "metadata": {
        "id": "QgA20zFplj62",
        "colab": {
          "base_uri": "https://localhost:8080/"
        },
        "outputId": "d8c2e888-0eca-43e7-a3ea-2277eb2ab81b"
      },
      "outputs": [
        {
          "metadata": {
            "tags": null
          },
          "name": "stdout",
          "output_type": "stream",
          "text": [
            "The island had occarcadness obliquesion, throm\n",
            "Clan\n",
            "pideo--amone,-fullows, oryajenquib upon the Heighmoom.\n",
            "\n",
            "Oncheasides, grouse. He termed, angxied\n",
            "he applishererso,\n",
            "inStead draw over. Grong Herald.”\n",
            "\n",
            "This oughly understood\n",
            "did these imagination. Where.”\n",
            "\n",
            "“Did kepteom, criking. Feor drox cone eromitions), livea, pheoc! Ribod la-: Aurtestit,\n",
            "Cyrus,-vizent\n",
            "when\n",
            "He hinked, without human\n",
            "inlriseply.\n",
            "\n",
            "The poorliegh! HeBberm:”\n",
            "\n",
            "“Thodams?” exsmopo: Halbon.”\n",
            "sapth?\n",
            "\n",
            "Cabfort outen, and princoppie.”\n",
            "\n",
            "Loich Bobtion \n"
          ]
        }
      ],
      "source": [
        "tf.random.set_seed(1)\n",
        "print(sample(model, starting_str='The island',\n",
        "             scale_factor=0.5))\n"
      ]
    },
    {
      "cell_type": "code",
      "execution_count": 20,
      "metadata": {
        "id": "ztLnzAS0lxZj",
        "colab": {
          "base_uri": "https://localhost:8080/",
          "height": 350
        },
        "outputId": "25db0328-4732-4572-a107-22524b2784c0"
      },
      "outputs": [
        {
          "data": {
            "text/html": [
              "<img src=\"https://git.io/JLdVo\" width=\"700\"/>"
            ],
            "text/plain": [
              "<IPython.core.display.Image object>"
            ]
          },
          "execution_count": 20,
          "metadata": {},
          "output_type": "execute_result"
        }
      ],
      "source": [
        "'''\n",
        "트랜스포머 모델을 사용한 언어 이해\n",
        "셀프 어텐션 메카니즘 이해하기\n",
        "셀프 어텐션 기본 구조\n",
        "'''\n",
        "Image(url='https://git.io/JLdVo', width=700)"
      ]
    },
    {
      "cell_type": "code",
      "execution_count": 21,
      "metadata": {
        "id": "JN2KhrHil2zi",
        "colab": {
          "base_uri": "https://localhost:8080/",
          "height": 540
        },
        "outputId": "6a43ffcb-bbd1-4433-97c8-6882c8c6dfb8"
      },
      "outputs": [
        {
          "data": {
            "text/html": [
              "<img src=\"https://git.io/JLdV6\" width=\"700\"/>"
            ],
            "text/plain": [
              "<IPython.core.display.Image object>"
            ]
          },
          "execution_count": 21,
          "metadata": {},
          "output_type": "execute_result"
        },
        {
          "output_type": "execute_result",
          "data": {
            "text/html": [
              "<img src=\"https://git.io/JLdV6\" width=\"700\"/>"
            ],
            "text/plain": [
              "<IPython.core.display.Image object>"
            ]
          },
          "metadata": {},
          "execution_count": 21
        }
      ],
      "source": [
        "'''\n",
        "쿼리, 키, 값 가중치를 가진 셀프 어텐션 메카니즘\n",
        "멀티-헤드 어텐션과 트랜스포머 블록\n",
        "'''\n",
        "\n",
        "Image(url='https://git.io/JLdV6', width=700)"
      ]
    },
    {
      "cell_type": "code",
      "execution_count": 21,
      "metadata": {
        "id": "aCYlfkiDl6Ks"
      },
      "outputs": [],
      "source": []
    }
  ],
  "metadata": {
    "colab": {
      "collapsed_sections": [],
      "name": "ch16_part2.ipynb",
      "provenance": [],
      "authorship_tag": "ABX9TyPdcE5KPAJiaasTe0PDfyWC",
      "include_colab_link": true
    },
    "kernelspec": {
      "display_name": "Python 3",
      "name": "python3"
    },
    "language_info": {
      "name": "python"
    }
  },
  "nbformat": 4,
  "nbformat_minor": 0
}