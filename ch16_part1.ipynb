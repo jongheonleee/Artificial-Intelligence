{
  "nbformat": 4,
  "nbformat_minor": 0,
  "metadata": {
    "colab": {
      "name": "ch16_part1.ipynb",
      "provenance": [],
      "collapsed_sections": [],
      "authorship_tag": "ABX9TyPTj2m8ZszcWc863aSN0y26",
      "include_colab_link": true
    },
    "kernelspec": {
      "name": "python3",
      "display_name": "Python 3"
    },
    "language_info": {
      "name": "python"
    }
  },
  "cells": [
    {
      "cell_type": "markdown",
      "metadata": {
        "id": "view-in-github",
        "colab_type": "text"
      },
      "source": [
        "<a href=\"https://colab.research.google.com/github/jongheonleee/Artificial_Intelligence/blob/master/ch16_part1.ipynb\" target=\"_parent\"><img src=\"https://colab.research.google.com/assets/colab-badge.svg\" alt=\"Open In Colab\"/></a>"
      ]
    },
    {
      "cell_type": "code",
      "execution_count": 1,
      "metadata": {
        "id": "SoTwf5HDaa_4"
      },
      "outputs": [],
      "source": [
        "\n",
        "from IPython.display import Image"
      ]
    },
    {
      "cell_type": "code",
      "source": [
        "# 시퀀스의 표현\n",
        "# 시계열 시퀀스\n",
        "Image(url='https://git.io/JLdVm', width=700)"
      ],
      "metadata": {
        "colab": {
          "base_uri": "https://localhost:8080/",
          "height": 303
        },
        "id": "O_ZARReKcDqZ",
        "outputId": "991746e2-12f8-44af-db3d-37ba7917f537"
      },
      "execution_count": 2,
      "outputs": [
        {
          "output_type": "execute_result",
          "data": {
            "text/html": [
              "<img src=\"https://git.io/JLdVm\" width=\"700\"/>"
            ],
            "text/plain": [
              "<IPython.core.display.Image object>"
            ]
          },
          "metadata": {},
          "execution_count": 2
        }
      ]
    },
    {
      "cell_type": "code",
      "source": [
        "# 시퀀스 모델링의 종류\n",
        "\n",
        "Image(url='https://git.io/JLdVO', width=700)"
      ],
      "metadata": {
        "colab": {
          "base_uri": "https://localhost:8080/",
          "height": 447
        },
        "id": "pE-GoOHMcEup",
        "outputId": "dcd0888a-7812-403a-cd46-a14b79848704"
      },
      "execution_count": 3,
      "outputs": [
        {
          "output_type": "execute_result",
          "data": {
            "text/html": [
              "<img src=\"https://git.io/JLdVO\" width=\"700\"/>"
            ],
            "text/plain": [
              "<IPython.core.display.Image object>"
            ]
          },
          "metadata": {},
          "execution_count": 3
        }
      ]
    },
    {
      "cell_type": "code",
      "source": [
        "# 시퀀스 모델링을 위한 RNN\n",
        "\n",
        "# RNN 반복 구조 이해하기\n",
        "\n",
        "\n",
        "Image(url='https://git.io/JLdV3', width=700)"
      ],
      "metadata": {
        "colab": {
          "base_uri": "https://localhost:8080/",
          "height": 332
        },
        "id": "1RlNU8twc268",
        "outputId": "8f310263-9ba5-49a9-c2f7-42eba297aa9e"
      },
      "execution_count": 4,
      "outputs": [
        {
          "output_type": "execute_result",
          "data": {
            "text/html": [
              "<img src=\"https://git.io/JLdV3\" width=\"700\"/>"
            ],
            "text/plain": [
              "<IPython.core.display.Image object>"
            ]
          },
          "metadata": {},
          "execution_count": 4
        }
      ]
    },
    {
      "cell_type": "code",
      "source": [
        "Image(url='https://git.io/JLdVs', width=700)"
      ],
      "metadata": {
        "colab": {
          "base_uri": "https://localhost:8080/",
          "height": 634
        },
        "id": "w8fN_T60c9of",
        "outputId": "a0cd24ab-7115-462c-e051-14aa2cb1006d"
      },
      "execution_count": 5,
      "outputs": [
        {
          "output_type": "execute_result",
          "data": {
            "text/html": [
              "<img src=\"https://git.io/JLdVs\" width=\"700\"/>"
            ],
            "text/plain": [
              "<IPython.core.display.Image object>"
            ]
          },
          "metadata": {},
          "execution_count": 5
        }
      ]
    },
    {
      "cell_type": "code",
      "source": [
        "# RNN의 활성화 출력 계산\n",
        "Image(url='https://git.io/JLdVC', width=700)"
      ],
      "metadata": {
        "colab": {
          "base_uri": "https://localhost:8080/",
          "height": 315
        },
        "id": "XmeRLpimgCQd",
        "outputId": "b0048690-9c32-4e0e-cdbf-2701ff744b47"
      },
      "execution_count": 6,
      "outputs": [
        {
          "output_type": "execute_result",
          "data": {
            "text/html": [
              "<img src=\"https://git.io/JLdVC\" width=\"700\"/>"
            ],
            "text/plain": [
              "<IPython.core.display.Image object>"
            ]
          },
          "metadata": {},
          "execution_count": 6
        }
      ]
    },
    {
      "cell_type": "code",
      "source": [
        "Image(url='https://git.io/JLdVW', width=700)"
      ],
      "metadata": {
        "colab": {
          "base_uri": "https://localhost:8080/",
          "height": 393
        },
        "id": "O5H7vUEthKLc",
        "outputId": "35110e76-77fe-4294-afd5-26b86a553989"
      },
      "execution_count": 7,
      "outputs": [
        {
          "output_type": "execute_result",
          "data": {
            "text/html": [
              "<img src=\"https://git.io/JLdVW\" width=\"700\"/>"
            ],
            "text/plain": [
              "<IPython.core.display.Image object>"
            ]
          },
          "metadata": {},
          "execution_count": 7
        }
      ]
    },
    {
      "cell_type": "code",
      "source": [
        "# 은닉 순환과 출력 순환\n",
        "Image(url='https://git.io/JLdV8', width=700)"
      ],
      "metadata": {
        "colab": {
          "base_uri": "https://localhost:8080/",
          "height": 623
        },
        "id": "4BC9ER6shUdv",
        "outputId": "de439dc2-1f23-4bfc-921e-29f33c806f03"
      },
      "execution_count": 8,
      "outputs": [
        {
          "output_type": "execute_result",
          "data": {
            "text/html": [
              "<img src=\"https://git.io/JLdV8\" width=\"700\"/>"
            ],
            "text/plain": [
              "<IPython.core.display.Image object>"
            ]
          },
          "metadata": {},
          "execution_count": 8
        }
      ]
    },
    {
      "cell_type": "code",
      "source": [
        "import tensorflow as tf\n",
        "\n",
        "tf.random.set_seed(1)\n",
        "\n",
        "rnn_layer = tf.keras.layers.SimpleRNN(\n",
        "    units=2, use_bias=True,\n",
        "    return_sequences=True)\n",
        "\n",
        "rnn_layer.build(input_shape=(None, None, 5))\n",
        "\n",
        "w_xh, w_oo, b_h = rnn_layer.weights\n",
        "\n",
        "print('W_xh 크기:', w_xh.shape)\n",
        "print('W_oo 크기:', w_oo.shape)\n",
        "print('b_h 크기:', b_h.shape)"
      ],
      "metadata": {
        "colab": {
          "base_uri": "https://localhost:8080/"
        },
        "id": "_8f9mfzsj1o5",
        "outputId": "b234fd4f-95e5-4728-9349-f4d6ad95e28f"
      },
      "execution_count": 9,
      "outputs": [
        {
          "output_type": "stream",
          "name": "stdout",
          "text": [
            "W_xh 크기: (5, 2)\n",
            "W_oo 크기: (2, 2)\n",
            "b_h 크기: (2,)\n"
          ]
        }
      ]
    },
    {
      "cell_type": "code",
      "source": [
        "x_seq = tf.convert_to_tensor(\n",
        "    [[1.0]*5, [2.0]*5, [3.0]*5],\n",
        "    dtype=tf.float32)\n",
        "\n",
        "\n",
        "## SimepleRNN의 출력:\n",
        "output = rnn_layer(tf.reshape(x_seq, shape=(1, 3, 5)))\n",
        "\n",
        "## 수동으로 출력 계산하기:\n",
        "out_man = []\n",
        "for t in range(len(x_seq)):\n",
        "    xt = tf.reshape(x_seq[t], (1, 5))\n",
        "    print('타임 스텝 {} =>'.format(t))\n",
        "    print('   입력           :', xt.numpy())\n",
        "    \n",
        "    ht = tf.matmul(xt, w_xh) + b_h    \n",
        "    print('   은닉           :', ht.numpy())\n",
        "    \n",
        "    if t>0:\n",
        "        prev_o = out_man[t-1]\n",
        "    else:\n",
        "        prev_o = tf.zeros(shape=(ht.shape))\n",
        "        \n",
        "    ot = ht + tf.matmul(prev_o, w_oo)\n",
        "    ot = tf.math.tanh(ot)\n",
        "    out_man.append(ot)\n",
        "    print('   출력 (수동)     :', ot.numpy())\n",
        "    print('   SimpleRNN 출력 :'.format(t), output[0][t].numpy())\n",
        "    print()"
      ],
      "metadata": {
        "colab": {
          "base_uri": "https://localhost:8080/"
        },
        "id": "E9wUbkaDkxtP",
        "outputId": "60831876-cb92-4f94-b70d-8dc395e40740"
      },
      "execution_count": 10,
      "outputs": [
        {
          "output_type": "stream",
          "name": "stdout",
          "text": [
            "타임 스텝 0 =>\n",
            "   입력           : [[1. 1. 1. 1. 1.]]\n",
            "   은닉           : [[0.41464037 0.96012145]]\n",
            "   출력 (수동)     : [[0.39240566 0.74433106]]\n",
            "   SimpleRNN 출력 : [0.39240566 0.74433106]\n",
            "\n",
            "타임 스텝 1 =>\n",
            "   입력           : [[2. 2. 2. 2. 2.]]\n",
            "   은닉           : [[0.82928073 1.9202429 ]]\n",
            "   출력 (수동)     : [[0.80116504 0.99129474]]\n",
            "   SimpleRNN 출력 : [0.80116504 0.99129474]\n",
            "\n",
            "타임 스텝 2 =>\n",
            "   입력           : [[3. 3. 3. 3. 3.]]\n",
            "   은닉           : [[1.243921  2.8803642]]\n",
            "   출력 (수동)     : [[0.95468265 0.99930704]]\n",
            "   SimpleRNN 출력 : [0.95468265 0.99930704]\n",
            "\n"
          ]
        }
      ]
    },
    {
      "cell_type": "code",
      "source": [
        "# 긴 시퀀스 학습의 어려움\n",
        "\n",
        "Image(url='https://git.io/JLdV4', width=700)"
      ],
      "metadata": {
        "colab": {
          "base_uri": "https://localhost:8080/",
          "height": 372
        },
        "id": "UkB2X9CnlMPd",
        "outputId": "bf02fc8f-5c48-42fc-8f16-cc0c53471cdf"
      },
      "execution_count": 11,
      "outputs": [
        {
          "output_type": "execute_result",
          "data": {
            "text/html": [
              "<img src=\"https://git.io/JLdV4\" width=\"700\"/>"
            ],
            "text/plain": [
              "<IPython.core.display.Image object>"
            ]
          },
          "metadata": {},
          "execution_count": 11
        }
      ]
    },
    {
      "cell_type": "code",
      "source": [
        "# LSTM 셀\n",
        "Image(url='https://git.io/JLdVR', width=700)"
      ],
      "metadata": {
        "colab": {
          "base_uri": "https://localhost:8080/",
          "height": 402
        },
        "id": "iiT951pgmL33",
        "outputId": "05f48967-9dd7-4733-8724-6639605f4368"
      },
      "execution_count": 12,
      "outputs": [
        {
          "output_type": "execute_result",
          "data": {
            "text/html": [
              "<img src=\"https://git.io/JLdVR\" width=\"700\"/>"
            ],
            "text/plain": [
              "<IPython.core.display.Image object>"
            ]
          },
          "metadata": {},
          "execution_count": 12
        }
      ]
    },
    {
      "cell_type": "code",
      "source": [
        "# 텐서플로로 시퀀스 모델링을 위한 RNN 구현\n",
        "\n",
        "### 첫 번째 프로젝트: IMDb 영화 리뷰의 감성 분석\n",
        "import tensorflow as tf\n",
        "import tensorflow_datasets as tfds\n",
        "import numpy as np\n",
        "import pandas as pd\n",
        "\n",
        "# 코랩에서 실행하는 경우 다음 코드를 실행하세요.\n",
        "!mkdir ../ch08\n",
        "!wget https://github.com/rickiepark/python-machine-learning-book-3rd-edition/raw/master/ch08/movie_data.csv.gz -O ../ch08/movie_data.csv.gz\n"
      ],
      "metadata": {
        "id": "JNs4nMpPmqLf",
        "colab": {
          "base_uri": "https://localhost:8080/"
        },
        "outputId": "4c313e61-371f-4385-bd26-4f2292ebff93"
      },
      "execution_count": 13,
      "outputs": [
        {
          "output_type": "stream",
          "name": "stdout",
          "text": [
            "--2022-08-27 21:15:05--  https://github.com/rickiepark/python-machine-learning-book-3rd-edition/raw/master/ch08/movie_data.csv.gz\n",
            "Resolving github.com (github.com)... 140.82.114.3\n",
            "Connecting to github.com (github.com)|140.82.114.3|:443... connected.\n",
            "HTTP request sent, awaiting response... 302 Found\n",
            "Location: https://raw.githubusercontent.com/rickiepark/python-machine-learning-book-3rd-edition/master/ch08/movie_data.csv.gz [following]\n",
            "--2022-08-27 21:15:05--  https://raw.githubusercontent.com/rickiepark/python-machine-learning-book-3rd-edition/master/ch08/movie_data.csv.gz\n",
            "Resolving raw.githubusercontent.com (raw.githubusercontent.com)... 185.199.111.133, 185.199.108.133, 185.199.110.133, ...\n",
            "Connecting to raw.githubusercontent.com (raw.githubusercontent.com)|185.199.111.133|:443... connected.\n",
            "HTTP request sent, awaiting response... 200 OK\n",
            "Length: 26521894 (25M) [application/octet-stream]\n",
            "Saving to: ‘../ch08/movie_data.csv.gz’\n",
            "\n",
            "../ch08/movie_data. 100%[===================>]  25.29M   162MB/s    in 0.2s    \n",
            "\n",
            "2022-08-27 21:15:07 (162 MB/s) - ‘../ch08/movie_data.csv.gz’ saved [26521894/26521894]\n",
            "\n"
          ]
        }
      ]
    },
    {
      "cell_type": "code",
      "source": [
        "import os\n",
        "import gzip\n",
        "import shutil\n",
        "\n",
        "\n",
        "with gzip.open('../ch08/movie_data.csv.gz', 'rb') as f_in, open('movie_data.csv', 'wb') as f_out:\n",
        "    shutil.copyfileobj(f_in, f_out)"
      ],
      "metadata": {
        "id": "bfGqZIsB7EPD"
      },
      "execution_count": 14,
      "outputs": []
    },
    {
      "cell_type": "code",
      "source": [
        "df = pd.read_csv('movie_data.csv', encoding='utf-8')\n",
        "\n",
        "df.tail()"
      ],
      "metadata": {
        "colab": {
          "base_uri": "https://localhost:8080/",
          "height": 206
        },
        "id": "hf8BzuQE7pMb",
        "outputId": "ab3b4212-95d4-45a8-d841-b4dc79159f82"
      },
      "execution_count": 15,
      "outputs": [
        {
          "output_type": "execute_result",
          "data": {
            "text/plain": [
              "                                                  review  sentiment\n",
              "49995  OK, lets start with the best. the building. al...          0\n",
              "49996  The British 'heritage film' industry is out of...          0\n",
              "49997  I don't even know where to begin on this one. ...          0\n",
              "49998  Richard Tyler is a little boy who is scared of...          0\n",
              "49999  I waited long to watch this movie. Also becaus...          1"
            ],
            "text/html": [
              "\n",
              "  <div id=\"df-52e96b6e-4fc9-48a3-b3c1-d3aa2386e7b9\">\n",
              "    <div class=\"colab-df-container\">\n",
              "      <div>\n",
              "<style scoped>\n",
              "    .dataframe tbody tr th:only-of-type {\n",
              "        vertical-align: middle;\n",
              "    }\n",
              "\n",
              "    .dataframe tbody tr th {\n",
              "        vertical-align: top;\n",
              "    }\n",
              "\n",
              "    .dataframe thead th {\n",
              "        text-align: right;\n",
              "    }\n",
              "</style>\n",
              "<table border=\"1\" class=\"dataframe\">\n",
              "  <thead>\n",
              "    <tr style=\"text-align: right;\">\n",
              "      <th></th>\n",
              "      <th>review</th>\n",
              "      <th>sentiment</th>\n",
              "    </tr>\n",
              "  </thead>\n",
              "  <tbody>\n",
              "    <tr>\n",
              "      <th>49995</th>\n",
              "      <td>OK, lets start with the best. the building. al...</td>\n",
              "      <td>0</td>\n",
              "    </tr>\n",
              "    <tr>\n",
              "      <th>49996</th>\n",
              "      <td>The British 'heritage film' industry is out of...</td>\n",
              "      <td>0</td>\n",
              "    </tr>\n",
              "    <tr>\n",
              "      <th>49997</th>\n",
              "      <td>I don't even know where to begin on this one. ...</td>\n",
              "      <td>0</td>\n",
              "    </tr>\n",
              "    <tr>\n",
              "      <th>49998</th>\n",
              "      <td>Richard Tyler is a little boy who is scared of...</td>\n",
              "      <td>0</td>\n",
              "    </tr>\n",
              "    <tr>\n",
              "      <th>49999</th>\n",
              "      <td>I waited long to watch this movie. Also becaus...</td>\n",
              "      <td>1</td>\n",
              "    </tr>\n",
              "  </tbody>\n",
              "</table>\n",
              "</div>\n",
              "      <button class=\"colab-df-convert\" onclick=\"convertToInteractive('df-52e96b6e-4fc9-48a3-b3c1-d3aa2386e7b9')\"\n",
              "              title=\"Convert this dataframe to an interactive table.\"\n",
              "              style=\"display:none;\">\n",
              "        \n",
              "  <svg xmlns=\"http://www.w3.org/2000/svg\" height=\"24px\"viewBox=\"0 0 24 24\"\n",
              "       width=\"24px\">\n",
              "    <path d=\"M0 0h24v24H0V0z\" fill=\"none\"/>\n",
              "    <path d=\"M18.56 5.44l.94 2.06.94-2.06 2.06-.94-2.06-.94-.94-2.06-.94 2.06-2.06.94zm-11 1L8.5 8.5l.94-2.06 2.06-.94-2.06-.94L8.5 2.5l-.94 2.06-2.06.94zm10 10l.94 2.06.94-2.06 2.06-.94-2.06-.94-.94-2.06-.94 2.06-2.06.94z\"/><path d=\"M17.41 7.96l-1.37-1.37c-.4-.4-.92-.59-1.43-.59-.52 0-1.04.2-1.43.59L10.3 9.45l-7.72 7.72c-.78.78-.78 2.05 0 2.83L4 21.41c.39.39.9.59 1.41.59.51 0 1.02-.2 1.41-.59l7.78-7.78 2.81-2.81c.8-.78.8-2.07 0-2.86zM5.41 20L4 18.59l7.72-7.72 1.47 1.35L5.41 20z\"/>\n",
              "  </svg>\n",
              "      </button>\n",
              "      \n",
              "  <style>\n",
              "    .colab-df-container {\n",
              "      display:flex;\n",
              "      flex-wrap:wrap;\n",
              "      gap: 12px;\n",
              "    }\n",
              "\n",
              "    .colab-df-convert {\n",
              "      background-color: #E8F0FE;\n",
              "      border: none;\n",
              "      border-radius: 50%;\n",
              "      cursor: pointer;\n",
              "      display: none;\n",
              "      fill: #1967D2;\n",
              "      height: 32px;\n",
              "      padding: 0 0 0 0;\n",
              "      width: 32px;\n",
              "    }\n",
              "\n",
              "    .colab-df-convert:hover {\n",
              "      background-color: #E2EBFA;\n",
              "      box-shadow: 0px 1px 2px rgba(60, 64, 67, 0.3), 0px 1px 3px 1px rgba(60, 64, 67, 0.15);\n",
              "      fill: #174EA6;\n",
              "    }\n",
              "\n",
              "    [theme=dark] .colab-df-convert {\n",
              "      background-color: #3B4455;\n",
              "      fill: #D2E3FC;\n",
              "    }\n",
              "\n",
              "    [theme=dark] .colab-df-convert:hover {\n",
              "      background-color: #434B5C;\n",
              "      box-shadow: 0px 1px 3px 1px rgba(0, 0, 0, 0.15);\n",
              "      filter: drop-shadow(0px 1px 2px rgba(0, 0, 0, 0.3));\n",
              "      fill: #FFFFFF;\n",
              "    }\n",
              "  </style>\n",
              "\n",
              "      <script>\n",
              "        const buttonEl =\n",
              "          document.querySelector('#df-52e96b6e-4fc9-48a3-b3c1-d3aa2386e7b9 button.colab-df-convert');\n",
              "        buttonEl.style.display =\n",
              "          google.colab.kernel.accessAllowed ? 'block' : 'none';\n",
              "\n",
              "        async function convertToInteractive(key) {\n",
              "          const element = document.querySelector('#df-52e96b6e-4fc9-48a3-b3c1-d3aa2386e7b9');\n",
              "          const dataTable =\n",
              "            await google.colab.kernel.invokeFunction('convertToInteractive',\n",
              "                                                     [key], {});\n",
              "          if (!dataTable) return;\n",
              "\n",
              "          const docLinkHtml = 'Like what you see? Visit the ' +\n",
              "            '<a target=\"_blank\" href=https://colab.research.google.com/notebooks/data_table.ipynb>data table notebook</a>'\n",
              "            + ' to learn more about interactive tables.';\n",
              "          element.innerHTML = '';\n",
              "          dataTable['output_type'] = 'display_data';\n",
              "          await google.colab.output.renderOutput(dataTable, element);\n",
              "          const docLink = document.createElement('div');\n",
              "          docLink.innerHTML = docLinkHtml;\n",
              "          element.appendChild(docLink);\n",
              "        }\n",
              "      </script>\n",
              "    </div>\n",
              "  </div>\n",
              "  "
            ]
          },
          "metadata": {},
          "execution_count": 15
        }
      ]
    },
    {
      "cell_type": "code",
      "source": [
        "# 1. 텐서플로 데이터셋 객체를 만들고 훈련, 테스트, 검증 테이터셋으로 나눔\n",
        "# 2. 훈련 데이터셋에 있는 고유한 단어를 찾음\n",
        "# 3. 고유한 단어를 고유한 정수로 매핑하고 리뷰 텍스트를 정수(고유 단어의 인덱스) 배열로 인코딩함\n",
        "# 4. 모델에 입력하기 위해 데이터셋을 미니 배치로 나눔\n",
        "\n",
        "# 단계 1: 데이터셋 만들기\n",
        "target = df.pop('sentiment')\n",
        "\n",
        "ds_raw = tf.data.Dataset.from_tensor_slices(\n",
        "    (df.values, target.values))\n",
        "\n",
        "## 확인:\n",
        "for ex in ds_raw.take(3):\n",
        "    tf.print(ex[0].numpy()[0][:50], ex[1])"
      ],
      "metadata": {
        "colab": {
          "base_uri": "https://localhost:8080/"
        },
        "id": "H8rRg67U7quy",
        "outputId": "c6fc3b36-7079-4c46-9070-7902282f1373"
      },
      "execution_count": 16,
      "outputs": [
        {
          "output_type": "stream",
          "name": "stdout",
          "text": [
            "b'In 1974, the teenager Martha Moxley (Maggie Grace)' 1\n",
            "b'OK... so... I really like Kris Kristofferson and h' 0\n",
            "b'***SPOILER*** Do not read this, if you think about' 0\n"
          ]
        }
      ]
    },
    {
      "cell_type": "code",
      "source": [
        "# 훈련/검증/테스트 분할\n",
        "tf.random.set_seed(1)\n",
        "\n",
        "ds_raw = ds_raw.shuffle(\n",
        "    50000, reshuffle_each_iteration=False\n",
        ")\n",
        "\n",
        "ds_raw_test = ds_raw.take(25000)\n",
        "ds_raw_train_valid = ds_raw.skip(25000)\n",
        "ds_raw_train = ds_raw_train_valid.take(20000)\n",
        "ds_raw_valid = ds_raw_train_valid.skip(20000)"
      ],
      "metadata": {
        "id": "i0fYDZI28NYR"
      },
      "execution_count": 17,
      "outputs": []
    },
    {
      "cell_type": "code",
      "source": [
        "# 단계 2: 고유 토큰(단어) 찾기\n",
        "\n",
        "from collections import Counter\n",
        "\n",
        "try:\n",
        "  tokenizer = tfds.features.text.Tokenizer()\n",
        "except AttributeError:\n",
        "  tokenizer = tfds.deprecated.text.Tokenizer()\n",
        "\n",
        "token_counts = Counter()\n",
        "\n",
        "for example in ds_raw_train:\n",
        "  tokens = tokenizer.tokenize(example[0].numpy()[0])\n",
        "  token_counts.update(tokens)\n",
        "\n",
        "print('어휘 사전 크기:', len(token_counts))"
      ],
      "metadata": {
        "colab": {
          "base_uri": "https://localhost:8080/"
        },
        "id": "8Mqi2JGY9rCD",
        "outputId": "729bd233-f7e5-40f0-fcab-dba9c546ad62"
      },
      "execution_count": 18,
      "outputs": [
        {
          "output_type": "stream",
          "name": "stdout",
          "text": [
            "어휘 사전 크기: 87007\n"
          ]
        }
      ]
    },
    {
      "cell_type": "code",
      "source": [
        "encoder = tfds.deprecated.text.TokenTextEncoder(token_counts)\n",
        "example_str = 'This is an example!'\n",
        "print(encoder.encode(example_str))"
      ],
      "metadata": {
        "colab": {
          "base_uri": "https://localhost:8080/"
        },
        "id": "rMz7amgo_CAe",
        "outputId": "fdc6ee3a-738d-49c8-ba80-bb8078bb042c"
      },
      "execution_count": 19,
      "outputs": [
        {
          "output_type": "stream",
          "name": "stdout",
          "text": [
            "[232, 9, 270, 1123]\n"
          ]
        }
      ]
    },
    {
      "cell_type": "code",
      "source": [
        "## 단계 3-A: 변환 함수 정의하기\n",
        "def encode(text_tensor, label):\n",
        "  text = text_tensor.numpy()[0]\n",
        "  encoded_text = encoder.encode(text)\n",
        "  return encoded_text, label\n",
        "\n",
        "## 단계 3-B: 인코딩 함수를 텐서플로 연산으로 감싸기\n",
        "def encode_map_fn(text, label):\n",
        "  return tf.py_function(encode, inp=[text, label],\n",
        "                        Tout=(tf.int64, tf.int64))"
      ],
      "metadata": {
        "id": "1A73ztmtAXiu"
      },
      "execution_count": 20,
      "outputs": []
    },
    {
      "cell_type": "code",
      "source": [
        "ds_train = ds_raw_train.map(encode_map_fn)\n",
        "ds_valid = ds_raw_valid.map(encode_map_fn)\n",
        "ds_test = ds_raw_test.map(encode_map_fn)\n",
        "\n",
        "tf.random.set_seed(1)\n",
        "\n",
        "for example in ds_train.shuffle(1000).take(5):\n",
        "  print('시퀀스 길이:', example[0].shape)\n",
        "\n",
        "example"
      ],
      "metadata": {
        "colab": {
          "base_uri": "https://localhost:8080/"
        },
        "id": "YqKv-hTDBYoH",
        "outputId": "3efbc790-3db7-4a3f-a83c-ee2cf4dbcd66"
      },
      "execution_count": 21,
      "outputs": [
        {
          "output_type": "stream",
          "name": "stdout",
          "text": [
            "시퀀스 길이: (24,)\n",
            "시퀀스 길이: (179,)\n",
            "시퀀스 길이: (262,)\n",
            "시퀀스 길이: (535,)\n",
            "시퀀스 길이: (130,)\n"
          ]
        },
        {
          "output_type": "execute_result",
          "data": {
            "text/plain": [
              "(<tf.Tensor: shape=(130,), dtype=int64, numpy=\n",
              " array([  579,  1296,    32,   425,    40,   763,  9267,    65,   280,\n",
              "          308,     6,   481,   155,   473,     2,     3,   684,     9,\n",
              "          781,   176,   959,   730,  3917,    67,  9905,    13,   277,\n",
              "           24,    35,   371, 16368,     6,    14, 17231,    29,   187,\n",
              "         1651,   489,   503,   480,   143,    32,   270,  5851,  2402,\n",
              "           13,  3592,  3443,   425,  3313,   256,   257,  1577,   117,\n",
              "            8,   698,   270,   564,    56,     8,    42,  7517,  2629,\n",
              "          820,    25,    60,    79,   343,    32,   645,    14,   528,\n",
              "          241,    32,  1980,     8,    56,     8,    42,  1364,   573,\n",
              "         5183,    43,    12,  3870,    32,   312,   642,   251,  1401,\n",
              "        17232,     8,   698,   257,   750,     2,     9,    76,   235,\n",
              "            8,    42,   235,   840,   666,   258, 17233,   419,    32,\n",
              "        17234,   585,   420,   840,    25,    40,    13,    14,   198,\n",
              "          266,   623,   173,   179,  4103,   216,    25,   616, 14185,\n",
              "          186,    35, 16250,   120])>,\n",
              " <tf.Tensor: shape=(), dtype=int64, numpy=0>)"
            ]
          },
          "metadata": {},
          "execution_count": 21
        }
      ]
    },
    {
      "cell_type": "code",
      "source": [
        "## 일부 데이터 추출하기\n",
        "\n",
        "ds_subset = ds_train.take(8)\n",
        "\n",
        "for example in ds_subset:\n",
        "  print('개별 샘플 크기:', example[0].shape)\n",
        "\n"
      ],
      "metadata": {
        "colab": {
          "base_uri": "https://localhost:8080/"
        },
        "id": "1IikrtygByD6",
        "outputId": "80a8f76f-a718-4615-a072-5c0aee42d355"
      },
      "execution_count": 22,
      "outputs": [
        {
          "output_type": "stream",
          "name": "stdout",
          "text": [
            "개별 샘플 크기: (119,)\n",
            "개별 샘플 크기: (688,)\n",
            "개별 샘플 크기: (308,)\n",
            "개별 샘플 크기: (204,)\n",
            "개별 샘플 크기: (326,)\n",
            "개별 샘플 크기: (240,)\n",
            "개별 샘플 크기: (127,)\n",
            "개별 샘플 크기: (453,)\n"
          ]
        }
      ]
    },
    {
      "cell_type": "code",
      "source": [
        "## 배치 데이터 만들기\n",
        "\n",
        "ds_batched = ds_subset.padded_batch(\n",
        "    4, padded_shapes=([-1], [])\n",
        ")\n",
        "\n",
        "for batch in ds_batched:\n",
        "  print('배치 차원:', batch[0].shape)\n",
        "\n",
        "  "
      ],
      "metadata": {
        "colab": {
          "base_uri": "https://localhost:8080/"
        },
        "id": "oLRzWYR0CzNu",
        "outputId": "ecb03928-32cc-488c-924c-1705c713f362"
      },
      "execution_count": 23,
      "outputs": [
        {
          "output_type": "stream",
          "name": "stdout",
          "text": [
            "배치 차원: (4, 688)\n",
            "배치 차원: (4, 453)\n"
          ]
        }
      ]
    },
    {
      "cell_type": "code",
      "source": [
        "## 배치 데이터 만들기\n",
        "\n",
        "train_data = ds_train.padded_batch(\n",
        "    32, padded_shapes = ([-1], [])\n",
        ")\n",
        "\n",
        "valid_data = ds_valid.padded_batch(\n",
        "    32, padded_shapes=([-1], [])\n",
        ")\n",
        "\n",
        "test_data = ds_test.padded_batch(\n",
        "    32, padded_shapes=([-1], [])\n",
        "\n",
        ")"
      ],
      "metadata": {
        "id": "KmU3wbubDKrC"
      },
      "execution_count": 24,
      "outputs": []
    },
    {
      "cell_type": "code",
      "source": [
        "'''\n",
        "문장 인코딩을 위한 임베딩 층\n",
        "input_dim: 단어 개수, 즉 최대 정수 인덱스 + 1.\n",
        "output_dim:\n",
        "input_length: (패딩된) 시퀀스 길이\n",
        "\n",
        "예를 들어, 'This is an example' -> [0, 0, 0, 0, 0, 0, 3, 1, 8, 9]\n",
        "=> input_lenght는 10\n",
        "이 층을 호출할 때 입력으로 정수값을 받습니다. 임베딩 층이 정수를 [output_dim] 크기의 실수 벡터로 변환합니다\n",
        "\n",
        "입력 크기가 [BATCH_SIZE]이면 출력 크기는 [BATCH_SIZE, output_dim]가 됩니다\n",
        "입력 크기가 [BATCH_SIZE, 10]이면 출력 크기는 [BATCH_SIZE, 10, output_dim]가 됩니다\n",
        "'''"
      ],
      "metadata": {
        "colab": {
          "base_uri": "https://localhost:8080/",
          "height": 125
        },
        "id": "fchMqhe5D-J0",
        "outputId": "3dd0c713-70a1-4bfb-ab66-b78fe128eaf3"
      },
      "execution_count": 25,
      "outputs": [
        {
          "output_type": "execute_result",
          "data": {
            "text/plain": [
              "\"\\n문장 인코딩을 위한 임베딩 층\\ninput_dim: 단어 개수, 즉 최대 정수 인덱스 + 1.\\noutput_dim:\\ninput_length: (패딩된) 시퀀스 길이\\n\\n예를 들어, 'This is an example' -> [0, 0, 0, 0, 0, 0, 3, 1, 8, 9]\\n=> input_lenght는 10\\n이 층을 호출할 때 입력으로 정수값을 받습니다. 임베딩 층이 정수를 [output_dim] 크기의 실수 벡터로 변환합니다\\n\\n입력 크기가 [BATCH_SIZE]이면 출력 크기는 [BATCH_SIZE, output_dim]가 됩니다\\n입력 크기가 [BATCH_SIZE, 10]이면 출력 크기는 [BATCH_SIZE, 10, output_dim]가 됩니다\\n\""
            ],
            "application/vnd.google.colaboratory.intrinsic+json": {
              "type": "string"
            }
          },
          "metadata": {},
          "execution_count": 25
        }
      ]
    },
    {
      "cell_type": "code",
      "source": [
        "\n",
        "Image(url='https://git.io/JLdV0', width=700)"
      ],
      "metadata": {
        "colab": {
          "base_uri": "https://localhost:8080/",
          "height": 599
        },
        "id": "hjXKxE_QFj7q",
        "outputId": "591f8448-f48c-43ba-d873-07d7c5ac5bc8"
      },
      "execution_count": 26,
      "outputs": [
        {
          "output_type": "execute_result",
          "data": {
            "text/html": [
              "<img src=\"https://git.io/JLdV0\" width=\"700\"/>"
            ],
            "text/plain": [
              "<IPython.core.display.Image object>"
            ]
          },
          "metadata": {},
          "execution_count": 26
        }
      ]
    },
    {
      "cell_type": "code",
      "source": [
        "# 임베딩 층: 입력층\n",
        "# batchsize * input_length 차원을 가진 랭크 2\n",
        "# input_length = 20; 시퀀스의 길이\n",
        "# 예시로, <14, 8, 19, 26, 27 ,,,, 39> 길이 20인 미니 배치\n",
        "# 출력차원 batchsize * input_length * embedding_dim\n",
        "# embedding_dim; 임베딩 특성의 차원\n",
        "\n",
        "# 임베딩 행렬의 크기는 100 * 6\n",
        "from tensorflow.keras.layers import Embedding\n",
        "\n",
        "model = tf.keras.Sequential()\n",
        "\n",
        "model.add(Embedding(input_dim=100, \n",
        "                    output_dim=6,\n",
        "                    input_length=20,\n",
        "                    name='embed-layer'))\n",
        "\n",
        "model.summary()"
      ],
      "metadata": {
        "colab": {
          "base_uri": "https://localhost:8080/"
        },
        "id": "hyi5qZYZFkb2",
        "outputId": "c06c855c-fcea-40c6-bba9-85adf27b4d19"
      },
      "execution_count": 30,
      "outputs": [
        {
          "output_type": "stream",
          "name": "stdout",
          "text": [
            "Model: \"sequential_2\"\n",
            "_________________________________________________________________\n",
            " Layer (type)                Output Shape              Param #   \n",
            "=================================================================\n",
            " embed-layer (Embedding)     (None, 20, 6)             600       \n",
            "                                                                 \n",
            "=================================================================\n",
            "Total params: 600\n",
            "Trainable params: 600\n",
            "Non-trainable params: 0\n",
            "_________________________________________________________________\n"
          ]
        }
      ]
    },
    {
      "cell_type": "code",
      "source": [
        "# 순환 층에서 사용되는 클래스\n",
        "\n",
        "### SimpleRNN; 완전 연결 순환 층인 기본 RNN\n",
        "### LSTM; 긴 의존성을 감지할 수 있는 LSTM RNN\n",
        "### GRU; LSTM의 대안인 GRU 유닛을 사용한 순환 층\n",
        "\n",
        "'''\n",
        "\n",
        "RNN 모델 만들기\n",
        "케라스 RNN 층:\n",
        "\n",
        "tf.keras.layers.SimpleRNN(units, return_sequences=False)\n",
        "tf.keras.layers.LSTM(..)\n",
        "tf.keras.layers.GRU(..)\n",
        "tf.keras.layers.Bidirectional()\n",
        "return_sequenes=? 결정하기\n",
        "\n",
        "다층 RNN이면 마지막 층을 제외하고 모든 RNN 층을 return_sequenes=True로 지정합니다\n",
        "마지막 RNN 층은 문제의 종류에 따라 결정됩니다:\n",
        "다대다: -> return_sequences=True\n",
        "다대일: -> return_sequenes=False\n",
        "'''"
      ],
      "metadata": {
        "colab": {
          "base_uri": "https://localhost:8080/",
          "height": 107
        },
        "id": "B1UkQLrsGYcW",
        "outputId": "963977f4-4172-4f6c-d248-fc745fae9b7c"
      },
      "execution_count": 28,
      "outputs": [
        {
          "output_type": "execute_result",
          "data": {
            "text/plain": [
              "'\\n\\nRNN 모델 만들기\\n케라스 RNN 층:\\n\\ntf.keras.layers.SimpleRNN(units, return_sequences=False)\\ntf.keras.layers.LSTM(..)\\ntf.keras.layers.GRU(..)\\ntf.keras.layers.Bidirectional()\\nreturn_sequenes=? 결정하기\\n\\n다층 RNN이면 마지막 층을 제외하고 모든 RNN 층을 return_sequenes=True로 지정합니다\\n마지막 RNN 층은 문제의 종류에 따라 결정됩니다:\\n다대다: -> return_sequences=True\\n다대일: -> return_sequenes=False\\n'"
            ],
            "application/vnd.google.colaboratory.intrinsic+json": {
              "type": "string"
            }
          },
          "metadata": {},
          "execution_count": 28
        }
      ]
    },
    {
      "cell_type": "code",
      "source": [
        "# SimpleRNN 층으로 RNN 모델 만들기\n",
        "from tensorflow.keras import Sequential\n",
        "from tensorflow.keras.layers import Embedding, SimpleRNN, Dense\n",
        "\n",
        "model = Sequential()\n",
        "model.add(Embedding(1000, 32))\n",
        "model.add(SimpleRNN(32, return_sequences=True))\n",
        "model.add(SimpleRNN(32))\n",
        "model.add(Dense(1))\n",
        "model.summary()"
      ],
      "metadata": {
        "id": "6Ms7p1WyGb1X",
        "colab": {
          "base_uri": "https://localhost:8080/"
        },
        "outputId": "c53cd9ec-320a-43c3-9a30-e59c322f6979"
      },
      "execution_count": 29,
      "outputs": [
        {
          "output_type": "stream",
          "name": "stdout",
          "text": [
            "Model: \"sequential_1\"\n",
            "_________________________________________________________________\n",
            " Layer (type)                Output Shape              Param #   \n",
            "=================================================================\n",
            " embedding (Embedding)       (None, None, 32)          32000     \n",
            "                                                                 \n",
            " simple_rnn_1 (SimpleRNN)    (None, None, 32)          2080      \n",
            "                                                                 \n",
            " simple_rnn_2 (SimpleRNN)    (None, 32)                2080      \n",
            "                                                                 \n",
            " dense (Dense)               (None, 1)                 33        \n",
            "                                                                 \n",
            "=================================================================\n",
            "Total params: 36,193\n",
            "Trainable params: 36,193\n",
            "Non-trainable params: 0\n",
            "_________________________________________________________________\n"
          ]
        }
      ]
    },
    {
      "cell_type": "code",
      "source": [
        "# 감성 분석 작업을 위한 RNN 모델 만들기\n",
        "\n",
        "### 시퀀스 길이가 길기 때문에 길게 미치는 영향을 감지하기 위해 LSTM 층을 사용\n",
        "### Bidirectional 래퍼 클래스로 LSTM 층을 감싸기\n",
        "\n",
        "from tensorflow.keras.layers import LSTM\n",
        "\n",
        "model = Sequential()\n",
        "model.add(Embedding(10000, 32))\n",
        "model.add(LSTM(32, return_sequences=True))\n",
        "model.add(LSTM(32))\n",
        "model.add(Dense(1))\n",
        "model.summary()"
      ],
      "metadata": {
        "colab": {
          "base_uri": "https://localhost:8080/"
        },
        "id": "Dj2id60QK40Z",
        "outputId": "9a01eb7f-9b6e-44cb-acd7-e0dfb1181bbb"
      },
      "execution_count": 31,
      "outputs": [
        {
          "output_type": "stream",
          "name": "stdout",
          "text": [
            "Model: \"sequential_3\"\n",
            "_________________________________________________________________\n",
            " Layer (type)                Output Shape              Param #   \n",
            "=================================================================\n",
            " embedding_1 (Embedding)     (None, None, 32)          320000    \n",
            "                                                                 \n",
            " lstm (LSTM)                 (None, None, 32)          8320      \n",
            "                                                                 \n",
            " lstm_1 (LSTM)               (None, 32)                8320      \n",
            "                                                                 \n",
            " dense_1 (Dense)             (None, 1)                 33        \n",
            "                                                                 \n",
            "=================================================================\n",
            "Total params: 336,673\n",
            "Trainable params: 336,673\n",
            "Non-trainable params: 0\n",
            "_________________________________________________________________\n"
          ]
        }
      ]
    },
    {
      "cell_type": "code",
      "source": [
        "## GRU 층으로 RNN 모델 만들기\n",
        "from tensorflow.keras.layers import GRU\n",
        "\n",
        "model = Sequential()\n",
        "model.add(Embedding(10000, 32))\n",
        "model.add(GRU(32, return_sequences=True))\n",
        "model.add(GRU(32))\n",
        "model.add(Dense(1))\n",
        "model.summary()"
      ],
      "metadata": {
        "colab": {
          "base_uri": "https://localhost:8080/"
        },
        "id": "omonNuYrP4bS",
        "outputId": "c89fb013-f40b-4c2f-d591-710390427bd7"
      },
      "execution_count": 32,
      "outputs": [
        {
          "output_type": "stream",
          "name": "stdout",
          "text": [
            "Model: \"sequential_4\"\n",
            "_________________________________________________________________\n",
            " Layer (type)                Output Shape              Param #   \n",
            "=================================================================\n",
            " embedding_2 (Embedding)     (None, None, 32)          320000    \n",
            "                                                                 \n",
            " gru (GRU)                   (None, None, 32)          6336      \n",
            "                                                                 \n",
            " gru_1 (GRU)                 (None, 32)                6336      \n",
            "                                                                 \n",
            " dense_2 (Dense)             (None, 1)                 33        \n",
            "                                                                 \n",
            "=================================================================\n",
            "Total params: 332,705\n",
            "Trainable params: 332,705\n",
            "Non-trainable params: 0\n",
            "_________________________________________________________________\n"
          ]
        }
      ]
    },
    {
      "cell_type": "code",
      "source": [
        "# 감성 분석 작업을 위한 RNN 모델 만들기\n",
        "\n",
        "embedding_dim = 20\n",
        "vocab_size = len(token_counts) + 2\n",
        "\n",
        "tf.random.set_seed(1)\n",
        "\n",
        "### 모델 생성\n",
        "\n",
        "bi_lstm_model = tf.keras.Sequential([\n",
        "    tf.keras.layers.Embedding(\n",
        "        input_dim = vocab_size,\n",
        "        output_dim = embedding_dim,\n",
        "        name = 'eembed-layer'\n",
        "    ),\n",
        "\n",
        "    tf.keras.layers.Bidirectional(\n",
        "        tf.keras.layers.LSTM(64, name='lstm-layer'),\n",
        "        name='bidir-lstm'\n",
        "    ),\n",
        "\n",
        "    tf.keras.layers.Dense(64, activation='relu'),\n",
        "\n",
        "    tf.keras.layers.Dense(1, activation='sigmoid')\n",
        "])\n",
        "\n",
        "bi_lstm_model.summary()\n",
        "\n",
        "### 컴파일과 훈련\n",
        "\n",
        "bi_lstm_model.compile(\n",
        "    optimizer=tf.keras.optimizers.Adam(1e-3),\n",
        "    loss=tf.keras.losses.BinaryCrossentropy(from_logits=False),\n",
        "    metrics=['accuracy'])\n",
        "\n",
        "history = bi_lstm_model.fit(\n",
        "    train_data,\n",
        "    validation_data=valid_data,\n",
        "    epochs=10\n",
        ")\n",
        "\n",
        "\n",
        "### 테스트 데이터에서 평가\n",
        "\n",
        "test_results = bi_lstm_model.evaluate(test_data)\n",
        "print('테스트 정확도: {:.2f}%'.format(test_results[1] * 100))"
      ],
      "metadata": {
        "colab": {
          "base_uri": "https://localhost:8080/"
        },
        "id": "rtHY1RKxQrKu",
        "outputId": "a3879128-4467-4d96-d24f-c12576ca97ef"
      },
      "execution_count": 33,
      "outputs": [
        {
          "output_type": "stream",
          "name": "stdout",
          "text": [
            "Model: \"sequential_5\"\n",
            "_________________________________________________________________\n",
            " Layer (type)                Output Shape              Param #   \n",
            "=================================================================\n",
            " eembed-layer (Embedding)    (None, None, 20)          1740180   \n",
            "                                                                 \n",
            " bidir-lstm (Bidirectional)  (None, 128)               43520     \n",
            "                                                                 \n",
            " dense_3 (Dense)             (None, 64)                8256      \n",
            "                                                                 \n",
            " dense_4 (Dense)             (None, 1)                 65        \n",
            "                                                                 \n",
            "=================================================================\n",
            "Total params: 1,792,021\n",
            "Trainable params: 1,792,021\n",
            "Non-trainable params: 0\n",
            "_________________________________________________________________\n",
            "Epoch 1/10\n",
            "625/625 [==============================] - 538s 854ms/step - loss: 0.5249 - accuracy: 0.7246 - val_loss: 0.3767 - val_accuracy: 0.8434\n",
            "Epoch 2/10\n",
            "625/625 [==============================] - 525s 840ms/step - loss: 0.2614 - accuracy: 0.8985 - val_loss: 0.3713 - val_accuracy: 0.8558\n",
            "Epoch 3/10\n",
            "625/625 [==============================] - 531s 849ms/step - loss: 0.1358 - accuracy: 0.9522 - val_loss: 0.4470 - val_accuracy: 0.8528\n",
            "Epoch 4/10\n",
            "625/625 [==============================] - 537s 859ms/step - loss: 0.0848 - accuracy: 0.9737 - val_loss: 0.6569 - val_accuracy: 0.8348\n",
            "Epoch 5/10\n",
            "625/625 [==============================] - 533s 852ms/step - loss: 0.0627 - accuracy: 0.9791 - val_loss: 0.5977 - val_accuracy: 0.8370\n",
            "Epoch 6/10\n",
            "625/625 [==============================] - 530s 848ms/step - loss: 0.0444 - accuracy: 0.9854 - val_loss: 0.7409 - val_accuracy: 0.8334\n",
            "Epoch 7/10\n",
            "625/625 [==============================] - 537s 859ms/step - loss: 0.0500 - accuracy: 0.9844 - val_loss: 0.5953 - val_accuracy: 0.8216\n",
            "Epoch 8/10\n",
            "625/625 [==============================] - 532s 852ms/step - loss: 0.0327 - accuracy: 0.9898 - val_loss: 0.7821 - val_accuracy: 0.8402\n",
            "Epoch 9/10\n",
            "625/625 [==============================] - 534s 854ms/step - loss: 0.0187 - accuracy: 0.9944 - val_loss: 0.7763 - val_accuracy: 0.8328\n",
            "Epoch 10/10\n",
            "625/625 [==============================] - 530s 847ms/step - loss: 0.0130 - accuracy: 0.9959 - val_loss: 0.9223 - val_accuracy: 0.8174\n",
            "782/782 [==============================] - 129s 165ms/step - loss: 0.9164 - accuracy: 0.8218\n",
            "테스트 정확도: 82.18%\n"
          ]
        }
      ]
    },
    {
      "cell_type": "code",
      "source": [
        "from collections import Counter\n",
        "\n",
        "def preprocess_datasets(\n",
        "    ds_raw_train, \n",
        "    ds_raw_valid,\n",
        "    ds_raw_test,\n",
        "    max_seq_length=None,\n",
        "    batch_size=32):\n",
        "  \n",
        "  ### 1단계; (데이터셋 만들기 이미 완료)\n",
        "  ### 2단계; 고유 토큰 찾기\n",
        "\n",
        "  tokenizer = tfds.deprecated.text.Tokenizer()\n",
        "  token_counts = Counter()\n",
        "\n",
        "  for example in ds_raw_train:\n",
        "    tokens = tokenizer.tokenize(example[0].numpy()[0])\n",
        "\n",
        "    if max_seq_length is not None:\n",
        "      tokens = tokens[-max_seq_length:]\n",
        "\n",
        "    token_counts.update(tokens)\n",
        "\n",
        "  print('어휘 사전 크기:', len(token_counts))\n",
        "\n",
        "  ### 3단계; 텍스트 인코딩하기\n",
        "  encoder = tfds.deprecated.text.Tokenize(\n",
        "      token_counts\n",
        "  )\n",
        "\n",
        "  def encode(text_tensor, label):\n",
        "    text = text_tensor.numpy()[0]\n",
        "    encoded_text = encoder.encode(text)\n",
        "\n",
        "    if max_seq_length is not None:\n",
        "      encoded_text = encoded_test[-max_seq_length:]\n",
        "\n",
        "    return encoded_text, label\n",
        "\n",
        "  def encode_map_fn(text, label):\n",
        "    return tf.py_function(encode, inp=[text, label],\n",
        "                          Tout=(tf.int64, tf.int64))\n",
        "    \n",
        "  ds_train = ds_raw_train.map(encode_map_fn)\n",
        "  ds_valid = ds_raw_valid.map(encode_map_fn)\n",
        "  ds_test = ds_raw_test.map(encode_map_fn)\n",
        "\n",
        "  ### 4단계; 배치 데이터 만들기\n",
        "  train_data = ds_train.padded_batch(\n",
        "      batch_size, padded_shapes=([-1], [])\n",
        "  )\n",
        "\n",
        "  valid_data = ds_valid.padded_batch(\n",
        "      batch_size, padded_shapes=([-1], [])\n",
        "  )\n",
        "\n",
        "  test_data = ds_test.padded_batch(\n",
        "      batch_size, padded_shapes=([-1], [])\n",
        "  )\n",
        "\n",
        "  return (train_data, valid_data, \n",
        "          test_data, len(token_counts))\n",
        "  \n",
        "  "
      ],
      "metadata": {
        "id": "j3IxbdoOSeAL"
      },
      "execution_count": 34,
      "outputs": []
    },
    {
      "cell_type": "code",
      "source": [
        "from tensorflow.keras.layers import Embedding, Bidirectional, SimpleRNN, LSTM, GRU\n",
        "\n",
        "def build_rnn_model(embedding_dim, vocab_size,\n",
        "                    recurrent_type='SimpleRNN',\n",
        "                    n_recurrent_units=64,\n",
        "                    n_recurrent_layers=1,\n",
        "                    bidirectional=True):\n",
        "  tf.random.set_seed(1)\n",
        "\n",
        "  ### 모델 생성\n",
        "  model = tf.keras.Sequentail()\n",
        "\n",
        "  model.add(\n",
        "      Embedding(\n",
        "          input_dim=vocab_size,\n",
        "          output_dim=embedding_dim,\n",
        "          name='embed-layer'\n",
        "      )\n",
        "  )\n",
        "\n",
        "  for i in range(n_recurrent_layers):\n",
        "    return_sequences = (i < n_recurrent_layers-1)\n",
        "\n",
        "    if recurrent_type == 'SimpleRNN':\n",
        "      recurrent_layer = SimpleRNN(\n",
        "          units=n_recurrent_units,\n",
        "          return_seqeunces=return_sequences,\n",
        "          name='simprnn-layer-{}'.format(i)\n",
        "      )\n",
        "\n",
        "    elif recurrent_type == 'LSTM':\n",
        "    recurrent_layer = LSTM(\n",
        "        units=n_recurrent_units,\n",
        "        return_sequences=return_sequences,\n",
        "        name='lstm-layer-{}'.format(i)\n",
        "    )\n",
        "\n",
        "    elif recurrent_type == 'GRU':\n",
        "      recurrent_layer = GRU(\n",
        "          units=n_recurrent_units,\n",
        "          return_sequences=return_sequences,\n",
        "          name='gru-layer-{}'.format(i)\n",
        "      )\n",
        "\n",
        "    if bidirectional:\n",
        "      recurrent_layer = Bidirectional(\n",
        "          recurrent_layer, name = 'bidir-'+\n",
        "          recurrent_layer.name\n",
        "      )\n",
        "\n",
        "    model.add(recurrent_layer)\n",
        "\n",
        "  model.add(tf.keras.layers.Dense(64, activation='relu'))\n",
        "  model.add(tf.keras.layers.Dense(1, activation='sigmoid'))\n",
        "\n",
        "  return model\n"
      ],
      "metadata": {
        "colab": {
          "base_uri": "https://localhost:8080/",
          "height": 134
        },
        "id": "PEl7Bs6PduGU",
        "outputId": "723cfba1-3305-4a4d-bf11-09374cab0638"
      },
      "execution_count": 35,
      "outputs": [
        {
          "output_type": "error",
          "ename": "IndentationError",
          "evalue": "ignored",
          "traceback": [
            "\u001b[0;36m  File \u001b[0;32m\"<ipython-input-35-7e05c8d8b3eb>\"\u001b[0;36m, line \u001b[0;32m32\u001b[0m\n\u001b[0;31m    recurrent_layer = LSTM(\u001b[0m\n\u001b[0m                  ^\u001b[0m\n\u001b[0;31mIndentationError\u001b[0m\u001b[0;31m:\u001b[0m expected an indented block\n"
          ]
        }
      ]
    },
    {
      "cell_type": "code",
      "source": [
        "batch_size = 32\n",
        "embedding_dim = 20\n",
        "max_seq_length = 100\n",
        "\n",
        "train_data, valid_data, test_data, n = preprocess_datasets(\n",
        "    ds_raw_train, ds_raw_valid, ds_raw_test,\n",
        "    max_seq_length=max_seq_length,\n",
        "    batch_size=batch_size\n",
        ")\n",
        "\n",
        "vocab_size = n+2\n",
        "rnn_model = build_rnn_model(\n",
        "    embedding_dim, vocab_size,\n",
        "    recurrent_type='SimpleRNN',\n",
        "    n_recurrent_units=64,\n",
        "    n_recurrent_layers=1,\n",
        "    bidirectional=True\n",
        ")\n",
        "\n",
        "rnn_model.summary()"
      ],
      "metadata": {
        "id": "CZ-vszaQgmcF"
      },
      "execution_count": null,
      "outputs": []
    },
    {
      "cell_type": "code",
      "source": [
        "rnn_model.compile(\n",
        "    optimizer=tf.keras.optimizers.Adam(1e-3),\n",
        "    loss=tf.keras.losses.BinaryCrossentropy(\n",
        "        from_logits=False, metrics=['accuracy']\n",
        "    )\n",
        ")\n",
        "\n",
        "history = rnn_model.fit(\n",
        "    train_data,\n",
        "    validation_data=valid_data,\n",
        "    epochs=10\n",
        ")\n",
        "\n",
        "results = rnn_model.evaluate(test_data)\n",
        "print('테스트 정확도: {:.2f}%'.fromat(results[1]*100))"
      ],
      "metadata": {
        "id": "QZHtzO_qhzao"
      },
      "execution_count": null,
      "outputs": []
    },
    {
      "cell_type": "code",
      "source": [],
      "metadata": {
        "id": "OdZpykURic8K"
      },
      "execution_count": null,
      "outputs": []
    }
  ]
}