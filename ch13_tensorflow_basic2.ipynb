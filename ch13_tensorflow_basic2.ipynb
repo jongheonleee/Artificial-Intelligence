{
  "nbformat": 4,
  "nbformat_minor": 0,
  "metadata": {
    "colab": {
      "name": "ch13_tensorflow_basic2.ipynb",
      "provenance": [],
      "authorship_tag": "ABX9TyPl/PXLHdpF47lty9dfEoAu",
      "include_colab_link": true
    },
    "kernelspec": {
      "name": "python3",
      "display_name": "Python 3"
    },
    "language_info": {
      "name": "python"
    },
    "widgets": {
      "application/vnd.jupyter.widget-state+json": {
        "4b769a15c71745679a4b2ec0eff8cae0": {
          "model_module": "@jupyter-widgets/controls",
          "model_name": "HBoxModel",
          "model_module_version": "1.5.0",
          "state": {
            "_dom_classes": [],
            "_model_module": "@jupyter-widgets/controls",
            "_model_module_version": "1.5.0",
            "_model_name": "HBoxModel",
            "_view_count": null,
            "_view_module": "@jupyter-widgets/controls",
            "_view_module_version": "1.5.0",
            "_view_name": "HBoxView",
            "box_style": "",
            "children": [
              "IPY_MODEL_71236f0585e948d1a4afd4b8ea7f80a6",
              "IPY_MODEL_6b38cc49bd44493fbb5a944175f18256",
              "IPY_MODEL_d4d54b0794d845a3b8e447ffbda19f42"
            ],
            "layout": "IPY_MODEL_f85e4b7174f24ab7ae1a41450be60bfa"
          }
        },
        "71236f0585e948d1a4afd4b8ea7f80a6": {
          "model_module": "@jupyter-widgets/controls",
          "model_name": "HTMLModel",
          "model_module_version": "1.5.0",
          "state": {
            "_dom_classes": [],
            "_model_module": "@jupyter-widgets/controls",
            "_model_module_version": "1.5.0",
            "_model_name": "HTMLModel",
            "_view_count": null,
            "_view_module": "@jupyter-widgets/controls",
            "_view_module_version": "1.5.0",
            "_view_name": "HTMLView",
            "description": "",
            "description_tooltip": null,
            "layout": "IPY_MODEL_3981d7eee0bc43769593090b153edd17",
            "placeholder": "​",
            "style": "IPY_MODEL_43331561ef8849b58413547675932abc",
            "value": "Dl Completed...: 100%"
          }
        },
        "6b38cc49bd44493fbb5a944175f18256": {
          "model_module": "@jupyter-widgets/controls",
          "model_name": "FloatProgressModel",
          "model_module_version": "1.5.0",
          "state": {
            "_dom_classes": [],
            "_model_module": "@jupyter-widgets/controls",
            "_model_module_version": "1.5.0",
            "_model_name": "FloatProgressModel",
            "_view_count": null,
            "_view_module": "@jupyter-widgets/controls",
            "_view_module_version": "1.5.0",
            "_view_name": "ProgressView",
            "bar_style": "success",
            "description": "",
            "description_tooltip": null,
            "layout": "IPY_MODEL_1b5c2916f02242b1be44bc7ec83d1a7d",
            "max": 1,
            "min": 0,
            "orientation": "horizontal",
            "style": "IPY_MODEL_4226b763bf554fb8a529518c44c8c565",
            "value": 1
          }
        },
        "d4d54b0794d845a3b8e447ffbda19f42": {
          "model_module": "@jupyter-widgets/controls",
          "model_name": "HTMLModel",
          "model_module_version": "1.5.0",
          "state": {
            "_dom_classes": [],
            "_model_module": "@jupyter-widgets/controls",
            "_model_module_version": "1.5.0",
            "_model_name": "HTMLModel",
            "_view_count": null,
            "_view_module": "@jupyter-widgets/controls",
            "_view_module_version": "1.5.0",
            "_view_name": "HTMLView",
            "description": "",
            "description_tooltip": null,
            "layout": "IPY_MODEL_493d801fd4d54aeaaebf5e5d27054a9b",
            "placeholder": "​",
            "style": "IPY_MODEL_78916537ec934935ae4110eaaa9e90f6",
            "value": " 1/1 [00:00&lt;00:00,  3.02 url/s]"
          }
        },
        "f85e4b7174f24ab7ae1a41450be60bfa": {
          "model_module": "@jupyter-widgets/base",
          "model_name": "LayoutModel",
          "model_module_version": "1.2.0",
          "state": {
            "_model_module": "@jupyter-widgets/base",
            "_model_module_version": "1.2.0",
            "_model_name": "LayoutModel",
            "_view_count": null,
            "_view_module": "@jupyter-widgets/base",
            "_view_module_version": "1.2.0",
            "_view_name": "LayoutView",
            "align_content": null,
            "align_items": null,
            "align_self": null,
            "border": null,
            "bottom": null,
            "display": null,
            "flex": null,
            "flex_flow": null,
            "grid_area": null,
            "grid_auto_columns": null,
            "grid_auto_flow": null,
            "grid_auto_rows": null,
            "grid_column": null,
            "grid_gap": null,
            "grid_row": null,
            "grid_template_areas": null,
            "grid_template_columns": null,
            "grid_template_rows": null,
            "height": null,
            "justify_content": null,
            "justify_items": null,
            "left": null,
            "margin": null,
            "max_height": null,
            "max_width": null,
            "min_height": null,
            "min_width": null,
            "object_fit": null,
            "object_position": null,
            "order": null,
            "overflow": null,
            "overflow_x": null,
            "overflow_y": null,
            "padding": null,
            "right": null,
            "top": null,
            "visibility": null,
            "width": null
          }
        },
        "3981d7eee0bc43769593090b153edd17": {
          "model_module": "@jupyter-widgets/base",
          "model_name": "LayoutModel",
          "model_module_version": "1.2.0",
          "state": {
            "_model_module": "@jupyter-widgets/base",
            "_model_module_version": "1.2.0",
            "_model_name": "LayoutModel",
            "_view_count": null,
            "_view_module": "@jupyter-widgets/base",
            "_view_module_version": "1.2.0",
            "_view_name": "LayoutView",
            "align_content": null,
            "align_items": null,
            "align_self": null,
            "border": null,
            "bottom": null,
            "display": null,
            "flex": null,
            "flex_flow": null,
            "grid_area": null,
            "grid_auto_columns": null,
            "grid_auto_flow": null,
            "grid_auto_rows": null,
            "grid_column": null,
            "grid_gap": null,
            "grid_row": null,
            "grid_template_areas": null,
            "grid_template_columns": null,
            "grid_template_rows": null,
            "height": null,
            "justify_content": null,
            "justify_items": null,
            "left": null,
            "margin": null,
            "max_height": null,
            "max_width": null,
            "min_height": null,
            "min_width": null,
            "object_fit": null,
            "object_position": null,
            "order": null,
            "overflow": null,
            "overflow_x": null,
            "overflow_y": null,
            "padding": null,
            "right": null,
            "top": null,
            "visibility": null,
            "width": null
          }
        },
        "43331561ef8849b58413547675932abc": {
          "model_module": "@jupyter-widgets/controls",
          "model_name": "DescriptionStyleModel",
          "model_module_version": "1.5.0",
          "state": {
            "_model_module": "@jupyter-widgets/controls",
            "_model_module_version": "1.5.0",
            "_model_name": "DescriptionStyleModel",
            "_view_count": null,
            "_view_module": "@jupyter-widgets/base",
            "_view_module_version": "1.2.0",
            "_view_name": "StyleView",
            "description_width": ""
          }
        },
        "1b5c2916f02242b1be44bc7ec83d1a7d": {
          "model_module": "@jupyter-widgets/base",
          "model_name": "LayoutModel",
          "model_module_version": "1.2.0",
          "state": {
            "_model_module": "@jupyter-widgets/base",
            "_model_module_version": "1.2.0",
            "_model_name": "LayoutModel",
            "_view_count": null,
            "_view_module": "@jupyter-widgets/base",
            "_view_module_version": "1.2.0",
            "_view_name": "LayoutView",
            "align_content": null,
            "align_items": null,
            "align_self": null,
            "border": null,
            "bottom": null,
            "display": null,
            "flex": null,
            "flex_flow": null,
            "grid_area": null,
            "grid_auto_columns": null,
            "grid_auto_flow": null,
            "grid_auto_rows": null,
            "grid_column": null,
            "grid_gap": null,
            "grid_row": null,
            "grid_template_areas": null,
            "grid_template_columns": null,
            "grid_template_rows": null,
            "height": null,
            "justify_content": null,
            "justify_items": null,
            "left": null,
            "margin": null,
            "max_height": null,
            "max_width": null,
            "min_height": null,
            "min_width": null,
            "object_fit": null,
            "object_position": null,
            "order": null,
            "overflow": null,
            "overflow_x": null,
            "overflow_y": null,
            "padding": null,
            "right": null,
            "top": null,
            "visibility": null,
            "width": "20px"
          }
        },
        "4226b763bf554fb8a529518c44c8c565": {
          "model_module": "@jupyter-widgets/controls",
          "model_name": "ProgressStyleModel",
          "model_module_version": "1.5.0",
          "state": {
            "_model_module": "@jupyter-widgets/controls",
            "_model_module_version": "1.5.0",
            "_model_name": "ProgressStyleModel",
            "_view_count": null,
            "_view_module": "@jupyter-widgets/base",
            "_view_module_version": "1.2.0",
            "_view_name": "StyleView",
            "bar_color": null,
            "description_width": ""
          }
        },
        "493d801fd4d54aeaaebf5e5d27054a9b": {
          "model_module": "@jupyter-widgets/base",
          "model_name": "LayoutModel",
          "model_module_version": "1.2.0",
          "state": {
            "_model_module": "@jupyter-widgets/base",
            "_model_module_version": "1.2.0",
            "_model_name": "LayoutModel",
            "_view_count": null,
            "_view_module": "@jupyter-widgets/base",
            "_view_module_version": "1.2.0",
            "_view_name": "LayoutView",
            "align_content": null,
            "align_items": null,
            "align_self": null,
            "border": null,
            "bottom": null,
            "display": null,
            "flex": null,
            "flex_flow": null,
            "grid_area": null,
            "grid_auto_columns": null,
            "grid_auto_flow": null,
            "grid_auto_rows": null,
            "grid_column": null,
            "grid_gap": null,
            "grid_row": null,
            "grid_template_areas": null,
            "grid_template_columns": null,
            "grid_template_rows": null,
            "height": null,
            "justify_content": null,
            "justify_items": null,
            "left": null,
            "margin": null,
            "max_height": null,
            "max_width": null,
            "min_height": null,
            "min_width": null,
            "object_fit": null,
            "object_position": null,
            "order": null,
            "overflow": null,
            "overflow_x": null,
            "overflow_y": null,
            "padding": null,
            "right": null,
            "top": null,
            "visibility": null,
            "width": null
          }
        },
        "78916537ec934935ae4110eaaa9e90f6": {
          "model_module": "@jupyter-widgets/controls",
          "model_name": "DescriptionStyleModel",
          "model_module_version": "1.5.0",
          "state": {
            "_model_module": "@jupyter-widgets/controls",
            "_model_module_version": "1.5.0",
            "_model_name": "DescriptionStyleModel",
            "_view_count": null,
            "_view_module": "@jupyter-widgets/base",
            "_view_module_version": "1.2.0",
            "_view_name": "StyleView",
            "description_width": ""
          }
        },
        "e343a3cb29ca485cb632f0953cf16c84": {
          "model_module": "@jupyter-widgets/controls",
          "model_name": "HBoxModel",
          "model_module_version": "1.5.0",
          "state": {
            "_dom_classes": [],
            "_model_module": "@jupyter-widgets/controls",
            "_model_module_version": "1.5.0",
            "_model_name": "HBoxModel",
            "_view_count": null,
            "_view_module": "@jupyter-widgets/controls",
            "_view_module_version": "1.5.0",
            "_view_name": "HBoxView",
            "box_style": "",
            "children": [
              "IPY_MODEL_f91ebd439343473fad22f0e9a7d0d323",
              "IPY_MODEL_6db915b10b074c1cad39cb0b6c990baa",
              "IPY_MODEL_d1a99a209d324756a8ef1e0b5d8bd188"
            ],
            "layout": "IPY_MODEL_803b1e87f0194904a8b42746d2fd6bde"
          }
        },
        "f91ebd439343473fad22f0e9a7d0d323": {
          "model_module": "@jupyter-widgets/controls",
          "model_name": "HTMLModel",
          "model_module_version": "1.5.0",
          "state": {
            "_dom_classes": [],
            "_model_module": "@jupyter-widgets/controls",
            "_model_module_version": "1.5.0",
            "_model_name": "HTMLModel",
            "_view_count": null,
            "_view_module": "@jupyter-widgets/controls",
            "_view_module_version": "1.5.0",
            "_view_name": "HTMLView",
            "description": "",
            "description_tooltip": null,
            "layout": "IPY_MODEL_c4f1d2b9a5ea4db9ab31f4e0f8b00937",
            "placeholder": "​",
            "style": "IPY_MODEL_b031199a2ee74662993a546249b90698",
            "value": "Dl Size...: "
          }
        },
        "6db915b10b074c1cad39cb0b6c990baa": {
          "model_module": "@jupyter-widgets/controls",
          "model_name": "FloatProgressModel",
          "model_module_version": "1.5.0",
          "state": {
            "_dom_classes": [],
            "_model_module": "@jupyter-widgets/controls",
            "_model_module_version": "1.5.0",
            "_model_name": "FloatProgressModel",
            "_view_count": null,
            "_view_module": "@jupyter-widgets/controls",
            "_view_module_version": "1.5.0",
            "_view_name": "ProgressView",
            "bar_style": "success",
            "description": "",
            "description_tooltip": null,
            "layout": "IPY_MODEL_f2ec508e84614c48b15bbd9678822015",
            "max": 1,
            "min": 0,
            "orientation": "horizontal",
            "style": "IPY_MODEL_ca5d7133eb9143dc99e376797be90600",
            "value": 0
          }
        },
        "d1a99a209d324756a8ef1e0b5d8bd188": {
          "model_module": "@jupyter-widgets/controls",
          "model_name": "HTMLModel",
          "model_module_version": "1.5.0",
          "state": {
            "_dom_classes": [],
            "_model_module": "@jupyter-widgets/controls",
            "_model_module_version": "1.5.0",
            "_model_name": "HTMLModel",
            "_view_count": null,
            "_view_module": "@jupyter-widgets/controls",
            "_view_module_version": "1.5.0",
            "_view_name": "HTMLView",
            "description": "",
            "description_tooltip": null,
            "layout": "IPY_MODEL_62ddda9f1f8b4f7fbdd745580bdb3c32",
            "placeholder": "​",
            "style": "IPY_MODEL_e10b3c0ce82d4175a7d2f5741366feaf",
            "value": " 0/0 [00:00&lt;?, ? MiB/s]"
          }
        },
        "803b1e87f0194904a8b42746d2fd6bde": {
          "model_module": "@jupyter-widgets/base",
          "model_name": "LayoutModel",
          "model_module_version": "1.2.0",
          "state": {
            "_model_module": "@jupyter-widgets/base",
            "_model_module_version": "1.2.0",
            "_model_name": "LayoutModel",
            "_view_count": null,
            "_view_module": "@jupyter-widgets/base",
            "_view_module_version": "1.2.0",
            "_view_name": "LayoutView",
            "align_content": null,
            "align_items": null,
            "align_self": null,
            "border": null,
            "bottom": null,
            "display": null,
            "flex": null,
            "flex_flow": null,
            "grid_area": null,
            "grid_auto_columns": null,
            "grid_auto_flow": null,
            "grid_auto_rows": null,
            "grid_column": null,
            "grid_gap": null,
            "grid_row": null,
            "grid_template_areas": null,
            "grid_template_columns": null,
            "grid_template_rows": null,
            "height": null,
            "justify_content": null,
            "justify_items": null,
            "left": null,
            "margin": null,
            "max_height": null,
            "max_width": null,
            "min_height": null,
            "min_width": null,
            "object_fit": null,
            "object_position": null,
            "order": null,
            "overflow": null,
            "overflow_x": null,
            "overflow_y": null,
            "padding": null,
            "right": null,
            "top": null,
            "visibility": null,
            "width": null
          }
        },
        "c4f1d2b9a5ea4db9ab31f4e0f8b00937": {
          "model_module": "@jupyter-widgets/base",
          "model_name": "LayoutModel",
          "model_module_version": "1.2.0",
          "state": {
            "_model_module": "@jupyter-widgets/base",
            "_model_module_version": "1.2.0",
            "_model_name": "LayoutModel",
            "_view_count": null,
            "_view_module": "@jupyter-widgets/base",
            "_view_module_version": "1.2.0",
            "_view_name": "LayoutView",
            "align_content": null,
            "align_items": null,
            "align_self": null,
            "border": null,
            "bottom": null,
            "display": null,
            "flex": null,
            "flex_flow": null,
            "grid_area": null,
            "grid_auto_columns": null,
            "grid_auto_flow": null,
            "grid_auto_rows": null,
            "grid_column": null,
            "grid_gap": null,
            "grid_row": null,
            "grid_template_areas": null,
            "grid_template_columns": null,
            "grid_template_rows": null,
            "height": null,
            "justify_content": null,
            "justify_items": null,
            "left": null,
            "margin": null,
            "max_height": null,
            "max_width": null,
            "min_height": null,
            "min_width": null,
            "object_fit": null,
            "object_position": null,
            "order": null,
            "overflow": null,
            "overflow_x": null,
            "overflow_y": null,
            "padding": null,
            "right": null,
            "top": null,
            "visibility": null,
            "width": null
          }
        },
        "b031199a2ee74662993a546249b90698": {
          "model_module": "@jupyter-widgets/controls",
          "model_name": "DescriptionStyleModel",
          "model_module_version": "1.5.0",
          "state": {
            "_model_module": "@jupyter-widgets/controls",
            "_model_module_version": "1.5.0",
            "_model_name": "DescriptionStyleModel",
            "_view_count": null,
            "_view_module": "@jupyter-widgets/base",
            "_view_module_version": "1.2.0",
            "_view_name": "StyleView",
            "description_width": ""
          }
        },
        "f2ec508e84614c48b15bbd9678822015": {
          "model_module": "@jupyter-widgets/base",
          "model_name": "LayoutModel",
          "model_module_version": "1.2.0",
          "state": {
            "_model_module": "@jupyter-widgets/base",
            "_model_module_version": "1.2.0",
            "_model_name": "LayoutModel",
            "_view_count": null,
            "_view_module": "@jupyter-widgets/base",
            "_view_module_version": "1.2.0",
            "_view_name": "LayoutView",
            "align_content": null,
            "align_items": null,
            "align_self": null,
            "border": null,
            "bottom": null,
            "display": null,
            "flex": null,
            "flex_flow": null,
            "grid_area": null,
            "grid_auto_columns": null,
            "grid_auto_flow": null,
            "grid_auto_rows": null,
            "grid_column": null,
            "grid_gap": null,
            "grid_row": null,
            "grid_template_areas": null,
            "grid_template_columns": null,
            "grid_template_rows": null,
            "height": null,
            "justify_content": null,
            "justify_items": null,
            "left": null,
            "margin": null,
            "max_height": null,
            "max_width": null,
            "min_height": null,
            "min_width": null,
            "object_fit": null,
            "object_position": null,
            "order": null,
            "overflow": null,
            "overflow_x": null,
            "overflow_y": null,
            "padding": null,
            "right": null,
            "top": null,
            "visibility": null,
            "width": "20px"
          }
        },
        "ca5d7133eb9143dc99e376797be90600": {
          "model_module": "@jupyter-widgets/controls",
          "model_name": "ProgressStyleModel",
          "model_module_version": "1.5.0",
          "state": {
            "_model_module": "@jupyter-widgets/controls",
            "_model_module_version": "1.5.0",
            "_model_name": "ProgressStyleModel",
            "_view_count": null,
            "_view_module": "@jupyter-widgets/base",
            "_view_module_version": "1.2.0",
            "_view_name": "StyleView",
            "bar_color": null,
            "description_width": ""
          }
        },
        "62ddda9f1f8b4f7fbdd745580bdb3c32": {
          "model_module": "@jupyter-widgets/base",
          "model_name": "LayoutModel",
          "model_module_version": "1.2.0",
          "state": {
            "_model_module": "@jupyter-widgets/base",
            "_model_module_version": "1.2.0",
            "_model_name": "LayoutModel",
            "_view_count": null,
            "_view_module": "@jupyter-widgets/base",
            "_view_module_version": "1.2.0",
            "_view_name": "LayoutView",
            "align_content": null,
            "align_items": null,
            "align_self": null,
            "border": null,
            "bottom": null,
            "display": null,
            "flex": null,
            "flex_flow": null,
            "grid_area": null,
            "grid_auto_columns": null,
            "grid_auto_flow": null,
            "grid_auto_rows": null,
            "grid_column": null,
            "grid_gap": null,
            "grid_row": null,
            "grid_template_areas": null,
            "grid_template_columns": null,
            "grid_template_rows": null,
            "height": null,
            "justify_content": null,
            "justify_items": null,
            "left": null,
            "margin": null,
            "max_height": null,
            "max_width": null,
            "min_height": null,
            "min_width": null,
            "object_fit": null,
            "object_position": null,
            "order": null,
            "overflow": null,
            "overflow_x": null,
            "overflow_y": null,
            "padding": null,
            "right": null,
            "top": null,
            "visibility": null,
            "width": null
          }
        },
        "e10b3c0ce82d4175a7d2f5741366feaf": {
          "model_module": "@jupyter-widgets/controls",
          "model_name": "DescriptionStyleModel",
          "model_module_version": "1.5.0",
          "state": {
            "_model_module": "@jupyter-widgets/controls",
            "_model_module_version": "1.5.0",
            "_model_name": "DescriptionStyleModel",
            "_view_count": null,
            "_view_module": "@jupyter-widgets/base",
            "_view_module_version": "1.2.0",
            "_view_name": "StyleView",
            "description_width": ""
          }
        },
        "6978425d95af47ec8e3479b90c5e1b1d": {
          "model_module": "@jupyter-widgets/controls",
          "model_name": "HBoxModel",
          "model_module_version": "1.5.0",
          "state": {
            "_dom_classes": [],
            "_model_module": "@jupyter-widgets/controls",
            "_model_module_version": "1.5.0",
            "_model_name": "HBoxModel",
            "_view_count": null,
            "_view_module": "@jupyter-widgets/controls",
            "_view_module_version": "1.5.0",
            "_view_name": "HBoxView",
            "box_style": "",
            "children": [
              "IPY_MODEL_61b4fce523074b7f913628438e3a2177",
              "IPY_MODEL_2189bfdb3fc946eead20bba6b83aabd2",
              "IPY_MODEL_feb1e5d70a764db4b2bf4826a35bbdf5"
            ],
            "layout": "IPY_MODEL_d38b9026ec094faca053a27e4e879edd"
          }
        },
        "61b4fce523074b7f913628438e3a2177": {
          "model_module": "@jupyter-widgets/controls",
          "model_name": "HTMLModel",
          "model_module_version": "1.5.0",
          "state": {
            "_dom_classes": [],
            "_model_module": "@jupyter-widgets/controls",
            "_model_module_version": "1.5.0",
            "_model_name": "HTMLModel",
            "_view_count": null,
            "_view_module": "@jupyter-widgets/controls",
            "_view_module_version": "1.5.0",
            "_view_name": "HTMLView",
            "description": "",
            "description_tooltip": null,
            "layout": "IPY_MODEL_0af585cc56484e13b314587fb20d0063",
            "placeholder": "​",
            "style": "IPY_MODEL_1c65aa55f89f4c2abfbc2596b600b07f",
            "value": "Generating splits...: 100%"
          }
        },
        "2189bfdb3fc946eead20bba6b83aabd2": {
          "model_module": "@jupyter-widgets/controls",
          "model_name": "FloatProgressModel",
          "model_module_version": "1.5.0",
          "state": {
            "_dom_classes": [],
            "_model_module": "@jupyter-widgets/controls",
            "_model_module_version": "1.5.0",
            "_model_name": "FloatProgressModel",
            "_view_count": null,
            "_view_module": "@jupyter-widgets/controls",
            "_view_module_version": "1.5.0",
            "_view_name": "ProgressView",
            "bar_style": "",
            "description": "",
            "description_tooltip": null,
            "layout": "IPY_MODEL_1c8243d6a14a4a1ebebff039672c7088",
            "max": 1,
            "min": 0,
            "orientation": "horizontal",
            "style": "IPY_MODEL_5cb9ae13ff7043bb82e4a24d9b9859dc",
            "value": 1
          }
        },
        "feb1e5d70a764db4b2bf4826a35bbdf5": {
          "model_module": "@jupyter-widgets/controls",
          "model_name": "HTMLModel",
          "model_module_version": "1.5.0",
          "state": {
            "_dom_classes": [],
            "_model_module": "@jupyter-widgets/controls",
            "_model_module_version": "1.5.0",
            "_model_name": "HTMLModel",
            "_view_count": null,
            "_view_module": "@jupyter-widgets/controls",
            "_view_module_version": "1.5.0",
            "_view_name": "HTMLView",
            "description": "",
            "description_tooltip": null,
            "layout": "IPY_MODEL_06f56ef66012461aaa82f1733732d80b",
            "placeholder": "​",
            "style": "IPY_MODEL_5bd5dbff99ef4719bcc44b259b32b284",
            "value": " 1/1 [00:00&lt;00:00,  2.83 splits/s]"
          }
        },
        "d38b9026ec094faca053a27e4e879edd": {
          "model_module": "@jupyter-widgets/base",
          "model_name": "LayoutModel",
          "model_module_version": "1.2.0",
          "state": {
            "_model_module": "@jupyter-widgets/base",
            "_model_module_version": "1.2.0",
            "_model_name": "LayoutModel",
            "_view_count": null,
            "_view_module": "@jupyter-widgets/base",
            "_view_module_version": "1.2.0",
            "_view_name": "LayoutView",
            "align_content": null,
            "align_items": null,
            "align_self": null,
            "border": null,
            "bottom": null,
            "display": null,
            "flex": null,
            "flex_flow": null,
            "grid_area": null,
            "grid_auto_columns": null,
            "grid_auto_flow": null,
            "grid_auto_rows": null,
            "grid_column": null,
            "grid_gap": null,
            "grid_row": null,
            "grid_template_areas": null,
            "grid_template_columns": null,
            "grid_template_rows": null,
            "height": null,
            "justify_content": null,
            "justify_items": null,
            "left": null,
            "margin": null,
            "max_height": null,
            "max_width": null,
            "min_height": null,
            "min_width": null,
            "object_fit": null,
            "object_position": null,
            "order": null,
            "overflow": null,
            "overflow_x": null,
            "overflow_y": null,
            "padding": null,
            "right": null,
            "top": null,
            "visibility": null,
            "width": null
          }
        },
        "0af585cc56484e13b314587fb20d0063": {
          "model_module": "@jupyter-widgets/base",
          "model_name": "LayoutModel",
          "model_module_version": "1.2.0",
          "state": {
            "_model_module": "@jupyter-widgets/base",
            "_model_module_version": "1.2.0",
            "_model_name": "LayoutModel",
            "_view_count": null,
            "_view_module": "@jupyter-widgets/base",
            "_view_module_version": "1.2.0",
            "_view_name": "LayoutView",
            "align_content": null,
            "align_items": null,
            "align_self": null,
            "border": null,
            "bottom": null,
            "display": null,
            "flex": null,
            "flex_flow": null,
            "grid_area": null,
            "grid_auto_columns": null,
            "grid_auto_flow": null,
            "grid_auto_rows": null,
            "grid_column": null,
            "grid_gap": null,
            "grid_row": null,
            "grid_template_areas": null,
            "grid_template_columns": null,
            "grid_template_rows": null,
            "height": null,
            "justify_content": null,
            "justify_items": null,
            "left": null,
            "margin": null,
            "max_height": null,
            "max_width": null,
            "min_height": null,
            "min_width": null,
            "object_fit": null,
            "object_position": null,
            "order": null,
            "overflow": null,
            "overflow_x": null,
            "overflow_y": null,
            "padding": null,
            "right": null,
            "top": null,
            "visibility": null,
            "width": null
          }
        },
        "1c65aa55f89f4c2abfbc2596b600b07f": {
          "model_module": "@jupyter-widgets/controls",
          "model_name": "DescriptionStyleModel",
          "model_module_version": "1.5.0",
          "state": {
            "_model_module": "@jupyter-widgets/controls",
            "_model_module_version": "1.5.0",
            "_model_name": "DescriptionStyleModel",
            "_view_count": null,
            "_view_module": "@jupyter-widgets/base",
            "_view_module_version": "1.2.0",
            "_view_name": "StyleView",
            "description_width": ""
          }
        },
        "1c8243d6a14a4a1ebebff039672c7088": {
          "model_module": "@jupyter-widgets/base",
          "model_name": "LayoutModel",
          "model_module_version": "1.2.0",
          "state": {
            "_model_module": "@jupyter-widgets/base",
            "_model_module_version": "1.2.0",
            "_model_name": "LayoutModel",
            "_view_count": null,
            "_view_module": "@jupyter-widgets/base",
            "_view_module_version": "1.2.0",
            "_view_name": "LayoutView",
            "align_content": null,
            "align_items": null,
            "align_self": null,
            "border": null,
            "bottom": null,
            "display": null,
            "flex": null,
            "flex_flow": null,
            "grid_area": null,
            "grid_auto_columns": null,
            "grid_auto_flow": null,
            "grid_auto_rows": null,
            "grid_column": null,
            "grid_gap": null,
            "grid_row": null,
            "grid_template_areas": null,
            "grid_template_columns": null,
            "grid_template_rows": null,
            "height": null,
            "justify_content": null,
            "justify_items": null,
            "left": null,
            "margin": null,
            "max_height": null,
            "max_width": null,
            "min_height": null,
            "min_width": null,
            "object_fit": null,
            "object_position": null,
            "order": null,
            "overflow": null,
            "overflow_x": null,
            "overflow_y": null,
            "padding": null,
            "right": null,
            "top": null,
            "visibility": null,
            "width": null
          }
        },
        "5cb9ae13ff7043bb82e4a24d9b9859dc": {
          "model_module": "@jupyter-widgets/controls",
          "model_name": "ProgressStyleModel",
          "model_module_version": "1.5.0",
          "state": {
            "_model_module": "@jupyter-widgets/controls",
            "_model_module_version": "1.5.0",
            "_model_name": "ProgressStyleModel",
            "_view_count": null,
            "_view_module": "@jupyter-widgets/base",
            "_view_module_version": "1.2.0",
            "_view_name": "StyleView",
            "bar_color": null,
            "description_width": ""
          }
        },
        "06f56ef66012461aaa82f1733732d80b": {
          "model_module": "@jupyter-widgets/base",
          "model_name": "LayoutModel",
          "model_module_version": "1.2.0",
          "state": {
            "_model_module": "@jupyter-widgets/base",
            "_model_module_version": "1.2.0",
            "_model_name": "LayoutModel",
            "_view_count": null,
            "_view_module": "@jupyter-widgets/base",
            "_view_module_version": "1.2.0",
            "_view_name": "LayoutView",
            "align_content": null,
            "align_items": null,
            "align_self": null,
            "border": null,
            "bottom": null,
            "display": null,
            "flex": null,
            "flex_flow": null,
            "grid_area": null,
            "grid_auto_columns": null,
            "grid_auto_flow": null,
            "grid_auto_rows": null,
            "grid_column": null,
            "grid_gap": null,
            "grid_row": null,
            "grid_template_areas": null,
            "grid_template_columns": null,
            "grid_template_rows": null,
            "height": null,
            "justify_content": null,
            "justify_items": null,
            "left": null,
            "margin": null,
            "max_height": null,
            "max_width": null,
            "min_height": null,
            "min_width": null,
            "object_fit": null,
            "object_position": null,
            "order": null,
            "overflow": null,
            "overflow_x": null,
            "overflow_y": null,
            "padding": null,
            "right": null,
            "top": null,
            "visibility": null,
            "width": null
          }
        },
        "5bd5dbff99ef4719bcc44b259b32b284": {
          "model_module": "@jupyter-widgets/controls",
          "model_name": "DescriptionStyleModel",
          "model_module_version": "1.5.0",
          "state": {
            "_model_module": "@jupyter-widgets/controls",
            "_model_module_version": "1.5.0",
            "_model_name": "DescriptionStyleModel",
            "_view_count": null,
            "_view_module": "@jupyter-widgets/base",
            "_view_module_version": "1.2.0",
            "_view_name": "StyleView",
            "description_width": ""
          }
        },
        "7e86734665a440689cdd6fe14c068b4b": {
          "model_module": "@jupyter-widgets/controls",
          "model_name": "HBoxModel",
          "model_module_version": "1.5.0",
          "state": {
            "_dom_classes": [],
            "_model_module": "@jupyter-widgets/controls",
            "_model_module_version": "1.5.0",
            "_model_name": "HBoxModel",
            "_view_count": null,
            "_view_module": "@jupyter-widgets/controls",
            "_view_module_version": "1.5.0",
            "_view_name": "HBoxView",
            "box_style": "",
            "children": [
              "IPY_MODEL_7daeda00feba4719891b04509462c779",
              "IPY_MODEL_073a6d5fe6ce43a9a90276ff93a6e566",
              "IPY_MODEL_e0cec8bd78ab4a78ac43151346786a87"
            ],
            "layout": "IPY_MODEL_f271a63d089e430088a361711b8162c0"
          }
        },
        "7daeda00feba4719891b04509462c779": {
          "model_module": "@jupyter-widgets/controls",
          "model_name": "HTMLModel",
          "model_module_version": "1.5.0",
          "state": {
            "_dom_classes": [],
            "_model_module": "@jupyter-widgets/controls",
            "_model_module_version": "1.5.0",
            "_model_name": "HTMLModel",
            "_view_count": null,
            "_view_module": "@jupyter-widgets/controls",
            "_view_module_version": "1.5.0",
            "_view_name": "HTMLView",
            "description": "",
            "description_tooltip": null,
            "layout": "IPY_MODEL_e4fc9cf34a7e412188c3e2f398c898ea",
            "placeholder": "​",
            "style": "IPY_MODEL_feeb449389944522b88bf442e711a78a",
            "value": "Generating train examples...:   0%"
          }
        },
        "073a6d5fe6ce43a9a90276ff93a6e566": {
          "model_module": "@jupyter-widgets/controls",
          "model_name": "FloatProgressModel",
          "model_module_version": "1.5.0",
          "state": {
            "_dom_classes": [],
            "_model_module": "@jupyter-widgets/controls",
            "_model_module_version": "1.5.0",
            "_model_name": "FloatProgressModel",
            "_view_count": null,
            "_view_module": "@jupyter-widgets/controls",
            "_view_module_version": "1.5.0",
            "_view_name": "ProgressView",
            "bar_style": "",
            "description": "",
            "description_tooltip": null,
            "layout": "IPY_MODEL_3d0714e4f1644d2abe81d4ee16ab7ccb",
            "max": 150,
            "min": 0,
            "orientation": "horizontal",
            "style": "IPY_MODEL_e735dda8d0e64809b2c020205b6db9fd",
            "value": 150
          }
        },
        "e0cec8bd78ab4a78ac43151346786a87": {
          "model_module": "@jupyter-widgets/controls",
          "model_name": "HTMLModel",
          "model_module_version": "1.5.0",
          "state": {
            "_dom_classes": [],
            "_model_module": "@jupyter-widgets/controls",
            "_model_module_version": "1.5.0",
            "_model_name": "HTMLModel",
            "_view_count": null,
            "_view_module": "@jupyter-widgets/controls",
            "_view_module_version": "1.5.0",
            "_view_name": "HTMLView",
            "description": "",
            "description_tooltip": null,
            "layout": "IPY_MODEL_c7e12622fe634acfae7d6622cc368e3d",
            "placeholder": "​",
            "style": "IPY_MODEL_56534882a5544284bde7d0aaff572f9d",
            "value": " 0/150 [00:00&lt;?, ? examples/s]"
          }
        },
        "f271a63d089e430088a361711b8162c0": {
          "model_module": "@jupyter-widgets/base",
          "model_name": "LayoutModel",
          "model_module_version": "1.2.0",
          "state": {
            "_model_module": "@jupyter-widgets/base",
            "_model_module_version": "1.2.0",
            "_model_name": "LayoutModel",
            "_view_count": null,
            "_view_module": "@jupyter-widgets/base",
            "_view_module_version": "1.2.0",
            "_view_name": "LayoutView",
            "align_content": null,
            "align_items": null,
            "align_self": null,
            "border": null,
            "bottom": null,
            "display": null,
            "flex": null,
            "flex_flow": null,
            "grid_area": null,
            "grid_auto_columns": null,
            "grid_auto_flow": null,
            "grid_auto_rows": null,
            "grid_column": null,
            "grid_gap": null,
            "grid_row": null,
            "grid_template_areas": null,
            "grid_template_columns": null,
            "grid_template_rows": null,
            "height": null,
            "justify_content": null,
            "justify_items": null,
            "left": null,
            "margin": null,
            "max_height": null,
            "max_width": null,
            "min_height": null,
            "min_width": null,
            "object_fit": null,
            "object_position": null,
            "order": null,
            "overflow": null,
            "overflow_x": null,
            "overflow_y": null,
            "padding": null,
            "right": null,
            "top": null,
            "visibility": null,
            "width": null
          }
        },
        "e4fc9cf34a7e412188c3e2f398c898ea": {
          "model_module": "@jupyter-widgets/base",
          "model_name": "LayoutModel",
          "model_module_version": "1.2.0",
          "state": {
            "_model_module": "@jupyter-widgets/base",
            "_model_module_version": "1.2.0",
            "_model_name": "LayoutModel",
            "_view_count": null,
            "_view_module": "@jupyter-widgets/base",
            "_view_module_version": "1.2.0",
            "_view_name": "LayoutView",
            "align_content": null,
            "align_items": null,
            "align_self": null,
            "border": null,
            "bottom": null,
            "display": null,
            "flex": null,
            "flex_flow": null,
            "grid_area": null,
            "grid_auto_columns": null,
            "grid_auto_flow": null,
            "grid_auto_rows": null,
            "grid_column": null,
            "grid_gap": null,
            "grid_row": null,
            "grid_template_areas": null,
            "grid_template_columns": null,
            "grid_template_rows": null,
            "height": null,
            "justify_content": null,
            "justify_items": null,
            "left": null,
            "margin": null,
            "max_height": null,
            "max_width": null,
            "min_height": null,
            "min_width": null,
            "object_fit": null,
            "object_position": null,
            "order": null,
            "overflow": null,
            "overflow_x": null,
            "overflow_y": null,
            "padding": null,
            "right": null,
            "top": null,
            "visibility": null,
            "width": null
          }
        },
        "feeb449389944522b88bf442e711a78a": {
          "model_module": "@jupyter-widgets/controls",
          "model_name": "DescriptionStyleModel",
          "model_module_version": "1.5.0",
          "state": {
            "_model_module": "@jupyter-widgets/controls",
            "_model_module_version": "1.5.0",
            "_model_name": "DescriptionStyleModel",
            "_view_count": null,
            "_view_module": "@jupyter-widgets/base",
            "_view_module_version": "1.2.0",
            "_view_name": "StyleView",
            "description_width": ""
          }
        },
        "3d0714e4f1644d2abe81d4ee16ab7ccb": {
          "model_module": "@jupyter-widgets/base",
          "model_name": "LayoutModel",
          "model_module_version": "1.2.0",
          "state": {
            "_model_module": "@jupyter-widgets/base",
            "_model_module_version": "1.2.0",
            "_model_name": "LayoutModel",
            "_view_count": null,
            "_view_module": "@jupyter-widgets/base",
            "_view_module_version": "1.2.0",
            "_view_name": "LayoutView",
            "align_content": null,
            "align_items": null,
            "align_self": null,
            "border": null,
            "bottom": null,
            "display": null,
            "flex": null,
            "flex_flow": null,
            "grid_area": null,
            "grid_auto_columns": null,
            "grid_auto_flow": null,
            "grid_auto_rows": null,
            "grid_column": null,
            "grid_gap": null,
            "grid_row": null,
            "grid_template_areas": null,
            "grid_template_columns": null,
            "grid_template_rows": null,
            "height": null,
            "justify_content": null,
            "justify_items": null,
            "left": null,
            "margin": null,
            "max_height": null,
            "max_width": null,
            "min_height": null,
            "min_width": null,
            "object_fit": null,
            "object_position": null,
            "order": null,
            "overflow": null,
            "overflow_x": null,
            "overflow_y": null,
            "padding": null,
            "right": null,
            "top": null,
            "visibility": null,
            "width": null
          }
        },
        "e735dda8d0e64809b2c020205b6db9fd": {
          "model_module": "@jupyter-widgets/controls",
          "model_name": "ProgressStyleModel",
          "model_module_version": "1.5.0",
          "state": {
            "_model_module": "@jupyter-widgets/controls",
            "_model_module_version": "1.5.0",
            "_model_name": "ProgressStyleModel",
            "_view_count": null,
            "_view_module": "@jupyter-widgets/base",
            "_view_module_version": "1.2.0",
            "_view_name": "StyleView",
            "bar_color": null,
            "description_width": ""
          }
        },
        "c7e12622fe634acfae7d6622cc368e3d": {
          "model_module": "@jupyter-widgets/base",
          "model_name": "LayoutModel",
          "model_module_version": "1.2.0",
          "state": {
            "_model_module": "@jupyter-widgets/base",
            "_model_module_version": "1.2.0",
            "_model_name": "LayoutModel",
            "_view_count": null,
            "_view_module": "@jupyter-widgets/base",
            "_view_module_version": "1.2.0",
            "_view_name": "LayoutView",
            "align_content": null,
            "align_items": null,
            "align_self": null,
            "border": null,
            "bottom": null,
            "display": null,
            "flex": null,
            "flex_flow": null,
            "grid_area": null,
            "grid_auto_columns": null,
            "grid_auto_flow": null,
            "grid_auto_rows": null,
            "grid_column": null,
            "grid_gap": null,
            "grid_row": null,
            "grid_template_areas": null,
            "grid_template_columns": null,
            "grid_template_rows": null,
            "height": null,
            "justify_content": null,
            "justify_items": null,
            "left": null,
            "margin": null,
            "max_height": null,
            "max_width": null,
            "min_height": null,
            "min_width": null,
            "object_fit": null,
            "object_position": null,
            "order": null,
            "overflow": null,
            "overflow_x": null,
            "overflow_y": null,
            "padding": null,
            "right": null,
            "top": null,
            "visibility": null,
            "width": null
          }
        },
        "56534882a5544284bde7d0aaff572f9d": {
          "model_module": "@jupyter-widgets/controls",
          "model_name": "DescriptionStyleModel",
          "model_module_version": "1.5.0",
          "state": {
            "_model_module": "@jupyter-widgets/controls",
            "_model_module_version": "1.5.0",
            "_model_name": "DescriptionStyleModel",
            "_view_count": null,
            "_view_module": "@jupyter-widgets/base",
            "_view_module_version": "1.2.0",
            "_view_name": "StyleView",
            "description_width": ""
          }
        },
        "ef887e914f26468ca298f229aa6d4a76": {
          "model_module": "@jupyter-widgets/controls",
          "model_name": "HBoxModel",
          "model_module_version": "1.5.0",
          "state": {
            "_dom_classes": [],
            "_model_module": "@jupyter-widgets/controls",
            "_model_module_version": "1.5.0",
            "_model_name": "HBoxModel",
            "_view_count": null,
            "_view_module": "@jupyter-widgets/controls",
            "_view_module_version": "1.5.0",
            "_view_name": "HBoxView",
            "box_style": "",
            "children": [
              "IPY_MODEL_4ccf8f838dfd477983d7f5ba78c1bbe5",
              "IPY_MODEL_a840c105353b41cbb33a644fb198ed68",
              "IPY_MODEL_e888e89cb0ee45d4a3a8b6ebe3cd4d5c"
            ],
            "layout": "IPY_MODEL_58d5ca6e2dd34cb6a0500ab2ed73b706"
          }
        },
        "4ccf8f838dfd477983d7f5ba78c1bbe5": {
          "model_module": "@jupyter-widgets/controls",
          "model_name": "HTMLModel",
          "model_module_version": "1.5.0",
          "state": {
            "_dom_classes": [],
            "_model_module": "@jupyter-widgets/controls",
            "_model_module_version": "1.5.0",
            "_model_name": "HTMLModel",
            "_view_count": null,
            "_view_module": "@jupyter-widgets/controls",
            "_view_module_version": "1.5.0",
            "_view_name": "HTMLView",
            "description": "",
            "description_tooltip": null,
            "layout": "IPY_MODEL_5a4d62a9e18f41c5abad1d641327deaa",
            "placeholder": "​",
            "style": "IPY_MODEL_a1c08c51c9534ba3979d41dd9e652750",
            "value": "Shuffling ~/tensorflow_datasets/iris/2.0.0.incompleteRIQUX2/iris-train.tfrecord*...:   1%"
          }
        },
        "a840c105353b41cbb33a644fb198ed68": {
          "model_module": "@jupyter-widgets/controls",
          "model_name": "FloatProgressModel",
          "model_module_version": "1.5.0",
          "state": {
            "_dom_classes": [],
            "_model_module": "@jupyter-widgets/controls",
            "_model_module_version": "1.5.0",
            "_model_name": "FloatProgressModel",
            "_view_count": null,
            "_view_module": "@jupyter-widgets/controls",
            "_view_module_version": "1.5.0",
            "_view_name": "ProgressView",
            "bar_style": "",
            "description": "",
            "description_tooltip": null,
            "layout": "IPY_MODEL_cc93b190b9de4632b626b5e7f87b5ecc",
            "max": 150,
            "min": 0,
            "orientation": "horizontal",
            "style": "IPY_MODEL_b4b12e2ff29345f7997a378e88cc3c1e",
            "value": 150
          }
        },
        "e888e89cb0ee45d4a3a8b6ebe3cd4d5c": {
          "model_module": "@jupyter-widgets/controls",
          "model_name": "HTMLModel",
          "model_module_version": "1.5.0",
          "state": {
            "_dom_classes": [],
            "_model_module": "@jupyter-widgets/controls",
            "_model_module_version": "1.5.0",
            "_model_name": "HTMLModel",
            "_view_count": null,
            "_view_module": "@jupyter-widgets/controls",
            "_view_module_version": "1.5.0",
            "_view_name": "HTMLView",
            "description": "",
            "description_tooltip": null,
            "layout": "IPY_MODEL_7c9bf6d9742e4a68a016887f537604bc",
            "placeholder": "​",
            "style": "IPY_MODEL_8e7bd0c07c464222b4d195a893f63d3c",
            "value": " 1/150 [00:00&lt;00:23,  6.30 examples/s]"
          }
        },
        "58d5ca6e2dd34cb6a0500ab2ed73b706": {
          "model_module": "@jupyter-widgets/base",
          "model_name": "LayoutModel",
          "model_module_version": "1.2.0",
          "state": {
            "_model_module": "@jupyter-widgets/base",
            "_model_module_version": "1.2.0",
            "_model_name": "LayoutModel",
            "_view_count": null,
            "_view_module": "@jupyter-widgets/base",
            "_view_module_version": "1.2.0",
            "_view_name": "LayoutView",
            "align_content": null,
            "align_items": null,
            "align_self": null,
            "border": null,
            "bottom": null,
            "display": null,
            "flex": null,
            "flex_flow": null,
            "grid_area": null,
            "grid_auto_columns": null,
            "grid_auto_flow": null,
            "grid_auto_rows": null,
            "grid_column": null,
            "grid_gap": null,
            "grid_row": null,
            "grid_template_areas": null,
            "grid_template_columns": null,
            "grid_template_rows": null,
            "height": null,
            "justify_content": null,
            "justify_items": null,
            "left": null,
            "margin": null,
            "max_height": null,
            "max_width": null,
            "min_height": null,
            "min_width": null,
            "object_fit": null,
            "object_position": null,
            "order": null,
            "overflow": null,
            "overflow_x": null,
            "overflow_y": null,
            "padding": null,
            "right": null,
            "top": null,
            "visibility": null,
            "width": null
          }
        },
        "5a4d62a9e18f41c5abad1d641327deaa": {
          "model_module": "@jupyter-widgets/base",
          "model_name": "LayoutModel",
          "model_module_version": "1.2.0",
          "state": {
            "_model_module": "@jupyter-widgets/base",
            "_model_module_version": "1.2.0",
            "_model_name": "LayoutModel",
            "_view_count": null,
            "_view_module": "@jupyter-widgets/base",
            "_view_module_version": "1.2.0",
            "_view_name": "LayoutView",
            "align_content": null,
            "align_items": null,
            "align_self": null,
            "border": null,
            "bottom": null,
            "display": null,
            "flex": null,
            "flex_flow": null,
            "grid_area": null,
            "grid_auto_columns": null,
            "grid_auto_flow": null,
            "grid_auto_rows": null,
            "grid_column": null,
            "grid_gap": null,
            "grid_row": null,
            "grid_template_areas": null,
            "grid_template_columns": null,
            "grid_template_rows": null,
            "height": null,
            "justify_content": null,
            "justify_items": null,
            "left": null,
            "margin": null,
            "max_height": null,
            "max_width": null,
            "min_height": null,
            "min_width": null,
            "object_fit": null,
            "object_position": null,
            "order": null,
            "overflow": null,
            "overflow_x": null,
            "overflow_y": null,
            "padding": null,
            "right": null,
            "top": null,
            "visibility": null,
            "width": null
          }
        },
        "a1c08c51c9534ba3979d41dd9e652750": {
          "model_module": "@jupyter-widgets/controls",
          "model_name": "DescriptionStyleModel",
          "model_module_version": "1.5.0",
          "state": {
            "_model_module": "@jupyter-widgets/controls",
            "_model_module_version": "1.5.0",
            "_model_name": "DescriptionStyleModel",
            "_view_count": null,
            "_view_module": "@jupyter-widgets/base",
            "_view_module_version": "1.2.0",
            "_view_name": "StyleView",
            "description_width": ""
          }
        },
        "cc93b190b9de4632b626b5e7f87b5ecc": {
          "model_module": "@jupyter-widgets/base",
          "model_name": "LayoutModel",
          "model_module_version": "1.2.0",
          "state": {
            "_model_module": "@jupyter-widgets/base",
            "_model_module_version": "1.2.0",
            "_model_name": "LayoutModel",
            "_view_count": null,
            "_view_module": "@jupyter-widgets/base",
            "_view_module_version": "1.2.0",
            "_view_name": "LayoutView",
            "align_content": null,
            "align_items": null,
            "align_self": null,
            "border": null,
            "bottom": null,
            "display": null,
            "flex": null,
            "flex_flow": null,
            "grid_area": null,
            "grid_auto_columns": null,
            "grid_auto_flow": null,
            "grid_auto_rows": null,
            "grid_column": null,
            "grid_gap": null,
            "grid_row": null,
            "grid_template_areas": null,
            "grid_template_columns": null,
            "grid_template_rows": null,
            "height": null,
            "justify_content": null,
            "justify_items": null,
            "left": null,
            "margin": null,
            "max_height": null,
            "max_width": null,
            "min_height": null,
            "min_width": null,
            "object_fit": null,
            "object_position": null,
            "order": null,
            "overflow": null,
            "overflow_x": null,
            "overflow_y": null,
            "padding": null,
            "right": null,
            "top": null,
            "visibility": null,
            "width": null
          }
        },
        "b4b12e2ff29345f7997a378e88cc3c1e": {
          "model_module": "@jupyter-widgets/controls",
          "model_name": "ProgressStyleModel",
          "model_module_version": "1.5.0",
          "state": {
            "_model_module": "@jupyter-widgets/controls",
            "_model_module_version": "1.5.0",
            "_model_name": "ProgressStyleModel",
            "_view_count": null,
            "_view_module": "@jupyter-widgets/base",
            "_view_module_version": "1.2.0",
            "_view_name": "StyleView",
            "bar_color": null,
            "description_width": ""
          }
        },
        "7c9bf6d9742e4a68a016887f537604bc": {
          "model_module": "@jupyter-widgets/base",
          "model_name": "LayoutModel",
          "model_module_version": "1.2.0",
          "state": {
            "_model_module": "@jupyter-widgets/base",
            "_model_module_version": "1.2.0",
            "_model_name": "LayoutModel",
            "_view_count": null,
            "_view_module": "@jupyter-widgets/base",
            "_view_module_version": "1.2.0",
            "_view_name": "LayoutView",
            "align_content": null,
            "align_items": null,
            "align_self": null,
            "border": null,
            "bottom": null,
            "display": null,
            "flex": null,
            "flex_flow": null,
            "grid_area": null,
            "grid_auto_columns": null,
            "grid_auto_flow": null,
            "grid_auto_rows": null,
            "grid_column": null,
            "grid_gap": null,
            "grid_row": null,
            "grid_template_areas": null,
            "grid_template_columns": null,
            "grid_template_rows": null,
            "height": null,
            "justify_content": null,
            "justify_items": null,
            "left": null,
            "margin": null,
            "max_height": null,
            "max_width": null,
            "min_height": null,
            "min_width": null,
            "object_fit": null,
            "object_position": null,
            "order": null,
            "overflow": null,
            "overflow_x": null,
            "overflow_y": null,
            "padding": null,
            "right": null,
            "top": null,
            "visibility": null,
            "width": null
          }
        },
        "8e7bd0c07c464222b4d195a893f63d3c": {
          "model_module": "@jupyter-widgets/controls",
          "model_name": "DescriptionStyleModel",
          "model_module_version": "1.5.0",
          "state": {
            "_model_module": "@jupyter-widgets/controls",
            "_model_module_version": "1.5.0",
            "_model_name": "DescriptionStyleModel",
            "_view_count": null,
            "_view_module": "@jupyter-widgets/base",
            "_view_module_version": "1.2.0",
            "_view_name": "StyleView",
            "description_width": ""
          }
        }
      }
    }
  },
  "cells": [
    {
      "cell_type": "markdown",
      "metadata": {
        "id": "view-in-github",
        "colab_type": "text"
      },
      "source": [
        "<a href=\"https://colab.research.google.com/github/jongheonleee/Artificial_Intelligence/blob/master/ch13_tensorflow_basic2.ipynb\" target=\"_parent\"><img src=\"https://colab.research.google.com/assets/colab-badge.svg\" alt=\"Open In Colab\"/></a>"
      ]
    },
    {
      "cell_type": "code",
      "execution_count": 1,
      "metadata": {
        "id": "fTkEvQK9p2A_"
      },
      "outputs": [],
      "source": [
        "# 텐서플로를 사용해서 첫 번째 예측 모델을 만들기"
      ]
    },
    {
      "cell_type": "code",
      "source": [
        "# 선형회귀\n",
        "\n",
        "# 기초작업: 작은데이터 셋 만들고 산점도로 그려보기\n",
        "import tensorflow as tf\n",
        "import numpy as np\n",
        "import matplotlib.pyplot as plt\n",
        "\n",
        "X_train = np.arange(10).reshape((10, 1))\n",
        "y_train = np.array([1.0, 1.3, 3.1, 2.0, 5.0, 6.3, 6.6, 7.4, 8.0, 9.0])\n",
        "\n",
        "plt.plot(X_train, y_train, 'o', markersize=10)\n",
        "plt.xlabel('x')\n",
        "plt.ylabel('y')\n",
        "plt.show()\n"
      ],
      "metadata": {
        "colab": {
          "base_uri": "https://localhost:8080/",
          "height": 279
        },
        "id": "a1N1BOC_qL1e",
        "outputId": "9a487b93-8481-4212-90ec-dfa5b7d69106"
      },
      "execution_count": 2,
      "outputs": [
        {
          "output_type": "display_data",
          "data": {
            "text/plain": [
              "<Figure size 432x288 with 1 Axes>"
            ],
            "image/png": "[encoded data removed]"
          },
          "metadata": {
            "needs_background": "light"
          }
        }
      ]
    },
    {
      "cell_type": "code",
      "source": [
        "# 특성을 표준화(평균을 원점에 맞추고 표준 편차로 나눔)하고 텐서플로 dataset을 만듦\n",
        "X_train_norm = (X_train - np.mean(X_train))/np.std(X_train)\n",
        "\n",
        "ds_train_orig = tf.data.Dataset.from_tensor_slices(\n",
        "    (tf.cast(X_train_norm, tf.float32),\n",
        "     tf.cast(y_train, tf.float32)))\n"
      ],
      "metadata": {
        "id": "hMxIVzAOrTKj"
      },
      "execution_count": 4,
      "outputs": []
    },
    {
      "cell_type": "code",
      "source": [
        "class MyModel(tf.keras.Model):\n",
        "  def __init__(self):\n",
        "    super(MyModel, self).__init__()\n",
        "    self.w = tf.Variable(0.0, name='weight')\n",
        "    self.b = tf.Variable(0.0, name='bias')\n",
        "\n",
        "  def call(self, x):\n",
        "    return self.w * x + self.b\n",
        "\n",
        "model = MyModel()\n",
        "\n",
        "model.build(input_shape=(None, 1))\n",
        "model.summary()"
      ],
      "metadata": {
        "colab": {
          "base_uri": "https://localhost:8080/"
        },
        "id": "N3Gg_LVmsA59",
        "outputId": "9220173f-4eb2-46ff-ca78-b4367cfb764b"
      },
      "execution_count": 6,
      "outputs": [
        {
          "output_type": "stream",
          "name": "stdout",
          "text": [
            "Model: \"my_model\"\n",
            "_________________________________________________________________\n",
            " Layer (type)                Output Shape              Param #   \n",
            "=================================================================\n",
            "=================================================================\n",
            "Total params: 2\n",
            "Trainable params: 2\n",
            "Non-trainable params: 0\n",
            "_________________________________________________________________\n"
          ]
        }
      ]
    },
    {
      "cell_type": "code",
      "source": [
        "def loss_fn(y_true, y_pred):\n",
        "  return tf.reduce_mean(tf.square(y_true - y_pred))\n",
        "\n",
        "yt = tf.convert_to_tensor([1.0])\n",
        "yp = tf.convert_to_tensor([1.5])\n",
        "\n",
        "loss_fn(yt, yp)"
      ],
      "metadata": {
        "colab": {
          "base_uri": "https://localhost:8080/"
        },
        "id": "Wdf4sb72tV6a",
        "outputId": "975eb11e-3682-4727-a244-4d3e80dee646"
      },
      "execution_count": 7,
      "outputs": [
        {
          "output_type": "execute_result",
          "data": {
            "text/plain": [
              "<tf.Tensor: shape=(), dtype=float32, numpy=0.25>"
            ]
          },
          "metadata": {},
          "execution_count": 7
        }
      ]
    },
    {
      "cell_type": "code",
      "source": [
        "def train(model, inputs, outputs, learning_rate):\n",
        "  with tf.GradientTape() as tape:\n",
        "    current_loss = loss_fn(model(inputs), outputs)\n",
        "  dW, db = tape.gradient(current_loss, [model.w, model.b])\n",
        "  model.w.assign_sub(learning_rate * dW)\n",
        "  model.b.assign_sub(learning_rate * db)"
      ],
      "metadata": {
        "id": "Swuj-HnduNwq"
      },
      "execution_count": 8,
      "outputs": []
    },
    {
      "cell_type": "code",
      "source": [
        "tf.random.set_seed(1)\n",
        "\n",
        "num_epochs = 200\n",
        "log_steps = 100\n",
        "learning_rate = 0.001\n",
        "batch_size = 1\n",
        "steps_per_epoch = int(np.ceil(len(y_train)/ batch_size))\n",
        "\n",
        "ds_train = ds_train_orig.shuffle(buffer_size=len(y_train))\n",
        "ds_train = ds_train.repeat(count=None)\n",
        "ds_train = ds_train.batch(1)\n",
        "\n",
        "Ws, bs = [], []\n",
        "\n",
        "for i, batch in enumerate(ds_train):\n",
        "  if i >= steps_per_epoch * num_epochs:\n",
        "    break\n",
        "  \n",
        "  Ws.append(model.w.numpy())\n",
        "  bs.append(model.b.numpy())\n",
        "\n",
        "  bx, by = batch\n",
        "  loss_val = loss_fn(model(bx), by)\n",
        "\n",
        "  train(model, bx, by, learning_rate=learning_rate)\n",
        "\n",
        "  if i % log_steps == 0:\n",
        "    print('에포크 {:3d} 스텝 {:4d} 손실 {:6.4f}'.format(\n",
        "        int(i/steps_per_epoch), i, loss_val\n",
        "    ))"
      ],
      "metadata": {
        "colab": {
          "base_uri": "https://localhost:8080/"
        },
        "id": "3BvhUj9_uu_p",
        "outputId": "2b58de91-b01f-4db8-8224-823f22b26d9b"
      },
      "execution_count": 12,
      "outputs": [
        {
          "output_type": "stream",
          "name": "stdout",
          "text": [
            "에포크   0 스텝    0 손실 43.5600\n",
            "에포크  10 스텝  100 손실 0.7530\n",
            "에포크  20 스텝  200 손실 20.1759\n",
            "에포크  30 스텝  300 손실 23.3976\n",
            "에포크  40 스텝  400 손실 6.3481\n",
            "에포크  50 스텝  500 손실 4.6356\n",
            "에포크  60 스텝  600 손실 0.2411\n",
            "에포크  70 스텝  700 손실 0.2036\n",
            "에포크  80 스텝  800 손실 3.8177\n",
            "에포크  90 스텝  900 손실 0.9416\n",
            "에포크 100 스텝 1000 손실 0.7035\n",
            "에포크 110 스텝 1100 손실 0.0348\n",
            "에포크 120 스텝 1200 손실 0.5404\n",
            "에포크 130 스텝 1300 손실 0.1170\n",
            "에포크 140 스텝 1400 손실 0.1195\n",
            "에포크 150 스텝 1500 손실 0.0944\n",
            "에포크 160 스텝 1600 손실 0.4670\n",
            "에포크 170 스텝 1700 손실 2.0695\n",
            "에포크 180 스텝 1800 손실 0.0020\n",
            "에포크 190 스텝 1900 손실 0.3612\n"
          ]
        }
      ]
    },
    {
      "cell_type": "code",
      "source": [
        "print('최종 파라미터:', model.w.numpy(), model.b.numpy())\n",
        "\n",
        "\n",
        "X_test = np.linspace(0, 9, num=100).reshape(-1, 1)\n",
        "X_test_norm = (X_test - np.mean(X_train)) / np.std(X_train)\n",
        "\n",
        "y_pred = model(tf.cast(X_test_norm, dtype=tf.float32))\n",
        "\n",
        "\n",
        "fig = plt.figure(figsize=(13, 5))\n",
        "ax = fig.add_subplot(1, 2, 1)\n",
        "plt.plot(X_train_norm, y_train, 'o', markersize=10)\n",
        "plt.plot(X_test_norm, y_pred, '--', lw=3)\n",
        "plt.legend(['Training examples', 'Linear Reg.'], fontsize=15)\n",
        "ax.set_xlabel('x', size=15)\n",
        "ax.set_ylabel('y', size=15)\n",
        "ax.tick_params(axis='both', which='major', labelsize=15)\n",
        "\n",
        "ax = fig.add_subplot(1, 2, 2)\n",
        "plt.plot(Ws, lw=3)\n",
        "plt.plot(bs, lw=3)\n",
        "plt.legend(['Weight w', 'Bias unit b'], fontsize=15)\n",
        "ax.set_xlabel('Iteration', size=15)\n",
        "ax.set_ylabel('Value', size=15)\n",
        "ax.tick_params(axis='both', which='major', labelsize=15)\n",
        "\n",
        "# plt.savefig('images/13_6.png', dpi=300)\n",
        "plt.show()"
      ],
      "metadata": {
        "colab": {
          "base_uri": "https://localhost:8080/",
          "height": 317
        },
        "id": "4XnHNcxhvA7q",
        "outputId": "49d8a917-eee7-4eab-9512-632b4b8df952"
      },
      "execution_count": 13,
      "outputs": [
        {
          "output_type": "stream",
          "name": "stdout",
          "text": [
            "최종 파라미터: 2.6576622 4.8798566\n"
          ]
        },
        {
          "output_type": "display_data",
          "data": {
            "text/plain": [
              "<Figure size 936x360 with 2 Axes>"
            ],
            "image/png": "[encoded data removed]"
          },
          "metadata": {
            "needs_background": "light"
          }
        }
      ]
    },
    {
      "cell_type": "code",
      "source": [
        "# .compile()과 .fit() 메서드를 사용한 모델 훈련\n",
        "\n",
        "tf.random.set_seed(1)\n",
        "model = MyModel()\n",
        "#model.build((None, 1))\n",
        "\n",
        "model.compile(optimizer='sgd', \n",
        "              loss=loss_fn,\n",
        "              metrics=['mae', 'mse'])\n",
        "\n",
        "model.fit(X_train_norm, y_train, \n",
        "          epochs=num_epochs, batch_size=batch_size,\n",
        "          verbose=1)"
      ],
      "metadata": {
        "colab": {
          "base_uri": "https://localhost:8080/"
        },
        "id": "MxfAKAQLw_mx",
        "outputId": "705b4bce-7ec4-4b27-dce3-dbb724042171"
      },
      "execution_count": 16,
      "outputs": [
        {
          "output_type": "stream",
          "name": "stdout",
          "text": [
            "Epoch 1/200\n",
            "10/10 [==============================] - 1s 3ms/step - loss: 27.8723 - mae: 4.5654 - mse: 27.8723\n",
            "Epoch 2/200\n",
            "10/10 [==============================] - 0s 3ms/step - loss: 18.6586 - mae: 3.7446 - mse: 18.6586\n",
            "Epoch 3/200\n",
            "10/10 [==============================] - 0s 3ms/step - loss: 12.5239 - mae: 3.0454 - mse: 12.5239\n",
            "Epoch 4/200\n",
            "10/10 [==============================] - 0s 3ms/step - loss: 8.4670 - mae: 2.4907 - mse: 8.4670\n",
            "Epoch 5/200\n",
            "10/10 [==============================] - 0s 6ms/step - loss: 5.7632 - mae: 2.0567 - mse: 5.7632\n",
            "Epoch 6/200\n",
            "10/10 [==============================] - 0s 4ms/step - loss: 3.9697 - mae: 1.7232 - mse: 3.9697\n",
            "Epoch 7/200\n",
            "10/10 [==============================] - 0s 3ms/step - loss: 2.7766 - mae: 1.4752 - mse: 2.7766\n",
            "Epoch 8/200\n",
            "10/10 [==============================] - 0s 3ms/step - loss: 1.9861 - mae: 1.2578 - mse: 1.9861\n",
            "Epoch 9/200\n",
            "10/10 [==============================] - 0s 3ms/step - loss: 1.4572 - mae: 1.0978 - mse: 1.4572\n",
            "Epoch 10/200\n",
            "10/10 [==============================] - 0s 3ms/step - loss: 1.1055 - mae: 0.9674 - mse: 1.1055\n",
            "Epoch 11/200\n",
            "10/10 [==============================] - 0s 4ms/step - loss: 0.8719 - mae: 0.8633 - mse: 0.8719\n",
            "Epoch 12/200\n",
            "10/10 [==============================] - 0s 3ms/step - loss: 0.7171 - mae: 0.7713 - mse: 0.7171\n",
            "Epoch 13/200\n",
            "10/10 [==============================] - 0s 4ms/step - loss: 0.6147 - mae: 0.7012 - mse: 0.6147\n",
            "Epoch 14/200\n",
            "10/10 [==============================] - 0s 3ms/step - loss: 0.5476 - mae: 0.6474 - mse: 0.5476\n",
            "Epoch 15/200\n",
            "10/10 [==============================] - 0s 2ms/step - loss: 0.5024 - mae: 0.5972 - mse: 0.5024\n",
            "Epoch 16/200\n",
            "10/10 [==============================] - 0s 2ms/step - loss: 0.4736 - mae: 0.5529 - mse: 0.4736\n",
            "Epoch 17/200\n",
            "10/10 [==============================] - 0s 2ms/step - loss: 0.4543 - mae: 0.5322 - mse: 0.4543\n",
            "Epoch 18/200\n",
            "10/10 [==============================] - 0s 2ms/step - loss: 0.4403 - mae: 0.5131 - mse: 0.4403\n",
            "Epoch 19/200\n",
            "10/10 [==============================] - 0s 2ms/step - loss: 0.4309 - mae: 0.5015 - mse: 0.4309\n",
            "Epoch 20/200\n",
            "10/10 [==============================] - 0s 2ms/step - loss: 0.4254 - mae: 0.5001 - mse: 0.4254\n",
            "Epoch 21/200\n",
            "10/10 [==============================] - 0s 3ms/step - loss: 0.4213 - mae: 0.4908 - mse: 0.4213\n",
            "Epoch 22/200\n",
            "10/10 [==============================] - 0s 2ms/step - loss: 0.4189 - mae: 0.4919 - mse: 0.4189\n",
            "Epoch 23/200\n",
            "10/10 [==============================] - 0s 3ms/step - loss: 0.4172 - mae: 0.4942 - mse: 0.4172\n",
            "Epoch 24/200\n",
            "10/10 [==============================] - 0s 3ms/step - loss: 0.4158 - mae: 0.4921 - mse: 0.4158\n",
            "Epoch 25/200\n",
            "10/10 [==============================] - 0s 3ms/step - loss: 0.4151 - mae: 0.4872 - mse: 0.4151\n",
            "Epoch 26/200\n",
            "10/10 [==============================] - 0s 3ms/step - loss: 0.4149 - mae: 0.4950 - mse: 0.4149\n",
            "Epoch 27/200\n",
            "10/10 [==============================] - 0s 4ms/step - loss: 0.4144 - mae: 0.4949 - mse: 0.4144\n",
            "Epoch 28/200\n",
            "10/10 [==============================] - 0s 4ms/step - loss: 0.4139 - mae: 0.4838 - mse: 0.4139\n",
            "Epoch 29/200\n",
            "10/10 [==============================] - 0s 3ms/step - loss: 0.4140 - mae: 0.4913 - mse: 0.4140\n",
            "Epoch 30/200\n",
            "10/10 [==============================] - 0s 3ms/step - loss: 0.4132 - mae: 0.4968 - mse: 0.4132\n",
            "Epoch 31/200\n",
            "10/10 [==============================] - 0s 4ms/step - loss: 0.4139 - mae: 0.4894 - mse: 0.4139\n",
            "Epoch 32/200\n",
            "10/10 [==============================] - 0s 3ms/step - loss: 0.4136 - mae: 0.4894 - mse: 0.4136\n",
            "Epoch 33/200\n",
            "10/10 [==============================] - 0s 3ms/step - loss: 0.4137 - mae: 0.4928 - mse: 0.4137\n",
            "Epoch 34/200\n",
            "10/10 [==============================] - 0s 3ms/step - loss: 0.4132 - mae: 0.4834 - mse: 0.4132\n",
            "Epoch 35/200\n",
            "10/10 [==============================] - 0s 3ms/step - loss: 0.4137 - mae: 0.4939 - mse: 0.4137\n",
            "Epoch 36/200\n",
            "10/10 [==============================] - 0s 8ms/step - loss: 0.4136 - mae: 0.4947 - mse: 0.4136\n",
            "Epoch 37/200\n",
            "10/10 [==============================] - 0s 3ms/step - loss: 0.4131 - mae: 0.4855 - mse: 0.4131\n",
            "Epoch 38/200\n",
            "10/10 [==============================] - 0s 3ms/step - loss: 0.4133 - mae: 0.4940 - mse: 0.4133\n",
            "Epoch 39/200\n",
            "10/10 [==============================] - 0s 3ms/step - loss: 0.4134 - mae: 0.4822 - mse: 0.4134\n",
            "Epoch 40/200\n",
            "10/10 [==============================] - 0s 3ms/step - loss: 0.4137 - mae: 0.4979 - mse: 0.4137\n",
            "Epoch 41/200\n",
            "10/10 [==============================] - 0s 3ms/step - loss: 0.4138 - mae: 0.4903 - mse: 0.4138\n",
            "Epoch 42/200\n",
            "10/10 [==============================] - 0s 3ms/step - loss: 0.4135 - mae: 0.4932 - mse: 0.4135\n",
            "Epoch 43/200\n",
            "10/10 [==============================] - 0s 3ms/step - loss: 0.4136 - mae: 0.4886 - mse: 0.4136\n",
            "Epoch 44/200\n",
            "10/10 [==============================] - 0s 3ms/step - loss: 0.4129 - mae: 0.4800 - mse: 0.4129\n",
            "Epoch 45/200\n",
            "10/10 [==============================] - 0s 3ms/step - loss: 0.4140 - mae: 0.4886 - mse: 0.4140\n",
            "Epoch 46/200\n",
            "10/10 [==============================] - 0s 3ms/step - loss: 0.4138 - mae: 0.4888 - mse: 0.4138\n",
            "Epoch 47/200\n",
            "10/10 [==============================] - 0s 3ms/step - loss: 0.4137 - mae: 0.4879 - mse: 0.4137\n",
            "Epoch 48/200\n",
            "10/10 [==============================] - 0s 2ms/step - loss: 0.4135 - mae: 0.4925 - mse: 0.4135\n",
            "Epoch 49/200\n",
            "10/10 [==============================] - 0s 2ms/step - loss: 0.4136 - mae: 0.4933 - mse: 0.4136\n",
            "Epoch 50/200\n",
            "10/10 [==============================] - 0s 3ms/step - loss: 0.4137 - mae: 0.4816 - mse: 0.4137\n",
            "Epoch 51/200\n",
            "10/10 [==============================] - 0s 2ms/step - loss: 0.4137 - mae: 0.4901 - mse: 0.4137\n",
            "Epoch 52/200\n",
            "10/10 [==============================] - 0s 2ms/step - loss: 0.4136 - mae: 0.4935 - mse: 0.4136\n",
            "Epoch 53/200\n",
            "10/10 [==============================] - 0s 2ms/step - loss: 0.4133 - mae: 0.4881 - mse: 0.4133\n",
            "Epoch 54/200\n",
            "10/10 [==============================] - 0s 3ms/step - loss: 0.4138 - mae: 0.4831 - mse: 0.4138\n",
            "Epoch 55/200\n",
            "10/10 [==============================] - 0s 3ms/step - loss: 0.4139 - mae: 0.4845 - mse: 0.4139\n",
            "Epoch 56/200\n",
            "10/10 [==============================] - 0s 2ms/step - loss: 0.4139 - mae: 0.4868 - mse: 0.4139\n",
            "Epoch 57/200\n",
            "10/10 [==============================] - 0s 2ms/step - loss: 0.4139 - mae: 0.4903 - mse: 0.4139\n",
            "Epoch 58/200\n",
            "10/10 [==============================] - 0s 3ms/step - loss: 0.4138 - mae: 0.4827 - mse: 0.4138\n",
            "Epoch 59/200\n",
            "10/10 [==============================] - 0s 2ms/step - loss: 0.4138 - mae: 0.4849 - mse: 0.4138\n",
            "Epoch 60/200\n",
            "10/10 [==============================] - 0s 2ms/step - loss: 0.4136 - mae: 0.4989 - mse: 0.4136\n",
            "Epoch 61/200\n",
            "10/10 [==============================] - 0s 4ms/step - loss: 0.4138 - mae: 0.4854 - mse: 0.4138\n",
            "Epoch 62/200\n",
            "10/10 [==============================] - 0s 3ms/step - loss: 0.4133 - mae: 0.4913 - mse: 0.4133\n",
            "Epoch 63/200\n",
            "10/10 [==============================] - 0s 3ms/step - loss: 0.4136 - mae: 0.4915 - mse: 0.4136\n",
            "Epoch 64/200\n",
            "10/10 [==============================] - 0s 2ms/step - loss: 0.4138 - mae: 0.4882 - mse: 0.4138\n",
            "Epoch 65/200\n",
            "10/10 [==============================] - 0s 2ms/step - loss: 0.4139 - mae: 0.4881 - mse: 0.4139\n",
            "Epoch 66/200\n",
            "10/10 [==============================] - 0s 3ms/step - loss: 0.4135 - mae: 0.4882 - mse: 0.4135\n",
            "Epoch 67/200\n",
            "10/10 [==============================] - 0s 2ms/step - loss: 0.4140 - mae: 0.4888 - mse: 0.4140\n",
            "Epoch 68/200\n",
            "10/10 [==============================] - 0s 2ms/step - loss: 0.4138 - mae: 0.4890 - mse: 0.4138\n",
            "Epoch 69/200\n",
            "10/10 [==============================] - 0s 2ms/step - loss: 0.4137 - mae: 0.4823 - mse: 0.4137\n",
            "Epoch 70/200\n",
            "10/10 [==============================] - 0s 2ms/step - loss: 0.4135 - mae: 0.4800 - mse: 0.4135\n",
            "Epoch 71/200\n",
            "10/10 [==============================] - 0s 2ms/step - loss: 0.4136 - mae: 0.4938 - mse: 0.4136\n",
            "Epoch 72/200\n",
            "10/10 [==============================] - 0s 3ms/step - loss: 0.4135 - mae: 0.4915 - mse: 0.4135\n",
            "Epoch 73/200\n",
            "10/10 [==============================] - 0s 2ms/step - loss: 0.4139 - mae: 0.4901 - mse: 0.4139\n",
            "Epoch 74/200\n",
            "10/10 [==============================] - 0s 3ms/step - loss: 0.4139 - mae: 0.4915 - mse: 0.4139\n",
            "Epoch 75/200\n",
            "10/10 [==============================] - 0s 3ms/step - loss: 0.4133 - mae: 0.4894 - mse: 0.4133\n",
            "Epoch 76/200\n",
            "10/10 [==============================] - 0s 2ms/step - loss: 0.4136 - mae: 0.4939 - mse: 0.4136\n",
            "Epoch 77/200\n",
            "10/10 [==============================] - 0s 2ms/step - loss: 0.4139 - mae: 0.4824 - mse: 0.4139\n",
            "Epoch 78/200\n",
            "10/10 [==============================] - 0s 2ms/step - loss: 0.4136 - mae: 0.4811 - mse: 0.4136\n",
            "Epoch 79/200\n",
            "10/10 [==============================] - 0s 2ms/step - loss: 0.4137 - mae: 0.4854 - mse: 0.4137\n",
            "Epoch 80/200\n",
            "10/10 [==============================] - 0s 2ms/step - loss: 0.4136 - mae: 0.4842 - mse: 0.4136\n",
            "Epoch 81/200\n",
            "10/10 [==============================] - 0s 2ms/step - loss: 0.4139 - mae: 0.4923 - mse: 0.4139\n",
            "Epoch 82/200\n",
            "10/10 [==============================] - 0s 3ms/step - loss: 0.4137 - mae: 0.4861 - mse: 0.4137\n",
            "Epoch 83/200\n",
            "10/10 [==============================] - 0s 2ms/step - loss: 0.4135 - mae: 0.4913 - mse: 0.4135\n",
            "Epoch 84/200\n",
            "10/10 [==============================] - 0s 2ms/step - loss: 0.4139 - mae: 0.4861 - mse: 0.4139\n",
            "Epoch 85/200\n",
            "10/10 [==============================] - 0s 2ms/step - loss: 0.4135 - mae: 0.4814 - mse: 0.4135\n",
            "Epoch 86/200\n",
            "10/10 [==============================] - 0s 2ms/step - loss: 0.4137 - mae: 0.4928 - mse: 0.4137\n",
            "Epoch 87/200\n",
            "10/10 [==============================] - 0s 3ms/step - loss: 0.4137 - mae: 0.4861 - mse: 0.4137\n",
            "Epoch 88/200\n",
            "10/10 [==============================] - 0s 2ms/step - loss: 0.4138 - mae: 0.4916 - mse: 0.4138\n",
            "Epoch 89/200\n",
            "10/10 [==============================] - 0s 3ms/step - loss: 0.4138 - mae: 0.4940 - mse: 0.4138\n",
            "Epoch 90/200\n",
            "10/10 [==============================] - 0s 2ms/step - loss: 0.4135 - mae: 0.4943 - mse: 0.4135\n",
            "Epoch 91/200\n",
            "10/10 [==============================] - 0s 2ms/step - loss: 0.4139 - mae: 0.4923 - mse: 0.4139\n",
            "Epoch 92/200\n",
            "10/10 [==============================] - 0s 2ms/step - loss: 0.4138 - mae: 0.4877 - mse: 0.4138\n",
            "Epoch 93/200\n",
            "10/10 [==============================] - 0s 2ms/step - loss: 0.4137 - mae: 0.4862 - mse: 0.4137\n",
            "Epoch 94/200\n",
            "10/10 [==============================] - 0s 2ms/step - loss: 0.4138 - mae: 0.4867 - mse: 0.4138\n",
            "Epoch 95/200\n",
            "10/10 [==============================] - 0s 2ms/step - loss: 0.4134 - mae: 0.4790 - mse: 0.4134\n",
            "Epoch 96/200\n",
            "10/10 [==============================] - 0s 2ms/step - loss: 0.4139 - mae: 0.4913 - mse: 0.4139\n",
            "Epoch 97/200\n",
            "10/10 [==============================] - 0s 3ms/step - loss: 0.4133 - mae: 0.4977 - mse: 0.4133\n",
            "Epoch 98/200\n",
            "10/10 [==============================] - 0s 2ms/step - loss: 0.4136 - mae: 0.4962 - mse: 0.4136\n",
            "Epoch 99/200\n",
            "10/10 [==============================] - 0s 2ms/step - loss: 0.4135 - mae: 0.4962 - mse: 0.4135\n",
            "Epoch 100/200\n",
            "10/10 [==============================] - 0s 2ms/step - loss: 0.4133 - mae: 0.4837 - mse: 0.4133\n",
            "Epoch 101/200\n",
            "10/10 [==============================] - 0s 2ms/step - loss: 0.4138 - mae: 0.4840 - mse: 0.4138\n",
            "Epoch 102/200\n",
            "10/10 [==============================] - 0s 2ms/step - loss: 0.4136 - mae: 0.4862 - mse: 0.4136\n",
            "Epoch 103/200\n",
            "10/10 [==============================] - 0s 3ms/step - loss: 0.4139 - mae: 0.4905 - mse: 0.4139\n",
            "Epoch 104/200\n",
            "10/10 [==============================] - 0s 2ms/step - loss: 0.4137 - mae: 0.4974 - mse: 0.4137\n",
            "Epoch 105/200\n",
            "10/10 [==============================] - 0s 2ms/step - loss: 0.4130 - mae: 0.4923 - mse: 0.4130\n",
            "Epoch 106/200\n",
            "10/10 [==============================] - 0s 2ms/step - loss: 0.4138 - mae: 0.4851 - mse: 0.4138\n",
            "Epoch 107/200\n",
            "10/10 [==============================] - 0s 3ms/step - loss: 0.4138 - mae: 0.4849 - mse: 0.4138\n",
            "Epoch 108/200\n",
            "10/10 [==============================] - 0s 3ms/step - loss: 0.4134 - mae: 0.4929 - mse: 0.4134\n",
            "Epoch 109/200\n",
            "10/10 [==============================] - 0s 3ms/step - loss: 0.4137 - mae: 0.4944 - mse: 0.4137\n",
            "Epoch 110/200\n",
            "10/10 [==============================] - 0s 3ms/step - loss: 0.4135 - mae: 0.4793 - mse: 0.4135\n",
            "Epoch 111/200\n",
            "10/10 [==============================] - 0s 2ms/step - loss: 0.4133 - mae: 0.4822 - mse: 0.4133\n",
            "Epoch 112/200\n",
            "10/10 [==============================] - 0s 3ms/step - loss: 0.4130 - mae: 0.4855 - mse: 0.4130\n",
            "Epoch 113/200\n",
            "10/10 [==============================] - 0s 2ms/step - loss: 0.4139 - mae: 0.4918 - mse: 0.4139\n",
            "Epoch 114/200\n",
            "10/10 [==============================] - 0s 2ms/step - loss: 0.4136 - mae: 0.4870 - mse: 0.4136\n",
            "Epoch 115/200\n",
            "10/10 [==============================] - 0s 3ms/step - loss: 0.4137 - mae: 0.4855 - mse: 0.4137\n",
            "Epoch 116/200\n",
            "10/10 [==============================] - 0s 2ms/step - loss: 0.4136 - mae: 0.4838 - mse: 0.4136\n",
            "Epoch 117/200\n",
            "10/10 [==============================] - 0s 3ms/step - loss: 0.4139 - mae: 0.4898 - mse: 0.4139\n",
            "Epoch 118/200\n",
            "10/10 [==============================] - 0s 3ms/step - loss: 0.4139 - mae: 0.4861 - mse: 0.4139\n",
            "Epoch 119/200\n",
            "10/10 [==============================] - 0s 3ms/step - loss: 0.4140 - mae: 0.4889 - mse: 0.4140\n",
            "Epoch 120/200\n",
            "10/10 [==============================] - 0s 3ms/step - loss: 0.4140 - mae: 0.4920 - mse: 0.4140\n",
            "Epoch 121/200\n",
            "10/10 [==============================] - 0s 2ms/step - loss: 0.4138 - mae: 0.4944 - mse: 0.4138\n",
            "Epoch 122/200\n",
            "10/10 [==============================] - 0s 2ms/step - loss: 0.4139 - mae: 0.4941 - mse: 0.4139\n",
            "Epoch 123/200\n",
            "10/10 [==============================] - 0s 2ms/step - loss: 0.4132 - mae: 0.4822 - mse: 0.4132\n",
            "Epoch 124/200\n",
            "10/10 [==============================] - 0s 2ms/step - loss: 0.4135 - mae: 0.4840 - mse: 0.4135\n",
            "Epoch 125/200\n",
            "10/10 [==============================] - 0s 2ms/step - loss: 0.4137 - mae: 0.4908 - mse: 0.4137\n",
            "Epoch 126/200\n",
            "10/10 [==============================] - 0s 2ms/step - loss: 0.4140 - mae: 0.4927 - mse: 0.4140\n",
            "Epoch 127/200\n",
            "10/10 [==============================] - 0s 2ms/step - loss: 0.4139 - mae: 0.4918 - mse: 0.4139\n",
            "Epoch 128/200\n",
            "10/10 [==============================] - 0s 2ms/step - loss: 0.4139 - mae: 0.4882 - mse: 0.4139\n",
            "Epoch 129/200\n",
            "10/10 [==============================] - 0s 2ms/step - loss: 0.4139 - mae: 0.4905 - mse: 0.4139\n",
            "Epoch 130/200\n",
            "10/10 [==============================] - 0s 3ms/step - loss: 0.4139 - mae: 0.4882 - mse: 0.4139\n",
            "Epoch 131/200\n",
            "10/10 [==============================] - 0s 3ms/step - loss: 0.4140 - mae: 0.4897 - mse: 0.4140\n",
            "Epoch 132/200\n",
            "10/10 [==============================] - 0s 2ms/step - loss: 0.4138 - mae: 0.4872 - mse: 0.4138\n",
            "Epoch 133/200\n",
            "10/10 [==============================] - 0s 2ms/step - loss: 0.4139 - mae: 0.4868 - mse: 0.4139\n",
            "Epoch 134/200\n",
            "10/10 [==============================] - 0s 2ms/step - loss: 0.4136 - mae: 0.4867 - mse: 0.4136\n",
            "Epoch 135/200\n",
            "10/10 [==============================] - 0s 2ms/step - loss: 0.4137 - mae: 0.4939 - mse: 0.4137\n",
            "Epoch 136/200\n",
            "10/10 [==============================] - 0s 2ms/step - loss: 0.4136 - mae: 0.4872 - mse: 0.4136\n",
            "Epoch 137/200\n",
            "10/10 [==============================] - 0s 2ms/step - loss: 0.4140 - mae: 0.4886 - mse: 0.4140\n",
            "Epoch 138/200\n",
            "10/10 [==============================] - 0s 3ms/step - loss: 0.4136 - mae: 0.4973 - mse: 0.4136\n",
            "Epoch 139/200\n",
            "10/10 [==============================] - 0s 2ms/step - loss: 0.4132 - mae: 0.4847 - mse: 0.4132\n",
            "Epoch 140/200\n",
            "10/10 [==============================] - 0s 2ms/step - loss: 0.4139 - mae: 0.4943 - mse: 0.4139\n",
            "Epoch 141/200\n",
            "10/10 [==============================] - 0s 2ms/step - loss: 0.4139 - mae: 0.4879 - mse: 0.4139\n",
            "Epoch 142/200\n",
            "10/10 [==============================] - 0s 2ms/step - loss: 0.4138 - mae: 0.4847 - mse: 0.4138\n",
            "Epoch 143/200\n",
            "10/10 [==============================] - 0s 3ms/step - loss: 0.4137 - mae: 0.4857 - mse: 0.4137\n",
            "Epoch 144/200\n",
            "10/10 [==============================] - 0s 4ms/step - loss: 0.4138 - mae: 0.4900 - mse: 0.4138\n",
            "Epoch 145/200\n",
            "10/10 [==============================] - 0s 2ms/step - loss: 0.4132 - mae: 0.4884 - mse: 0.4132\n",
            "Epoch 146/200\n",
            "10/10 [==============================] - 0s 2ms/step - loss: 0.4139 - mae: 0.4925 - mse: 0.4139\n",
            "Epoch 147/200\n",
            "10/10 [==============================] - 0s 3ms/step - loss: 0.4134 - mae: 0.4866 - mse: 0.4134\n",
            "Epoch 148/200\n",
            "10/10 [==============================] - 0s 2ms/step - loss: 0.4139 - mae: 0.4887 - mse: 0.4139\n",
            "Epoch 149/200\n",
            "10/10 [==============================] - 0s 2ms/step - loss: 0.4132 - mae: 0.4858 - mse: 0.4132\n",
            "Epoch 150/200\n",
            "10/10 [==============================] - 0s 2ms/step - loss: 0.4140 - mae: 0.4936 - mse: 0.4140\n",
            "Epoch 151/200\n",
            "10/10 [==============================] - 0s 2ms/step - loss: 0.4139 - mae: 0.4885 - mse: 0.4139\n",
            "Epoch 152/200\n",
            "10/10 [==============================] - 0s 2ms/step - loss: 0.4139 - mae: 0.4876 - mse: 0.4139\n",
            "Epoch 153/200\n",
            "10/10 [==============================] - 0s 2ms/step - loss: 0.4133 - mae: 0.4937 - mse: 0.4133\n",
            "Epoch 154/200\n",
            "10/10 [==============================] - 0s 3ms/step - loss: 0.4140 - mae: 0.4925 - mse: 0.4140\n",
            "Epoch 155/200\n",
            "10/10 [==============================] - 0s 2ms/step - loss: 0.4135 - mae: 0.4933 - mse: 0.4135\n",
            "Epoch 156/200\n",
            "10/10 [==============================] - 0s 3ms/step - loss: 0.4139 - mae: 0.4902 - mse: 0.4139\n",
            "Epoch 157/200\n",
            "10/10 [==============================] - 0s 2ms/step - loss: 0.4136 - mae: 0.4907 - mse: 0.4136\n",
            "Epoch 158/200\n",
            "10/10 [==============================] - 0s 2ms/step - loss: 0.4130 - mae: 0.4830 - mse: 0.4130\n",
            "Epoch 159/200\n",
            "10/10 [==============================] - 0s 2ms/step - loss: 0.4139 - mae: 0.4870 - mse: 0.4139\n",
            "Epoch 160/200\n",
            "10/10 [==============================] - 0s 2ms/step - loss: 0.4138 - mae: 0.4829 - mse: 0.4138\n",
            "Epoch 161/200\n",
            "10/10 [==============================] - 0s 2ms/step - loss: 0.4132 - mae: 0.4864 - mse: 0.4132\n",
            "Epoch 162/200\n",
            "10/10 [==============================] - 0s 2ms/step - loss: 0.4140 - mae: 0.4928 - mse: 0.4140\n",
            "Epoch 163/200\n",
            "10/10 [==============================] - 0s 3ms/step - loss: 0.4140 - mae: 0.4906 - mse: 0.4140\n",
            "Epoch 164/200\n",
            "10/10 [==============================] - 0s 2ms/step - loss: 0.4135 - mae: 0.4831 - mse: 0.4135\n",
            "Epoch 165/200\n",
            "10/10 [==============================] - 0s 2ms/step - loss: 0.4139 - mae: 0.4874 - mse: 0.4139\n",
            "Epoch 166/200\n",
            "10/10 [==============================] - 0s 3ms/step - loss: 0.4133 - mae: 0.4942 - mse: 0.4133\n",
            "Epoch 167/200\n",
            "10/10 [==============================] - 0s 2ms/step - loss: 0.4140 - mae: 0.4919 - mse: 0.4140\n",
            "Epoch 168/200\n",
            "10/10 [==============================] - 0s 3ms/step - loss: 0.4139 - mae: 0.4889 - mse: 0.4139\n",
            "Epoch 169/200\n",
            "10/10 [==============================] - 0s 3ms/step - loss: 0.4133 - mae: 0.4986 - mse: 0.4133\n",
            "Epoch 170/200\n",
            "10/10 [==============================] - 0s 2ms/step - loss: 0.4132 - mae: 0.4820 - mse: 0.4132\n",
            "Epoch 171/200\n",
            "10/10 [==============================] - 0s 2ms/step - loss: 0.4139 - mae: 0.4880 - mse: 0.4139\n",
            "Epoch 172/200\n",
            "10/10 [==============================] - 0s 2ms/step - loss: 0.4138 - mae: 0.4936 - mse: 0.4138\n",
            "Epoch 173/200\n",
            "10/10 [==============================] - 0s 3ms/step - loss: 0.4138 - mae: 0.4858 - mse: 0.4138\n",
            "Epoch 174/200\n",
            "10/10 [==============================] - 0s 2ms/step - loss: 0.4138 - mae: 0.4872 - mse: 0.4138\n",
            "Epoch 175/200\n",
            "10/10 [==============================] - 0s 2ms/step - loss: 0.4134 - mae: 0.4953 - mse: 0.4134\n",
            "Epoch 176/200\n",
            "10/10 [==============================] - 0s 3ms/step - loss: 0.4135 - mae: 0.4950 - mse: 0.4135\n",
            "Epoch 177/200\n",
            "10/10 [==============================] - 0s 2ms/step - loss: 0.4139 - mae: 0.4918 - mse: 0.4139\n",
            "Epoch 178/200\n",
            "10/10 [==============================] - 0s 2ms/step - loss: 0.4137 - mae: 0.4893 - mse: 0.4137\n",
            "Epoch 179/200\n",
            "10/10 [==============================] - 0s 3ms/step - loss: 0.4138 - mae: 0.4829 - mse: 0.4138\n",
            "Epoch 180/200\n",
            "10/10 [==============================] - 0s 3ms/step - loss: 0.4135 - mae: 0.4956 - mse: 0.4135\n",
            "Epoch 181/200\n",
            "10/10 [==============================] - 0s 2ms/step - loss: 0.4137 - mae: 0.4864 - mse: 0.4137\n",
            "Epoch 182/200\n",
            "10/10 [==============================] - 0s 3ms/step - loss: 0.4137 - mae: 0.4838 - mse: 0.4137\n",
            "Epoch 183/200\n",
            "10/10 [==============================] - 0s 2ms/step - loss: 0.4138 - mae: 0.4886 - mse: 0.4138\n",
            "Epoch 184/200\n",
            "10/10 [==============================] - 0s 2ms/step - loss: 0.4130 - mae: 0.4909 - mse: 0.4130\n",
            "Epoch 185/200\n",
            "10/10 [==============================] - 0s 2ms/step - loss: 0.4133 - mae: 0.4766 - mse: 0.4133\n",
            "Epoch 186/200\n",
            "10/10 [==============================] - 0s 2ms/step - loss: 0.4139 - mae: 0.4859 - mse: 0.4139\n",
            "Epoch 187/200\n",
            "10/10 [==============================] - 0s 2ms/step - loss: 0.4138 - mae: 0.4941 - mse: 0.4138\n",
            "Epoch 188/200\n",
            "10/10 [==============================] - 0s 2ms/step - loss: 0.4134 - mae: 0.4823 - mse: 0.4134\n",
            "Epoch 189/200\n",
            "10/10 [==============================] - 0s 2ms/step - loss: 0.4138 - mae: 0.4837 - mse: 0.4138\n",
            "Epoch 190/200\n",
            "10/10 [==============================] - 0s 2ms/step - loss: 0.4138 - mae: 0.4937 - mse: 0.4138\n",
            "Epoch 191/200\n",
            "10/10 [==============================] - 0s 2ms/step - loss: 0.4138 - mae: 0.4944 - mse: 0.4138\n",
            "Epoch 192/200\n",
            "10/10 [==============================] - 0s 3ms/step - loss: 0.4140 - mae: 0.4927 - mse: 0.4140\n",
            "Epoch 193/200\n",
            "10/10 [==============================] - 0s 3ms/step - loss: 0.4140 - mae: 0.4893 - mse: 0.4140\n",
            "Epoch 194/200\n",
            "10/10 [==============================] - 0s 2ms/step - loss: 0.4135 - mae: 0.4846 - mse: 0.4135\n",
            "Epoch 195/200\n",
            "10/10 [==============================] - 0s 3ms/step - loss: 0.4138 - mae: 0.4844 - mse: 0.4138\n",
            "Epoch 196/200\n",
            "10/10 [==============================] - 0s 2ms/step - loss: 0.4139 - mae: 0.4936 - mse: 0.4139\n",
            "Epoch 197/200\n",
            "10/10 [==============================] - 0s 2ms/step - loss: 0.4135 - mae: 0.4964 - mse: 0.4135\n",
            "Epoch 198/200\n",
            "10/10 [==============================] - 0s 2ms/step - loss: 0.4138 - mae: 0.4873 - mse: 0.4138\n",
            "Epoch 199/200\n",
            "10/10 [==============================] - 0s 2ms/step - loss: 0.4139 - mae: 0.4846 - mse: 0.4139\n",
            "Epoch 200/200\n",
            "10/10 [==============================] - 0s 2ms/step - loss: 0.4138 - mae: 0.4868 - mse: 0.4138\n"
          ]
        },
        {
          "output_type": "execute_result",
          "data": {
            "text/plain": [
              "<keras.callbacks.History at 0x7f04b366d710>"
            ]
          },
          "metadata": {},
          "execution_count": 16
        }
      ]
    },
    {
      "cell_type": "code",
      "source": [
        "print(model.w.numpy(), model.b.numpy())\n",
        "\n",
        "\n",
        "X_test = np.linspace(0, 9, num=100).reshape(-1, 1)\n",
        "X_test_norm = (X_test - np.mean(X_train)) / np.std(X_train)\n",
        "\n",
        "y_pred = model(tf.cast(X_test_norm, dtype=tf.float32))\n",
        "\n",
        "\n",
        "fig = plt.figure(figsize=(13, 5))\n",
        "ax = fig.add_subplot(1, 2, 1)\n",
        "plt.plot(X_train_norm, y_train, 'o', markersize=10)\n",
        "plt.plot(X_test_norm, y_pred, '--', lw=3)\n",
        "plt.legend(['Training Samples', 'Linear Regression'], fontsize=15)\n",
        "\n",
        "ax = fig.add_subplot(1, 2, 2)\n",
        "plt.plot(Ws, lw=3)\n",
        "plt.plot(bs, lw=3)\n",
        "plt.legend(['W', 'bias'], fontsize=15)\n",
        "plt.show()"
      ],
      "metadata": {
        "colab": {
          "base_uri": "https://localhost:8080/",
          "height": 305
        },
        "id": "uuDDTkLxxsUX",
        "outputId": "4fbb7cd4-60fc-4798-a1c0-4cd379ea034e"
      },
      "execution_count": 24,
      "outputs": [
        {
          "output_type": "stream",
          "name": "stdout",
          "text": [
            "2.7067397 4.965721\n"
          ]
        },
        {
          "output_type": "display_data",
          "data": {
            "text/plain": [
              "<Figure size 936x360 with 2 Axes>"
            ],
            "image/png": "[encoded data removed]"
          },
          "metadata": {
            "needs_background": "light"
          }
        }
      ]
    },
    {
      "cell_type": "code",
      "source": [
        "# 붓꽃 데이터셋을 분류하는 다층 퍼셉트로 만들기\n",
        "\n",
        "import tensorflow_datasets as tfds\n",
        "\n",
        "\n",
        "iris, iris_info = tfds.load('iris', with_info=True)\n",
        "\n",
        "print(iris_info)"
      ],
      "metadata": {
        "colab": {
          "base_uri": "https://localhost:8080/",
          "height": 728,
          "referenced_widgets": [
            "4b769a15c71745679a4b2ec0eff8cae0",
            "71236f0585e948d1a4afd4b8ea7f80a6",
            "6b38cc49bd44493fbb5a944175f18256",
            "d4d54b0794d845a3b8e447ffbda19f42",
            "f85e4b7174f24ab7ae1a41450be60bfa",
            "3981d7eee0bc43769593090b153edd17",
            "43331561ef8849b58413547675932abc",
            "1b5c2916f02242b1be44bc7ec83d1a7d",
            "4226b763bf554fb8a529518c44c8c565",
            "493d801fd4d54aeaaebf5e5d27054a9b",
            "78916537ec934935ae4110eaaa9e90f6",
            "e343a3cb29ca485cb632f0953cf16c84",
            "f91ebd439343473fad22f0e9a7d0d323",
            "6db915b10b074c1cad39cb0b6c990baa",
            "d1a99a209d324756a8ef1e0b5d8bd188",
            "803b1e87f0194904a8b42746d2fd6bde",
            "c4f1d2b9a5ea4db9ab31f4e0f8b00937",
            "b031199a2ee74662993a546249b90698",
            "f2ec508e84614c48b15bbd9678822015",
            "ca5d7133eb9143dc99e376797be90600",
            "62ddda9f1f8b4f7fbdd745580bdb3c32",
            "e10b3c0ce82d4175a7d2f5741366feaf",
            "6978425d95af47ec8e3479b90c5e1b1d",
            "61b4fce523074b7f913628438e3a2177",
            "2189bfdb3fc946eead20bba6b83aabd2",
            "feb1e5d70a764db4b2bf4826a35bbdf5",
            "d38b9026ec094faca053a27e4e879edd",
            "0af585cc56484e13b314587fb20d0063",
            "1c65aa55f89f4c2abfbc2596b600b07f",
            "1c8243d6a14a4a1ebebff039672c7088",
            "5cb9ae13ff7043bb82e4a24d9b9859dc",
            "06f56ef66012461aaa82f1733732d80b",
            "5bd5dbff99ef4719bcc44b259b32b284",
            "7e86734665a440689cdd6fe14c068b4b",
            "7daeda00feba4719891b04509462c779",
            "073a6d5fe6ce43a9a90276ff93a6e566",
            "e0cec8bd78ab4a78ac43151346786a87",
            "f271a63d089e430088a361711b8162c0",
            "e4fc9cf34a7e412188c3e2f398c898ea",
            "feeb449389944522b88bf442e711a78a",
            "3d0714e4f1644d2abe81d4ee16ab7ccb",
            "e735dda8d0e64809b2c020205b6db9fd",
            "c7e12622fe634acfae7d6622cc368e3d",
            "56534882a5544284bde7d0aaff572f9d",
            "ef887e914f26468ca298f229aa6d4a76",
            "4ccf8f838dfd477983d7f5ba78c1bbe5",
            "a840c105353b41cbb33a644fb198ed68",
            "e888e89cb0ee45d4a3a8b6ebe3cd4d5c",
            "58d5ca6e2dd34cb6a0500ab2ed73b706",
            "5a4d62a9e18f41c5abad1d641327deaa",
            "a1c08c51c9534ba3979d41dd9e652750",
            "cc93b190b9de4632b626b5e7f87b5ecc",
            "b4b12e2ff29345f7997a378e88cc3c1e",
            "7c9bf6d9742e4a68a016887f537604bc",
            "8e7bd0c07c464222b4d195a893f63d3c"
          ]
        },
        "id": "TK2eK57VyIP5",
        "outputId": "5052ba8a-3915-4d4a-fb99-0c6627915b05"
      },
      "execution_count": 25,
      "outputs": [
        {
          "output_type": "stream",
          "name": "stdout",
          "text": [
            "\u001b[1mDownloading and preparing dataset 4.44 KiB (download: 4.44 KiB, generated: Unknown size, total: 4.44 KiB) to ~/tensorflow_datasets/iris/2.0.0...\u001b[0m\n"
          ]
        },
        {
          "output_type": "display_data",
          "data": {
            "text/plain": [
              "Dl Completed...: 0 url [00:00, ? url/s]"
            ],
            "application/vnd.jupyter.widget-view+json": {
              "version_major": 2,
              "version_minor": 0,
              "model_id": "4b769a15c71745679a4b2ec0eff8cae0"
            }
          },
          "metadata": {}
        },
        {
          "output_type": "display_data",
          "data": {
            "text/plain": [
              "Dl Size...: 0 MiB [00:00, ? MiB/s]"
            ],
            "application/vnd.jupyter.widget-view+json": {
              "version_major": 2,
              "version_minor": 0,
              "model_id": "e343a3cb29ca485cb632f0953cf16c84"
            }
          },
          "metadata": {}
        },
        {
          "output_type": "display_data",
          "data": {
            "text/plain": [
              "Generating splits...:   0%|          | 0/1 [00:00<?, ? splits/s]"
            ],
            "application/vnd.jupyter.widget-view+json": {
              "version_major": 2,
              "version_minor": 0,
              "model_id": "6978425d95af47ec8e3479b90c5e1b1d"
            }
          },
          "metadata": {}
        },
        {
          "output_type": "display_data",
          "data": {
            "text/plain": [
              "Generating train examples...:   0%|          | 0/150 [00:00<?, ? examples/s]"
            ],
            "application/vnd.jupyter.widget-view+json": {
              "version_major": 2,
              "version_minor": 0,
              "model_id": "7e86734665a440689cdd6fe14c068b4b"
            }
          },
          "metadata": {}
        },
        {
          "output_type": "display_data",
          "data": {
            "text/plain": [
              "Shuffling ~/tensorflow_datasets/iris/2.0.0.incompleteRIQUX2/iris-train.tfrecord*...:   0%|          | 0/150 [0…"
            ],
            "application/vnd.jupyter.widget-view+json": {
              "version_major": 2,
              "version_minor": 0,
              "model_id": "ef887e914f26468ca298f229aa6d4a76"
            }
          },
          "metadata": {}
        },
        {
          "output_type": "stream",
          "name": "stdout",
          "text": [
            "\u001b[1mDataset iris downloaded and prepared to ~/tensorflow_datasets/iris/2.0.0. Subsequent calls will reuse this data.\u001b[0m\n",
            "tfds.core.DatasetInfo(\n",
            "    name='iris',\n",
            "    full_name='iris/2.0.0',\n",
            "    description=\"\"\"\n",
            "    This is perhaps the best known database to be found in the pattern recognition\n",
            "    literature. Fisher's paper is a classic in the field and is referenced\n",
            "    frequently to this day. (See Duda & Hart, for example.) The data set contains\n",
            "    3 classes of 50 instances each, where each class refers to a type of iris\n",
            "    plant. One class is linearly separable from the other 2; the latter are NOT\n",
            "    linearly separable from each other.\n",
            "    \"\"\",\n",
            "    homepage='https://archive.ics.uci.edu/ml/datasets/iris',\n",
            "    data_path='~/tensorflow_datasets/iris/2.0.0',\n",
            "    file_format=tfrecord,\n",
            "    download_size=4.44 KiB,\n",
            "    dataset_size=7.62 KiB,\n",
            "    features=FeaturesDict({\n",
            "        'features': Tensor(shape=(4,), dtype=tf.float32),\n",
            "        'label': ClassLabel(shape=(), dtype=tf.int64, num_classes=3),\n",
            "    }),\n",
            "    supervised_keys=('features', 'label'),\n",
            "    disable_shuffling=False,\n",
            "    splits={\n",
            "        'train': <SplitInfo num_examples=150, num_shards=1>,\n",
            "    },\n",
            "    citation=\"\"\"@misc{Dua:2019 ,\n",
            "    author = \"Dua, Dheeru and Graff, Casey\",\n",
            "    year = \"2017\",\n",
            "    title = \"{UCI} Machine Learning Repository\",\n",
            "    url = \"http://archive.ics.uci.edu/ml\",\n",
            "    institution = \"University of California, Irvine, School of Information and Computer Sciences\"\n",
            "    }\"\"\",\n",
            ")\n"
          ]
        }
      ]
    },
    {
      "cell_type": "code",
      "source": [
        "tf.random.set_seed(1)\n",
        "\n",
        "ds_orig = iris['train']\n",
        "ds_orig = ds_orig.shuffle(150, reshuffle_each_iteration=False)\n",
        "\n",
        "print(next(iter(ds_orig)))\n",
        "\n",
        "ds_train_orig = ds_orig.take(100)\n",
        "ds_test = ds_orig.skip(100)"
      ],
      "metadata": {
        "colab": {
          "base_uri": "https://localhost:8080/"
        },
        "id": "YPK7Uqa4zDKC",
        "outputId": "46e8cbf9-8db4-434d-ff2e-9b03999ff630"
      },
      "execution_count": 27,
      "outputs": [
        {
          "output_type": "stream",
          "name": "stdout",
          "text": [
            "{'features': <tf.Tensor: shape=(4,), dtype=float32, numpy=array([6.5, 3. , 5.2, 2. ], dtype=float32)>, 'label': <tf.Tensor: shape=(), dtype=int64, numpy=2>}\n"
          ]
        }
      ]
    },
    {
      "cell_type": "code",
      "source": [
        "## 샘플 개수 확인\n",
        "\n",
        "n = 0\n",
        "\n",
        "for example in ds_train_orig:\n",
        "  n += 1\n",
        "\n",
        "print(n)\n",
        "\n",
        "n = 0\n",
        "\n",
        "for example in ds_test:\n",
        "  n += 1\n",
        "\n",
        "print(n)"
      ],
      "metadata": {
        "colab": {
          "base_uri": "https://localhost:8080/"
        },
        "id": "riXGJKjw0EJe",
        "outputId": "a23c31c5-14f0-42b6-9e6d-7685bb07f9b4"
      },
      "execution_count": 28,
      "outputs": [
        {
          "output_type": "stream",
          "name": "stdout",
          "text": [
            "100\n",
            "50\n"
          ]
        }
      ]
    },
    {
      "cell_type": "code",
      "source": [
        "ds_train_orig = ds_train_orig.map(\n",
        "    lambda x: (x['features'], x['label']))\n",
        "\n",
        "ds_test = ds_test.map(\n",
        "    lambda x: (x['features'], x['label']))\n",
        "\n",
        "next(iter(ds_train_orig))"
      ],
      "metadata": {
        "colab": {
          "base_uri": "https://localhost:8080/"
        },
        "id": "MScjo6NR0UOD",
        "outputId": "5678e8ad-ec8e-4773-f769-1fba5e2d7fa9"
      },
      "execution_count": 29,
      "outputs": [
        {
          "output_type": "execute_result",
          "data": {
            "text/plain": [
              "(<tf.Tensor: shape=(4,), dtype=float32, numpy=array([6.5, 3. , 5.2, 2. ], dtype=float32)>,\n",
              " <tf.Tensor: shape=(), dtype=int64, numpy=2>)"
            ]
          },
          "metadata": {},
          "execution_count": 29
        }
      ]
    },
    {
      "cell_type": "code",
      "source": [
        "iris_model = tf.keras.Sequential([\n",
        "    tf.keras.layers.Dense(16, activation='sigmoid', \n",
        "                          name='fc1', input_shape=(4,)),\n",
        "    tf.keras.layers.Dense(3, name='fc2', activation='softmax')])\n",
        "\n",
        "iris_model.summary()"
      ],
      "metadata": {
        "colab": {
          "base_uri": "https://localhost:8080/"
        },
        "id": "HkX4FI060bdW",
        "outputId": "2ca2233c-9a2e-41e7-d0c5-775f79f04d8f"
      },
      "execution_count": 30,
      "outputs": [
        {
          "output_type": "stream",
          "name": "stdout",
          "text": [
            "Model: \"sequential\"\n",
            "_________________________________________________________________\n",
            " Layer (type)                Output Shape              Param #   \n",
            "=================================================================\n",
            " fc1 (Dense)                 (None, 16)                80        \n",
            "                                                                 \n",
            " fc2 (Dense)                 (None, 3)                 51        \n",
            "                                                                 \n",
            "=================================================================\n",
            "Total params: 131\n",
            "Trainable params: 131\n",
            "Non-trainable params: 0\n",
            "_________________________________________________________________\n"
          ]
        }
      ]
    },
    {
      "cell_type": "code",
      "source": [
        "iris_model.compile(optimizer='adam',\n",
        "                   loss='sparse_categorical_crossentropy',\n",
        "                   metrics=['accuracy'])"
      ],
      "metadata": {
        "id": "ZAlluhCl1CM4"
      },
      "execution_count": 31,
      "outputs": []
    },
    {
      "cell_type": "code",
      "source": [
        "num_epochs = 100\n",
        "training_size = 100\n",
        "batch_size = 2\n",
        "steps_per_epoch = np.ceil(training_size / batch_size)\n",
        "\n",
        "ds_train = ds_train_orig.shuffle(buffer_size=training_size)\n",
        "ds_train = ds_train.repeat()\n",
        "ds_train = ds_train.batch(batch_size=batch_size)\n",
        "ds_train = ds_train.prefetch(buffer_size=1000)\n",
        "\n",
        "\n",
        "history = iris_model.fit(ds_train, epochs=num_epochs,\n",
        "                         steps_per_epoch=steps_per_epoch, \n",
        "                         verbose=0)"
      ],
      "metadata": {
        "id": "py2SqiCZ1cMq"
      },
      "execution_count": 32,
      "outputs": []
    },
    {
      "cell_type": "code",
      "source": [
        "hist = history.history\n",
        "\n",
        "fig = plt.figure(figsize=(12, 5))\n",
        "ax = fig.add_subplot(1, 2, 1)\n",
        "ax.plot(hist['loss'], lw=3)\n",
        "ax.set_title('Training loss', size=15)\n",
        "ax.set_xlabel('Epoch', size=15)\n",
        "ax.tick_params(axis='both', which='major', labelsize=15)\n",
        "\n",
        "ax = fig.add_subplot(1, 2, 2)\n",
        "ax.plot(hist['accuracy'], lw=3)\n",
        "ax.set_title('Training accuracy', size=15)\n",
        "ax.set_xlabel('Epoch', size=15)\n",
        "ax.tick_params(axis='both', which='major', labelsize=15)\n",
        "plt.tight_layout()\n",
        "# plt.savefig('images/13_7.png', dpi=300)\n",
        "plt.show()"
      ],
      "metadata": {
        "colab": {
          "base_uri": "https://localhost:8080/",
          "height": 294
        },
        "id": "0XY00oet1nP0",
        "outputId": "8258c58d-25d5-4ad4-88fe-8fbf54c3a917"
      },
      "execution_count": 35,
      "outputs": [
        {
          "output_type": "display_data",
          "data": {
            "text/plain": [
              "<Figure size 864x360 with 2 Axes>"
            ],
            "image/png": "[encoded data removed]"
          },
          "metadata": {
            "needs_background": "light"
          }
        }
      ]
    },
    {
      "cell_type": "code",
      "source": [
        "# 테스트 데이터셋에서 훈련된 모델 평가하기\n",
        "results = iris_model.evaluate(ds_test.batch(50), verbose=0)\n",
        "print('테스트 손실: {:.4f}   테스트 정확도: {:.4f}'.format(*results))"
      ],
      "metadata": {
        "colab": {
          "base_uri": "https://localhost:8080/"
        },
        "id": "prUBVu3r1xDV",
        "outputId": "6dada253-ab69-4175-981a-c91a9488e25d"
      },
      "execution_count": 36,
      "outputs": [
        {
          "output_type": "stream",
          "name": "stdout",
          "text": [
            "테스트 손실: 0.1483   테스트 정확도: 0.9800\n"
          ]
        }
      ]
    },
    {
      "cell_type": "code",
      "source": [
        "# 훈련된 모델 저장하고 복원하기\n",
        "\n",
        "\n",
        "iris_model.save('iris-classifier.h5', \n",
        "                overwrite=True,\n",
        "                include_optimizer=True,\n",
        "                save_format='h5')"
      ],
      "metadata": {
        "id": "vKLippdH2T_s"
      },
      "execution_count": 37,
      "outputs": []
    },
    {
      "cell_type": "code",
      "source": [
        "iris_model_new = tf.keras.models.load_model('iris-classifier.h5')\n",
        "\n",
        "iris_model_new.summary()"
      ],
      "metadata": {
        "colab": {
          "base_uri": "https://localhost:8080/"
        },
        "id": "BoeK2OBf2cz0",
        "outputId": "b75d344c-f3b1-44d6-84b6-1ac4b3a202f0"
      },
      "execution_count": 38,
      "outputs": [
        {
          "output_type": "stream",
          "name": "stdout",
          "text": [
            "Model: \"sequential\"\n",
            "_________________________________________________________________\n",
            " Layer (type)                Output Shape              Param #   \n",
            "=================================================================\n",
            " fc1 (Dense)                 (None, 16)                80        \n",
            "                                                                 \n",
            " fc2 (Dense)                 (None, 3)                 51        \n",
            "                                                                 \n",
            "=================================================================\n",
            "Total params: 131\n",
            "Trainable params: 131\n",
            "Non-trainable params: 0\n",
            "_________________________________________________________________\n"
          ]
        }
      ]
    },
    {
      "cell_type": "code",
      "source": [
        "results = iris_model_new.evaluate(ds_test.batch(50), verbose=0)\n",
        "print('테스트 손실: {:.4f}   테스트 정확도: {:.4f}'.format(*results))"
      ],
      "metadata": {
        "colab": {
          "base_uri": "https://localhost:8080/"
        },
        "id": "SHgreCHs2hFs",
        "outputId": "22005f0e-297b-4e35-fb98-9808ab984f98"
      },
      "execution_count": 39,
      "outputs": [
        {
          "output_type": "stream",
          "name": "stdout",
          "text": [
            "테스트 손실: 0.1483   테스트 정확도: 0.9800\n"
          ]
        }
      ]
    },
    {
      "cell_type": "code",
      "source": [
        "labels_train = []\n",
        "for i,item in enumerate(ds_train_orig):\n",
        "    labels_train.append(item[1].numpy())\n",
        "    \n",
        "labels_test = []\n",
        "for i,item in enumerate(ds_test):\n",
        "    labels_test.append(item[1].numpy())\n",
        "print('훈련 데이터셋: ',len(labels_train), '테스트 데이터셋: ', len(labels_test))"
      ],
      "metadata": {
        "colab": {
          "base_uri": "https://localhost:8080/"
        },
        "id": "oXOPOmvZ23zj",
        "outputId": "bd59ded9-5916-4c15-9eb1-4a082209f6f0"
      },
      "execution_count": 40,
      "outputs": [
        {
          "output_type": "stream",
          "name": "stdout",
          "text": [
            "훈련 데이터셋:  100 테스트 데이터셋:  50\n"
          ]
        }
      ]
    },
    {
      "cell_type": "code",
      "source": [
        "iris_model_new.to_json()"
      ],
      "metadata": {
        "colab": {
          "base_uri": "https://localhost:8080/",
          "height": 251
        },
        "id": "fI40gohp3oXO",
        "outputId": "7fa7b710-c8d0-43a8-c4dc-4c9dfe0ca2b5"
      },
      "execution_count": 41,
      "outputs": [
        {
          "output_type": "execute_result",
          "data": {
            "text/plain": [
              "'{\"class_name\": \"Sequential\", \"config\": {\"name\": \"sequential\", \"layers\": [{\"class_name\": \"InputLayer\", \"config\": {\"batch_input_shape\": [null, 4], \"dtype\": \"float32\", \"sparse\": false, \"ragged\": false, \"name\": \"fc1_input\"}}, {\"class_name\": \"Dense\", \"config\": {\"name\": \"fc1\", \"trainable\": true, \"batch_input_shape\": [null, 4], \"dtype\": \"float32\", \"units\": 16, \"activation\": \"sigmoid\", \"use_bias\": true, \"kernel_initializer\": {\"class_name\": \"GlorotUniform\", \"config\": {\"seed\": null}}, \"bias_initializer\": {\"class_name\": \"Zeros\", \"config\": {}}, \"kernel_regularizer\": null, \"bias_regularizer\": null, \"activity_regularizer\": null, \"kernel_constraint\": null, \"bias_constraint\": null}}, {\"class_name\": \"Dense\", \"config\": {\"name\": \"fc2\", \"trainable\": true, \"dtype\": \"float32\", \"units\": 3, \"activation\": \"softmax\", \"use_bias\": true, \"kernel_initializer\": {\"class_name\": \"GlorotUniform\", \"config\": {\"seed\": null}}, \"bias_initializer\": {\"class_name\": \"Zeros\", \"config\": {}}, \"kernel_regularizer\": null, \"bias_regularizer\": null, \"activity_regularizer\": null, \"kernel_constraint\": null, \"bias_constraint\": null}}]}, \"keras_version\": \"2.8.0\", \"backend\": \"tensorflow\"}'"
            ],
            "application/vnd.google.colaboratory.intrinsic+json": {
              "type": "string"
            }
          },
          "metadata": {},
          "execution_count": 41
        }
      ]
    },
    {
      "cell_type": "code",
      "source": [
        "from tensorflow.keras.callbacks import ModelCheckpoint, EarlyStopping\n",
        "\n",
        "callback_list = [ModelCheckpoint(filepath='iris-earlystopping.h5', \n",
        "                                 monitor='val_loss'),\n",
        "                 EarlyStopping(patience=3, restore_best_weights=True)]\n"
      ],
      "metadata": {
        "id": "UWquwyG63v3Q"
      },
      "execution_count": 42,
      "outputs": []
    },
    {
      "cell_type": "code",
      "source": [
        "tf.random.set_seed(1)\n",
        "\n",
        "model = tf.keras.models.model_from_json(iris_model.to_json())\n",
        "model.compile(optimizer='adam',\n",
        "              loss='sparse_categorical_crossentropy',\n",
        "              metrics=['accuracy'])\n",
        "history = model.fit(ds_train, epochs=500, \n",
        "                    steps_per_epoch=steps_per_epoch, \n",
        "                    validation_data=ds_test.batch(50), \n",
        "                    callbacks=callback_list,\n",
        "                    verbose=0)"
      ],
      "metadata": {
        "id": "yNaTAcGK33yu"
      },
      "execution_count": 43,
      "outputs": []
    },
    {
      "cell_type": "code",
      "source": [
        "hist = history.history\n",
        "\n",
        "fig = plt.figure(figsize=(12, 5))\n",
        "ax = fig.add_subplot(1, 2, 1)\n",
        "ax.plot(hist['loss'], lw=3)\n",
        "ax.plot(hist['val_loss'], lw=3)\n",
        "ax.set_title('Loss', size=15)\n",
        "ax.set_xlabel('Epoch', size=15)\n",
        "ax.tick_params(axis='both', which='major', labelsize=15)\n",
        "\n",
        "ax = fig.add_subplot(1, 2, 2)\n",
        "ax.plot(hist['accuracy'], lw=3)\n",
        "ax.plot(hist['val_accuracy'], lw=3)\n",
        "ax.set_title('Accuracy', size=15)\n",
        "ax.set_xlabel('Epoch', size=15)\n",
        "ax.tick_params(axis='both', which='major', labelsize=15)\n",
        "plt.tight_layout()\n",
        "# plt.savefig('images/13_earlystopping.png', dpi=300)\n",
        "plt.show()"
      ],
      "metadata": {
        "colab": {
          "base_uri": "https://localhost:8080/",
          "height": 296
        },
        "id": "YOltcXdp377G",
        "outputId": "5a5af085-cff7-4e64-dc83-6fcd93b7ff8b"
      },
      "execution_count": 44,
      "outputs": [
        {
          "output_type": "display_data",
          "data": {
            "text/plain": [
              "<Figure size 864x360 with 2 Axes>"
            ],
            "image/png": "[encoded data removed]"
          },
          "metadata": {
            "needs_background": "light"
          }
        }
      ]
    },
    {
      "cell_type": "code",
      "source": [
        "callback_list[1].stopped_epoch"
      ],
      "metadata": {
        "colab": {
          "base_uri": "https://localhost:8080/"
        },
        "id": "zpxc50z84Ik9",
        "outputId": "7c4c9ac9-c4f2-48ee-b1ed-26831630487c"
      },
      "execution_count": 45,
      "outputs": [
        {
          "output_type": "execute_result",
          "data": {
            "text/plain": [
              "145"
            ]
          },
          "metadata": {},
          "execution_count": 45
        }
      ]
    },
    {
      "cell_type": "code",
      "source": [
        "from tensorflow.keras.callbacks import TensorBoard\n",
        "\n",
        "callback_list = [ModelCheckpoint(filepath='iris-earlystopping.h5', \n",
        "                                 monitor='val_loss'),\n",
        "                 EarlyStopping(patience=3, restore_best_weights=True),\n",
        "                 TensorBoard()]"
      ],
      "metadata": {
        "id": "WUIgTXea4bLA"
      },
      "execution_count": 46,
      "outputs": []
    },
    {
      "cell_type": "code",
      "source": [
        "tf.random.set_seed(1)\n",
        "\n",
        "model = tf.keras.models.model_from_json(iris_model.to_json())\n",
        "model.compile(optimizer='adam',\n",
        "              loss='sparse_categorical_crossentropy',\n",
        "              metrics=['accuracy'])\n",
        "history = model.fit(ds_train, epochs=500, \n",
        "                    steps_per_epoch=steps_per_epoch, \n",
        "                    validation_data=ds_test.batch(50), \n",
        "                    callbacks=callback_list,\n",
        "                    verbose=0)"
      ],
      "metadata": {
        "id": "mp2sqzF-4has"
      },
      "execution_count": 47,
      "outputs": []
    },
    {
      "cell_type": "code",
      "source": [
        "# 터미널에서 입력하기 > 텐서보드 실행 명령어\n",
        "# tensorboard --logdir=logs/\n",
        "# %load_ext tensorboard\n",
        "# %tensorboard --logdir logs --port 6006"
      ],
      "metadata": {
        "id": "QeaQb5yM4pha"
      },
      "execution_count": 48,
      "outputs": []
    },
    {
      "cell_type": "code",
      "source": [
        "# 다층 신경망의 활성화 함수 선택\n",
        "\n",
        "# 로지스틱 함수 요약\n",
        "\n",
        "import numpy as np\n",
        "\n",
        "X = np.array([1, 1.4, 2.5]) ## first value must be 1\n",
        "w = np.array([0.4, 0.3, 0.5])\n",
        "\n",
        "def net_input(X, w):\n",
        "    return np.dot(X, w)\n",
        "\n",
        "def logistic(z):\n",
        "    return 1.0 / (1.0 + np.exp(-z))\n",
        "\n",
        "def logistic_activation(X, w):\n",
        "    z = net_input(X, w)\n",
        "    return logistic(z)\n",
        "\n",
        "print('P(y=1|x) = %.3f' % logistic_activation(X, w)) \n"
      ],
      "metadata": {
        "colab": {
          "base_uri": "https://localhost:8080/"
        },
        "id": "ZcRzX_n24_s-",
        "outputId": "f861bc4a-fdaa-4936-dec9-10f17114692f"
      },
      "execution_count": 49,
      "outputs": [
        {
          "output_type": "stream",
          "name": "stdout",
          "text": [
            "P(y=1|x) = 0.888\n"
          ]
        }
      ]
    },
    {
      "cell_type": "code",
      "source": [
        "# W : (n_output_units, n_hidden_units+1) 크기의 배열\n",
        "# 첫 번째 열은 절편 유닛입니다\n",
        "\n",
        "W = np.array([[1.1, 1.2, 0.8, 0.4],\n",
        "              [0.2, 0.4, 1.0, 0.2],\n",
        "              [0.6, 1.5, 1.2, 0.7]])\n",
        "\n",
        "# A : (n_hidden_units + 1, n_samples) 크기의 배열\n",
        "# 이 배열의 첫 번째 열은 1입니다\n",
        "\n",
        "A = np.array([[1, 0.1, 0.4, 0.6]])\n",
        "Z = np.dot(W, A[0])\n",
        "print(Z)\n",
        "y_probas = logistic(Z)\n",
        "print('최종 입력: \\n', Z)\n",
        "\n",
        "print('유닛 출력:\\n', y_probas) \n"
      ],
      "metadata": {
        "colab": {
          "base_uri": "https://localhost:8080/"
        },
        "id": "h627t_Ze5R-P",
        "outputId": "ade7095f-7507-468e-ceb9-c78cf36df083"
      },
      "execution_count": 53,
      "outputs": [
        {
          "output_type": "stream",
          "name": "stdout",
          "text": [
            "[1.78 0.76 1.65]\n",
            "최종 입력: \n",
            " [1.78 0.76 1.65]\n",
            "유닛 출력:\n",
            " [0.85569687 0.68135373 0.83889105]\n"
          ]
        }
      ]
    },
    {
      "cell_type": "code",
      "source": [
        "y_class = np.argmax(Z, axis=0)\n",
        "print('예측 클래스 레이블: %d' % y_class) "
      ],
      "metadata": {
        "colab": {
          "base_uri": "https://localhost:8080/"
        },
        "id": "Meqpyhlo9QRq",
        "outputId": "75792dc3-c8f5-4492-c1c6-9ad239032cf3"
      },
      "execution_count": 54,
      "outputs": [
        {
          "output_type": "stream",
          "name": "stdout",
          "text": [
            "예측 클래스 레이블: 0\n"
          ]
        }
      ]
    },
    {
      "cell_type": "code",
      "source": [
        "# 소프트맥스 함수를 사용한 다중 클래스 확률 예측\n",
        "def softmax(z):\n",
        "    return np.exp(z) / np.sum(np.exp(z))\n",
        "\n",
        "y_probas = softmax(Z)\n",
        "print('확률:\\n', y_probas)\n",
        "\n",
        "np.sum(y_probas)"
      ],
      "metadata": {
        "colab": {
          "base_uri": "https://localhost:8080/"
        },
        "id": "TaGL-Elp-Z5p",
        "outputId": "03a78feb-8856-4f3e-8859-56618e6f84d2"
      },
      "execution_count": 55,
      "outputs": [
        {
          "output_type": "stream",
          "name": "stdout",
          "text": [
            "확률:\n",
            " [0.44668973 0.16107406 0.39223621]\n"
          ]
        },
        {
          "output_type": "execute_result",
          "data": {
            "text/plain": [
              "1.0"
            ]
          },
          "metadata": {},
          "execution_count": 55
        }
      ]
    },
    {
      "cell_type": "code",
      "source": [
        "import tensorflow as tf\n",
        "\n",
        "Z_tensor = tf.expand_dims(Z, axis=0)\n",
        "tf.keras.activations.softmax(Z_tensor)\n"
      ],
      "metadata": {
        "colab": {
          "base_uri": "https://localhost:8080/"
        },
        "id": "cPSjySAt-c-e",
        "outputId": "bbe7ab79-2f12-4be5-d2ea-e366ad614314"
      },
      "execution_count": 56,
      "outputs": [
        {
          "output_type": "execute_result",
          "data": {
            "text/plain": [
              "<tf.Tensor: shape=(1, 3), dtype=float64, numpy=array([[0.44668973, 0.16107406, 0.39223621]])>"
            ]
          },
          "metadata": {},
          "execution_count": 56
        }
      ]
    },
    {
      "cell_type": "code",
      "source": [
        "# 하이퍼볼릭 탄젠트로 출력 범위 넓히기\n",
        "\n",
        "import matplotlib.pyplot as plt\n",
        "%matplotlib inline\n",
        "\n",
        "def tanh(z):\n",
        "    e_p = np.exp(z)\n",
        "    e_m = np.exp(-z)\n",
        "    return (e_p - e_m) / (e_p + e_m)\n",
        "\n",
        "z = np.arange(-5, 5, 0.005)\n",
        "log_act = logistic(z)\n",
        "tanh_act = tanh(z)\n",
        "plt.ylim([-1.5, 1.5])\n",
        "plt.xlabel('Net input $z$')\n",
        "plt.ylabel('Activation $\\phi(z)$')\n",
        "plt.axhline(1, color='black', linestyle=':')\n",
        "plt.axhline(0.5, color='black', linestyle=':')\n",
        "plt.axhline(0, color='black', linestyle=':')\n",
        "plt.axhline(-0.5, color='black', linestyle=':')\n",
        "plt.axhline(-1, color='black', linestyle=':')\n",
        "plt.plot(z, tanh_act,\n",
        "    linewidth=3, linestyle='--',\n",
        "    label='Tanh')\n",
        "plt.plot(z, log_act,\n",
        "    linewidth=3,\n",
        "    label='Logistic')\n",
        "plt.legend(loc='lower right')\n",
        "plt.tight_layout()\n",
        "# plt.savefig('images/13_8.png', dpi=300)\n",
        "plt.show()"
      ],
      "metadata": {
        "colab": {
          "base_uri": "https://localhost:8080/",
          "height": 297
        },
        "id": "m0vrP4Oh-8mZ",
        "outputId": "18b81fa5-0b6f-4836-b880-2a8db4642240"
      },
      "execution_count": 57,
      "outputs": [
        {
          "output_type": "display_data",
          "data": {
            "text/plain": [
              "<Figure size 432x288 with 1 Axes>"
            ],
            "image/png": "[encoded data removed]"
          },
          "metadata": {
            "needs_background": "light"
          }
        }
      ]
    },
    {
      "cell_type": "code",
      "source": [
        "np.tanh(z)"
      ],
      "metadata": {
        "colab": {
          "base_uri": "https://localhost:8080/"
        },
        "id": "ZBZs49rQAUuX",
        "outputId": "2dceb123-0cd5-42c4-c373-4ee88dcb9c95"
      },
      "execution_count": 58,
      "outputs": [
        {
          "output_type": "execute_result",
          "data": {
            "text/plain": [
              "array([-0.9999092 , -0.99990829, -0.99990737, ...,  0.99990644,\n",
              "        0.99990737,  0.99990829])"
            ]
          },
          "metadata": {},
          "execution_count": 58
        }
      ]
    },
    {
      "cell_type": "code",
      "source": [
        "\n",
        "import tensorflow as tf\n",
        "\n",
        "tf.keras.activations.tanh(z)"
      ],
      "metadata": {
        "colab": {
          "base_uri": "https://localhost:8080/"
        },
        "id": "nkWjKcbEAZNs",
        "outputId": "61ef5683-25f7-4303-dd56-a9d980c4362b"
      },
      "execution_count": 59,
      "outputs": [
        {
          "output_type": "execute_result",
          "data": {
            "text/plain": [
              "<tf.Tensor: shape=(2000,), dtype=float64, numpy=\n",
              "array([-0.9999092 , -0.99990829, -0.99990737, ...,  0.99990644,\n",
              "        0.99990737,  0.99990829])>"
            ]
          },
          "metadata": {},
          "execution_count": 59
        }
      ]
    },
    {
      "cell_type": "code",
      "source": [
        "from scipy.special import expit\n",
        "\n",
        "expit(z)"
      ],
      "metadata": {
        "colab": {
          "base_uri": "https://localhost:8080/"
        },
        "id": "p9nxLc5iAiQK",
        "outputId": "97b576e2-531b-4771-9e2d-278121fa84c8"
      },
      "execution_count": 60,
      "outputs": [
        {
          "output_type": "execute_result",
          "data": {
            "text/plain": [
              "array([0.00669285, 0.00672617, 0.00675966, ..., 0.99320669, 0.99324034,\n",
              "       0.99327383])"
            ]
          },
          "metadata": {},
          "execution_count": 60
        }
      ]
    },
    {
      "cell_type": "code",
      "source": [
        "\n",
        "tf.keras.activations.sigmoid(z)"
      ],
      "metadata": {
        "colab": {
          "base_uri": "https://localhost:8080/"
        },
        "id": "8W7gHujgAjkV",
        "outputId": "180bdcfb-8ef5-475e-efb3-d66a93fb828f"
      },
      "execution_count": 61,
      "outputs": [
        {
          "output_type": "execute_result",
          "data": {
            "text/plain": [
              "<tf.Tensor: shape=(2000,), dtype=float64, numpy=\n",
              "array([0.00669285, 0.00672617, 0.00675966, ..., 0.99320669, 0.99324034,\n",
              "       0.99327383])>"
            ]
          },
          "metadata": {},
          "execution_count": 61
        }
      ]
    },
    {
      "cell_type": "code",
      "source": [
        "# 렐루 활성화 함수\n",
        "import tensorflow as tf\n",
        "\n",
        "tf.keras.activations.relu(z)"
      ],
      "metadata": {
        "colab": {
          "base_uri": "https://localhost:8080/"
        },
        "id": "JHRfgjfhAklA",
        "outputId": "826cfc79-843e-45b8-d5e0-3c94401d416b"
      },
      "execution_count": 62,
      "outputs": [
        {
          "output_type": "execute_result",
          "data": {
            "text/plain": [
              "<tf.Tensor: shape=(2000,), dtype=float64, numpy=array([0.   , 0.   , 0.   , ..., 4.985, 4.99 , 4.995])>"
            ]
          },
          "metadata": {},
          "execution_count": 62
        }
      ]
    },
    {
      "cell_type": "code",
      "source": [
        ""
      ],
      "metadata": {
        "id": "bguqPZFTAzjz"
      },
      "execution_count": null,
      "outputs": []
    }
  ]
}